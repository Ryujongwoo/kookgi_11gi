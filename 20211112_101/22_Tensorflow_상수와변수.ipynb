{
 "cells": [
  {
   "cell_type": "code",
   "execution_count": 1,
   "id": "77784fbe",
   "metadata": {},
   "outputs": [],
   "source": [
    "import warnings\n",
    "warnings.filterwarnings('ignore')"
   ]
  },
  {
   "cell_type": "code",
   "execution_count": 2,
   "id": "263237aa",
   "metadata": {},
   "outputs": [
    {
     "name": "stdout",
     "output_type": "stream",
     "text": [
      "WARNING:tensorflow:From c:\\python\\lib\\site-packages\\tensorflow\\python\\compat\\v2_compat.py:101: disable_resource_variables (from tensorflow.python.ops.variable_scope) is deprecated and will be removed in a future version.\n",
      "Instructions for updating:\n",
      "non-resource variables are not supported in the long term\n",
      "2.6.0\n"
     ]
    }
   ],
   "source": [
    "# tensorflow 라이브러리를 설치하고 tf라는 별명을 지정한다.\n",
    "# !pip install tensorflow\n",
    "# import tensorflow as tf # 2.x 버전 import\n",
    "# tensorflow 2.x 버전이 설치된 경우 tensorflow 1.x 버전 문법을 사용하기 위해 아래와 같이 import 한다.\n",
    "import tensorflow.compat.v1 as tf\n",
    "# tensorflow 2.x 버전의 문법을 사용하지 않겠다고 선언한다.\n",
    "tf.disable_v2_behavior()\n",
    "print(tf.__version__)"
   ]
  },
  {
   "cell_type": "markdown",
   "id": "01bd3702",
   "metadata": {},
   "source": [
    "상수, 수식을 만든다. => 세션을 만든다. => 실행한다."
   ]
  },
  {
   "cell_type": "markdown",
   "id": "31db4fc2",
   "metadata": {},
   "source": [
    "temsorflow 상수"
   ]
  },
  {
   "cell_type": "code",
   "execution_count": 52,
   "id": "45cc78c4",
   "metadata": {},
   "outputs": [
    {
     "name": "stdout",
     "output_type": "stream",
     "text": [
      "Tensor(\"Const_65:0\", shape=(), dtype=int32)\n",
      "Tensor(\"Const_66:0\", shape=(), dtype=int32)\n",
      "Tensor(\"add_17:0\", shape=(), dtype=int32)\n",
      "Tensor(\"Add_18:0\", shape=(), dtype=int32)\n",
      "a: 300\n",
      "b: 500\n",
      "c: 800\n",
      "d: 800\n"
     ]
    }
   ],
   "source": [
    "# constant() 함수로 tensorflow에서 사용할 상수를 정의한다.\n",
    "a = tf.constant(300) # 상수를 정의한다.\n",
    "print(a)\n",
    "b = tf.constant(500) # 상수를 정의한다.\n",
    "print(b)\n",
    "c = a + b # 수식을 정의한다.\n",
    "print(c)\n",
    "d = tf.add(a, b)\n",
    "print(d)\n",
    "\n",
    "# tensorflow는 반드시 Session이라는 작업 영역을 만든 후 상수, 변수, 수식을 대입한 다음 실행해야 한다.\n",
    "sess = tf.Session() # Session을 만든다.\n",
    "# run() 함수로 Session의 내용을 실행한다.\n",
    "print('a: {}'.format(sess.run(a)))\n",
    "print('b: {}'.format(sess.run(b)))\n",
    "print('c: {}'.format(sess.run(c)))\n",
    "print('d: {}'.format(sess.run(d)))"
   ]
  },
  {
   "cell_type": "markdown",
   "id": "cb32890e",
   "metadata": {},
   "source": [
    "변수를 만든다. => 세션을 만든다. => 변수를 초기화 시킨다. => 실행한다."
   ]
  },
  {
   "cell_type": "markdown",
   "id": "650f472b",
   "metadata": {},
   "source": [
    "tensorflow 변수"
   ]
  },
  {
   "cell_type": "code",
   "execution_count": 71,
   "id": "7fbb6fea",
   "metadata": {},
   "outputs": [
    {
     "name": "stdout",
     "output_type": "stream",
     "text": [
      "<tf.Variable 'Variable_25:0' shape=() dtype=int32_ref>\n",
      "<tf.Variable 'Variable_26:0' shape=() dtype=int32_ref>\n",
      "Tensor(\"mul_8:0\", shape=(), dtype=int32)\n",
      "a: 5\n",
      "b: 3\n",
      "c: 15\n",
      "d: 45\n"
     ]
    }
   ],
   "source": [
    "# Variable() 함수로 tensorflow에서 사용할 변수를 정의한다.\n",
    "a = tf.Variable(5) # 변수를 정의한다.\n",
    "print(a)\n",
    "b = tf.Variable(3) # 변수를 정의한다.\n",
    "print(b)\n",
    "c = a * b\n",
    "print(c)\n",
    "\n",
    "sess = tf.Session()\n",
    "\n",
    "# Variable() 함수를 사용해서 생성한 변수는 반드시 사용하기 전에 초기화시켜야 한다.\n",
    "# 변수 초기화는 변수를 사용하기 전에만 해주면 된다.\n",
    "\n",
    "# tensorflow 변수 초기화\n",
    "# global_variables_initializer() 함수로 tensorflow에서 사용할 변수를 초기화시킨다.\n",
    "# init = tf.global_variables_initializer()\n",
    "# sess.run(init)\n",
    "# 위의 2줄로 사용한 변수 초기화를 아래와 같이 1줄로 줄여서 사용할 수 있다.\n",
    "sess.run(tf.global_variables_initializer())\n",
    "\n",
    "print('a: {}'.format(sess.run(a)))\n",
    "print('b: {}'.format(sess.run(b)))\n",
    "print('c: {}'.format(sess.run(c)))\n",
    "\n",
    "a = tf.Variable(15) # 변수에 저장된 데이터를 변경했다.\n",
    "# 변수에 저장된 데이터가 변경되면 데이터가 변경된 변수를 사용하기 전에 다시 초기화를 시켜야 한다.\n",
    "sess.run(tf.global_variables_initializer())\n",
    "d = tf.multiply(a, b)\n",
    "print('d: {}'.format(sess.run(d)))"
   ]
  },
  {
   "cell_type": "code",
   "execution_count": null,
   "id": "c352fb46",
   "metadata": {},
   "outputs": [],
   "source": []
  },
  {
   "cell_type": "code",
   "execution_count": null,
   "id": "a0ba2d5d",
   "metadata": {},
   "outputs": [],
   "source": []
  },
  {
   "cell_type": "code",
   "execution_count": null,
   "id": "29f4b18e",
   "metadata": {},
   "outputs": [],
   "source": []
  },
  {
   "cell_type": "code",
   "execution_count": null,
   "id": "3a6e68c0",
   "metadata": {},
   "outputs": [],
   "source": []
  },
  {
   "cell_type": "code",
   "execution_count": null,
   "id": "dbe0f666",
   "metadata": {},
   "outputs": [],
   "source": []
  },
  {
   "cell_type": "code",
   "execution_count": null,
   "id": "ef925fb8",
   "metadata": {},
   "outputs": [],
   "source": []
  },
  {
   "cell_type": "code",
   "execution_count": null,
   "id": "13f88562",
   "metadata": {},
   "outputs": [],
   "source": []
  },
  {
   "cell_type": "code",
   "execution_count": null,
   "id": "d3d09afb",
   "metadata": {},
   "outputs": [],
   "source": []
  }
 ],
 "metadata": {
  "kernelspec": {
   "display_name": "Python 3",
   "language": "python",
   "name": "python3"
  },
  "language_info": {
   "codemirror_mode": {
    "name": "ipython",
    "version": 3
   },
   "file_extension": ".py",
   "mimetype": "text/x-python",
   "name": "python",
   "nbconvert_exporter": "python",
   "pygments_lexer": "ipython3",
   "version": "3.6.8"
  }
 },
 "nbformat": 4,
 "nbformat_minor": 5
}
