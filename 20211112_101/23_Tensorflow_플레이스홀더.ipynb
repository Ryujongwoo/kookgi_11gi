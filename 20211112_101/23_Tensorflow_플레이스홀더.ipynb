{
 "cells": [
  {
   "cell_type": "code",
   "execution_count": 2,
   "id": "fac6afef",
   "metadata": {},
   "outputs": [],
   "source": [
    "import warnings\n",
    "warnings.filterwarnings('ignore')\n",
    "import tensorflow.compat.v1 as tf\n",
    "tf.disable_v2_behavior()"
   ]
  },
  {
   "cell_type": "markdown",
   "id": "50d7749e",
   "metadata": {},
   "source": [
    "placeholder는 tensorflow에서 사용하는 여러건의 학습 데이터를 저장하는 변수의 일종이다.  \n",
    "placeholder(dtype, shape, name)  \n",
    "dtype => placeholder에 저장되는 데이터의 자료형  \n",
    "shape => placeholder에 저장되는 데이터의 차원 => 1차원 데이터는 생략가능 하고 2차원 이상의 데이터는 써줘야 한다.  \n",
    "name => placeholder의 이름 => 생략가능"
   ]
  },
  {
   "cell_type": "code",
   "execution_count": 9,
   "id": "0da51d8a",
   "metadata": {},
   "outputs": [
    {
     "name": "stdout",
     "output_type": "stream",
     "text": [
      "[6. 6. 6. 6. 6.]\n"
     ]
    }
   ],
   "source": [
    "# placeholder에 저장할 데이터를 선언한다.\n",
    "xData = [1, 2, 3, 4, 5]\n",
    "yData = [5, 4, 3, 2, 1]\n",
    "\n",
    "# placeholder를 선언한다.\n",
    "x = tf.placeholder(dtype=tf.float32) # xData의 내용을 기억할 placeholder\n",
    "y = tf.placeholder(dtype=tf.float32) # yData의 내용을 기억할 placeholder\n",
    "\n",
    "# placeholder를 사용하는 수식을 선언한다.\n",
    "z = x + y\n",
    "\n",
    "sess = tf.Session()\n",
    "\n",
    "# placeholder에 데이터를 대입하고 실행한다.\n",
    "# z라고 정의한 연산식을 실행한다. => z에 연산 결과를 저장할 x, y placeholder에 데이터가 채워져있지 않기 때문에 반드시 \n",
    "# 'feed_dict'라는 이름의 딕셔너리를 사용해서 데이터를 넣어준 후 연산을 실행해야 한다.\n",
    "# 'feed_dict' 딕셔너리의 구조 => {placeholder 이름: 데이터, placeholder 이름: 데이터, ...} => 데이터는 반드시 리스트 또는 튜플\n",
    "# 타입의 데이터를 사용해야 한다.\n",
    "result = sess.run(z, feed_dict={x: xData, y: yData})\n",
    "print(result)"
   ]
  },
  {
   "cell_type": "code",
   "execution_count": null,
   "id": "5ff455e8",
   "metadata": {},
   "outputs": [],
   "source": []
  },
  {
   "cell_type": "code",
   "execution_count": null,
   "id": "5f9f820d",
   "metadata": {},
   "outputs": [],
   "source": []
  },
  {
   "cell_type": "code",
   "execution_count": null,
   "id": "411a6f98",
   "metadata": {},
   "outputs": [],
   "source": []
  },
  {
   "cell_type": "code",
   "execution_count": null,
   "id": "9ce89f13",
   "metadata": {},
   "outputs": [],
   "source": []
  },
  {
   "cell_type": "code",
   "execution_count": null,
   "id": "86e82118",
   "metadata": {},
   "outputs": [],
   "source": []
  },
  {
   "cell_type": "code",
   "execution_count": null,
   "id": "27302ae8",
   "metadata": {},
   "outputs": [],
   "source": []
  },
  {
   "cell_type": "code",
   "execution_count": null,
   "id": "4d9fa58e",
   "metadata": {},
   "outputs": [],
   "source": []
  }
 ],
 "metadata": {
  "kernelspec": {
   "display_name": "Python 3",
   "language": "python",
   "name": "python3"
  },
  "language_info": {
   "codemirror_mode": {
    "name": "ipython",
    "version": 3
   },
   "file_extension": ".py",
   "mimetype": "text/x-python",
   "name": "python",
   "nbconvert_exporter": "python",
   "pygments_lexer": "ipython3",
   "version": "3.6.8"
  }
 },
 "nbformat": 4,
 "nbformat_minor": 5
}
