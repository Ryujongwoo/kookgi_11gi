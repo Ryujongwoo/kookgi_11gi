{
 "cells": [
  {
   "cell_type": "code",
   "execution_count": 1,
   "id": "03d448ac",
   "metadata": {},
   "outputs": [
    {
     "name": "stdout",
     "output_type": "stream",
     "text": [
      "WARNING:tensorflow:From c:\\python\\lib\\site-packages\\tensorflow\\python\\compat\\v2_compat.py:101: disable_resource_variables (from tensorflow.python.ops.variable_scope) is deprecated and will be removed in a future version.\n",
      "Instructions for updating:\n",
      "non-resource variables are not supported in the long term\n"
     ]
    }
   ],
   "source": [
    "import warnings\n",
    "warnings.filterwarnings('ignore')\n",
    "import tensorflow.compat.v1 as tf\n",
    "tf.disable_v2_behavior()"
   ]
  },
  {
   "cell_type": "markdown",
   "id": "3e6ea30e",
   "metadata": {},
   "source": [
    "학습 데이터를 만든다."
   ]
  },
  {
   "cell_type": "code",
   "execution_count": 2,
   "id": "d3709e64",
   "metadata": {},
   "outputs": [],
   "source": [
    "xData = [1, 2, 3, 4, 5, 6, 7] # 근무 시간\n",
    "yData = [25000, 55000, 75000, 110000, 128000, 155000, 180000] # 근무 시간에 따른 매출 금액 => 실제 관찰된 값 => 실제값"
   ]
  },
  {
   "cell_type": "markdown",
   "id": "aa02dc0a",
   "metadata": {},
   "source": [
    "난수를 발생시켜 학습할 데이터의 기울기(가중치)와 y절편(바이어스)를 정한다.  \n",
    "난수를 발생시켜 작업하는 이유는 과적합을 방지하기 위해서이다.  \n",
    "과적합이란 학습에 사용한 데이터에서는 높은 정확도를 보이지만 학습시킨 데이터 이외의 데이터에서는 낮은 정확도를 보이는 문제점을 말한다."
   ]
  },
  {
   "cell_type": "code",
   "execution_count": 3,
   "id": "42741a28",
   "metadata": {},
   "outputs": [
    {
     "name": "stdout",
     "output_type": "stream",
     "text": [
      "a: <tf.Variable 'Variable:0' shape=(1,) dtype=float32_ref>, b: <tf.Variable 'Variable_1:0' shape=(1,) dtype=float32_ref>\n"
     ]
    }
   ],
   "source": [
    "# random_uniform([난수의 개수], 난수의 최소값, 난수의 최대값) 함수로 균등분포로부터의 난수값을 발생시킨다.\n",
    "a = tf.Variable(tf.random_uniform([1], -100, 100)) # 기울기(가중치), -100 ~ 100 사이의 난수\n",
    "b = tf.Variable(tf.random_uniform([1], -100, 100)) # y절편(바이어스), -100 ~ 100 사이의 난수\n",
    "print('a: {}, b: {}'.format(a, b))"
   ]
  },
  {
   "cell_type": "code",
   "execution_count": 4,
   "id": "a8ea35c8",
   "metadata": {},
   "outputs": [
    {
     "name": "stdout",
     "output_type": "stream",
     "text": [
      "a: [44.32666], b: [76.62166]\n"
     ]
    }
   ],
   "source": [
    "sess = tf.Session()\n",
    "sess.run(tf.global_variables_initializer())\n",
    "print('a: {}, b: {}'.format(sess.run(a), sess.run(b)))"
   ]
  },
  {
   "cell_type": "markdown",
   "id": "30955b6b",
   "metadata": {},
   "source": [
    "근무 시간과 매출 금액을 기억할 placeholder를 선언한다."
   ]
  },
  {
   "cell_type": "code",
   "execution_count": 5,
   "id": "e74b9ec5",
   "metadata": {},
   "outputs": [],
   "source": [
    "x = tf.placeholder(dtype=tf.float32) # 근무 시간(xData)를 기억하는 placeholder\n",
    "y = tf.placeholder(dtype=tf.float32) # 매출 금액(yData)를 기억하는 placeholder"
   ]
  },
  {
   "cell_type": "markdown",
   "id": "52d741c0",
   "metadata": {},
   "source": [
    "1차 방정식 형태의 가설을 세우고 오차(비용) 함수를 정의한다."
   ]
  },
  {
   "cell_type": "code",
   "execution_count": 10,
   "id": "acf144fc",
   "metadata": {},
   "outputs": [],
   "source": [
    "# 1차 방정식 형태의 가설 Y(예측값)를 정의한다.\n",
    "Y = a * x + b\n",
    "# 비용(오차) 함수 => 실제값(yData => y라는 placeholder에 저장한다.)과 예측값(Y)의 편차의 제곱에 대한 평균을 이용한다.\n",
    "# => 평균 제곱법\n",
    "# reduce_mean() 함수로 tensorflow에서 평균을 계산한다.\n",
    "# square() 함수로 tensorflow에서 제곱값을 계산한다.\n",
    "# sqrt() 함수로 tensorflow에서 제곱근 값을 계산한다.\n",
    "cost = tf.sqrt(tf.reduce_mean(tf.square(Y - y))) # 예측값과 실제값의 편차에 대한 평균의 제곱근을 계산한다."
   ]
  },
  {
   "cell_type": "markdown",
   "id": "6b3bbf23",
   "metadata": {},
   "source": [
    "경사 하강법을 이용해서 비용(오차) 함수의 결과를 가장 작게 만드는 방향으로 학습을 시키도록 정의한다."
   ]
  },
  {
   "cell_type": "code",
   "execution_count": 33,
   "id": "a247ae4d",
   "metadata": {},
   "outputs": [],
   "source": [
    "# 경사 하강 알고리즘의 학습율을 설정한다.\n",
    "learning_rate = 0.3\n",
    "# train.GradientDescentOptimizer(학습율) 함수로 학습율에 따른 비용(오차) 함수를 계산한다.\n",
    "# optimizer = tf.train.GradientDescentOptimizer(learning_rate)\n",
    "# minimize() 함수로 경사 하강 알고리즘에 따라 인수로 지정된 비용(오차) 함수의 최소값을 찾는다.\n",
    "# train = optimizer.minimize(cost)\n",
    "train = tf.train.GradientDescentOptimizer(learning_rate).minimize(cost)"
   ]
  },
  {
   "cell_type": "markdown",
   "id": "163ce37b",
   "metadata": {},
   "source": [
    "학습시킨다."
   ]
  },
  {
   "cell_type": "code",
   "execution_count": 34,
   "id": "f690488b",
   "metadata": {},
   "outputs": [
    {
     "name": "stdout",
     "output_type": "stream",
     "text": [
      "     0. 116265.680   -53.465   -35.221\n",
      "  5000.  85090.141  6651.565  1308.108\n",
      " 10000.  53953.113 13353.639  2645.835\n",
      " 15000.  23020.705 20036.191  3966.008\n",
      " 20000.   3307.297 24923.896  4792.209\n",
      " 25000.   3246.435 25019.629  4515.646\n",
      " 30000.   3197.970 25072.561  4251.428\n",
      " 35000.   3156.424 25121.926  4007.150\n",
      " 40000.   3120.812 25167.881  3780.593\n",
      " 45000.   3090.669 25209.572  3572.369\n",
      " 50000.   3065.201 25248.736  3381.185\n",
      " 55000.   3043.689 25284.100  3205.017\n",
      " 60000.   3025.723 25316.266  3044.293\n",
      " 65000.   3010.744 25345.906  2897.812\n",
      " 70000.   2998.158 25373.516  2763.079\n",
      " 75000.   2987.724 25398.053  2640.441\n",
      " 80000.   2979.098 25420.318  2529.150\n",
      " 85000.   2971.975 25440.533  2428.231\n",
      " 90000.   2966.034 25459.934  2335.947\n",
      " 95000.   2961.097 25476.850  2251.379\n",
      "100000.   2957.038 25492.162  2174.821\n"
     ]
    }
   ],
   "source": [
    "# 세션을 만들과 변수를 초기화시킨다.\n",
    "sess = tf.Session()\n",
    "sess.run(tf.global_variables_initializer())\n",
    "\n",
    "for i in range(100001):\n",
    "    # 비용(오차) 함수를 가장 작게 만드는 학습을 할 수 있도록 placeholder에 데이터를 대입한다.\n",
    "    # 학습할 데이터는 반드시 'feed_dict'라는 이름의 딕셔너리 타입의 자료형을 만들어 대입해야 한다.\n",
    "    # 'feed_dict' 딕셔너리의 key에는 placeholder의 이름을, value에는 각 placeholder에 대입할 리스트 타입의 데이터를 지정한다.\n",
    "    \n",
    "    # tensorflow 세션에서 비용(오차) 함수를 가장 작게 만드는 방향으로 'feed_dict' 딕셔너리의 데이터로 학습시킨다.\n",
    "    sess.run(train, feed_dict={x: xData, y: yData})\n",
    "    \n",
    "    # 500 Epoch 단위로 학습이 될 때 마다 머신러닝이 실행되는 중간 결과를 확인한다.\n",
    "    if i % 5000 == 0:\n",
    "        # i, 오차, 기울기, y절편\n",
    "        # print(i, sess.run(cost, feed_dict={x: xData, y: yData}), sess.run(a), sess.run(b))\n",
    "        # print('%4d. %10.3f %7.3f %7.3f' % (i, sess.run(cost, feed_dict={x: xData, y: yData}), sess.run(a), sess.run(b)))\n",
    "        print('{0:6d}. {1:10.3f} {2:9.3f} {3:9.3f}'.format(i, sess.run(cost, feed_dict={x: xData, y: yData}), sess.run(a)[0], \n",
    "                                                           sess.run(b)[0]))"
   ]
  },
  {
   "cell_type": "code",
   "execution_count": 35,
   "id": "58c72736",
   "metadata": {},
   "outputs": [
    {
     "name": "stdout",
     "output_type": "stream",
     "text": [
      "a: [25492.162], b: [2174.8213]\n"
     ]
    }
   ],
   "source": [
    "print('a: {}, b: {}'.format(sess.run(a), sess.run(b)))"
   ]
  },
  {
   "cell_type": "code",
   "execution_count": 37,
   "id": "60b80f78",
   "metadata": {},
   "outputs": [
    {
     "name": "stdout",
     "output_type": "stream",
     "text": [
      " 9시간 근무했을 때 매출 기대금액: 231,604\n",
      "10시간 근무했을 때 매출 기대금액: 257,096\n",
      "11시간 근무했을 때 매출 기대금액: 282,589\n",
      "12시간 근무했을 때 매출 기대금액: 308,081\n",
      "13시간 근무했을 때 매출 기대금액: 333,573\n",
      "14시간 근무했을 때 매출 기대금액: 359,065\n",
      "15시간 근무했을 때 매출 기대금액: 384,557\n",
      "16시간 근무했을 때 매출 기대금액: 410,049\n",
      "17시간 근무했을 때 매출 기대금액: 435,542\n",
      "18시간 근무했을 때 매출 기대금액: 461,034\n",
      "19시간 근무했을 때 매출 기대금액: 486,526\n",
      "20시간 근무했을 때 매출 기대금액: 512,018\n",
      "21시간 근무했을 때 매출 기대금액: 537,510\n",
      "22시간 근무했을 때 매출 기대금액: 563,002\n",
      "23시간 근무했을 때 매출 기대금액: 588,495\n",
      "24시간 근무했을 때 매출 기대금액: 613,987\n"
     ]
    }
   ],
   "source": [
    "import time\n",
    "for i in range(9, 25):\n",
    "    print('{0:2d}시간 근무했을 때 매출 기대금액: {1:7,.0f}'.format(i, sess.run(Y, feed_dict={x: [i]})[0]))\n",
    "    time.sleep(0.5)"
   ]
  },
  {
   "cell_type": "code",
   "execution_count": null,
   "id": "a26a5a3d",
   "metadata": {},
   "outputs": [],
   "source": []
  },
  {
   "cell_type": "code",
   "execution_count": null,
   "id": "f96326b1",
   "metadata": {},
   "outputs": [],
   "source": []
  },
  {
   "cell_type": "code",
   "execution_count": null,
   "id": "d03496ee",
   "metadata": {},
   "outputs": [],
   "source": []
  },
  {
   "cell_type": "code",
   "execution_count": null,
   "id": "55bccf3b",
   "metadata": {},
   "outputs": [],
   "source": []
  },
  {
   "cell_type": "code",
   "execution_count": null,
   "id": "c0a7f3ca",
   "metadata": {},
   "outputs": [],
   "source": []
  },
  {
   "cell_type": "code",
   "execution_count": null,
   "id": "8bb5e0e7",
   "metadata": {},
   "outputs": [],
   "source": []
  },
  {
   "cell_type": "code",
   "execution_count": null,
   "id": "9d00d96a",
   "metadata": {},
   "outputs": [],
   "source": []
  }
 ],
 "metadata": {
  "kernelspec": {
   "display_name": "Python 3",
   "language": "python",
   "name": "python3"
  },
  "language_info": {
   "codemirror_mode": {
    "name": "ipython",
    "version": 3
   },
   "file_extension": ".py",
   "mimetype": "text/x-python",
   "name": "python",
   "nbconvert_exporter": "python",
   "pygments_lexer": "ipython3",
   "version": "3.6.8"
  }
 },
 "nbformat": 4,
 "nbformat_minor": 5
}
