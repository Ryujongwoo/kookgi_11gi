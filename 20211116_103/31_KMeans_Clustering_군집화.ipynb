{
 "cells": [
  {
   "cell_type": "code",
   "execution_count": 1,
   "id": "39948ec8",
   "metadata": {},
   "outputs": [],
   "source": [
    "import warnings\n",
    "warnings.filterwarnings('ignore')\n",
    "import numpy as np\n",
    "import pandas as pd\n",
    "import matplotlib.pyplot as plt\n",
    "import seaborn as sns\n",
    "# !pip install scikit-learn\n",
    "from sklearn.cluster import KMeans"
   ]
  },
  {
   "cell_type": "markdown",
   "id": "4a60573b",
   "metadata": {},
   "source": [
    "Clustering이란 여러개의 데이터가 있을 때 군집화하는 것을 의미한다.  \n",
    "비슷한 데이터끼리 묶으면 관리하기 쉬운 장점이 있다. 예를들면 학원을 운영하는데 고급반, 중급반, 초급반으로 나눠 적절히 분류한다면 데이터를 활용하는 방안이 많을 것이다.  \n",
    "비지도 학습(Unsupervised Learning) 알고리즘은 정확한 방향성이 일치하지 않더라고 알아서 학습이 가능한 알고리즘으로 데이터를 군집화하는 알고리즘들이 비지도 학습에 속한다. => KMeans 알고리즘이 대표적인 비지도 학습 알고리즘이다."
   ]
  },
  {
   "cell_type": "code",
   "execution_count": 2,
   "id": "b37bfac4",
   "metadata": {},
   "outputs": [
    {
     "data": {
      "text/html": [
       "<div>\n",
       "<style scoped>\n",
       "    .dataframe tbody tr th:only-of-type {\n",
       "        vertical-align: middle;\n",
       "    }\n",
       "\n",
       "    .dataframe tbody tr th {\n",
       "        vertical-align: top;\n",
       "    }\n",
       "\n",
       "    .dataframe thead th {\n",
       "        text-align: right;\n",
       "    }\n",
       "</style>\n",
       "<table border=\"1\" class=\"dataframe\">\n",
       "  <thead>\n",
       "    <tr style=\"text-align: right;\">\n",
       "      <th></th>\n",
       "      <th>x</th>\n",
       "      <th>y</th>\n",
       "    </tr>\n",
       "  </thead>\n",
       "  <tbody>\n",
       "    <tr>\n",
       "      <th>0</th>\n",
       "      <td>2</td>\n",
       "      <td>3</td>\n",
       "    </tr>\n",
       "    <tr>\n",
       "      <th>1</th>\n",
       "      <td>2</td>\n",
       "      <td>11</td>\n",
       "    </tr>\n",
       "    <tr>\n",
       "      <th>2</th>\n",
       "      <td>2</td>\n",
       "      <td>18</td>\n",
       "    </tr>\n",
       "    <tr>\n",
       "      <th>3</th>\n",
       "      <td>4</td>\n",
       "      <td>5</td>\n",
       "    </tr>\n",
       "    <tr>\n",
       "      <th>4</th>\n",
       "      <td>4</td>\n",
       "      <td>7</td>\n",
       "    </tr>\n",
       "    <tr>\n",
       "      <th>5</th>\n",
       "      <td>5</td>\n",
       "      <td>3</td>\n",
       "    </tr>\n",
       "    <tr>\n",
       "      <th>6</th>\n",
       "      <td>5</td>\n",
       "      <td>15</td>\n",
       "    </tr>\n",
       "    <tr>\n",
       "      <th>7</th>\n",
       "      <td>6</td>\n",
       "      <td>6</td>\n",
       "    </tr>\n",
       "    <tr>\n",
       "      <th>8</th>\n",
       "      <td>6</td>\n",
       "      <td>8</td>\n",
       "    </tr>\n",
       "    <tr>\n",
       "      <th>9</th>\n",
       "      <td>6</td>\n",
       "      <td>9</td>\n",
       "    </tr>\n",
       "    <tr>\n",
       "      <th>10</th>\n",
       "      <td>7</td>\n",
       "      <td>2</td>\n",
       "    </tr>\n",
       "    <tr>\n",
       "      <th>11</th>\n",
       "      <td>7</td>\n",
       "      <td>4</td>\n",
       "    </tr>\n",
       "    <tr>\n",
       "      <th>12</th>\n",
       "      <td>7</td>\n",
       "      <td>5</td>\n",
       "    </tr>\n",
       "    <tr>\n",
       "      <th>13</th>\n",
       "      <td>7</td>\n",
       "      <td>17</td>\n",
       "    </tr>\n",
       "    <tr>\n",
       "      <th>14</th>\n",
       "      <td>7</td>\n",
       "      <td>18</td>\n",
       "    </tr>\n",
       "    <tr>\n",
       "      <th>15</th>\n",
       "      <td>8</td>\n",
       "      <td>5</td>\n",
       "    </tr>\n",
       "    <tr>\n",
       "      <th>16</th>\n",
       "      <td>8</td>\n",
       "      <td>4</td>\n",
       "    </tr>\n",
       "    <tr>\n",
       "      <th>17</th>\n",
       "      <td>9</td>\n",
       "      <td>10</td>\n",
       "    </tr>\n",
       "    <tr>\n",
       "      <th>18</th>\n",
       "      <td>9</td>\n",
       "      <td>11</td>\n",
       "    </tr>\n",
       "    <tr>\n",
       "      <th>19</th>\n",
       "      <td>9</td>\n",
       "      <td>15</td>\n",
       "    </tr>\n",
       "    <tr>\n",
       "      <th>20</th>\n",
       "      <td>9</td>\n",
       "      <td>19</td>\n",
       "    </tr>\n",
       "    <tr>\n",
       "      <th>21</th>\n",
       "      <td>10</td>\n",
       "      <td>5</td>\n",
       "    </tr>\n",
       "    <tr>\n",
       "      <th>22</th>\n",
       "      <td>10</td>\n",
       "      <td>8</td>\n",
       "    </tr>\n",
       "    <tr>\n",
       "      <th>23</th>\n",
       "      <td>10</td>\n",
       "      <td>18</td>\n",
       "    </tr>\n",
       "    <tr>\n",
       "      <th>24</th>\n",
       "      <td>12</td>\n",
       "      <td>6</td>\n",
       "    </tr>\n",
       "    <tr>\n",
       "      <th>25</th>\n",
       "      <td>13</td>\n",
       "      <td>5</td>\n",
       "    </tr>\n",
       "    <tr>\n",
       "      <th>26</th>\n",
       "      <td>14</td>\n",
       "      <td>11</td>\n",
       "    </tr>\n",
       "    <tr>\n",
       "      <th>27</th>\n",
       "      <td>15</td>\n",
       "      <td>6</td>\n",
       "    </tr>\n",
       "    <tr>\n",
       "      <th>28</th>\n",
       "      <td>15</td>\n",
       "      <td>18</td>\n",
       "    </tr>\n",
       "    <tr>\n",
       "      <th>29</th>\n",
       "      <td>18</td>\n",
       "      <td>12</td>\n",
       "    </tr>\n",
       "  </tbody>\n",
       "</table>\n",
       "</div>"
      ],
      "text/plain": [
       "     x   y\n",
       "0    2   3\n",
       "1    2  11\n",
       "2    2  18\n",
       "3    4   5\n",
       "4    4   7\n",
       "5    5   3\n",
       "6    5  15\n",
       "7    6   6\n",
       "8    6   8\n",
       "9    6   9\n",
       "10   7   2\n",
       "11   7   4\n",
       "12   7   5\n",
       "13   7  17\n",
       "14   7  18\n",
       "15   8   5\n",
       "16   8   4\n",
       "17   9  10\n",
       "18   9  11\n",
       "19   9  15\n",
       "20   9  19\n",
       "21  10   5\n",
       "22  10   8\n",
       "23  10  18\n",
       "24  12   6\n",
       "25  13   5\n",
       "26  14  11\n",
       "27  15   6\n",
       "28  15  18\n",
       "29  18  12"
      ]
     },
     "execution_count": 2,
     "metadata": {},
     "output_type": "execute_result"
    }
   ],
   "source": [
    "df = pd.read_csv('./data/cluster.csv')\n",
    "df"
   ]
  },
  {
   "cell_type": "code",
   "execution_count": 3,
   "id": "64755dab",
   "metadata": {},
   "outputs": [
    {
     "name": "stdout",
     "output_type": "stream",
     "text": [
      "[0, 1, 2, 3, 4, 5, 6, 7, 8, 9, 10, 11, 12, 13, 14, 15, 16, 17, 18, 19, 20, 21, 22, 23, 24, 25, 26, 27, 28, 29]\n",
      "Index(['x', 'y'], dtype='object')\n",
      "<class 'numpy.ndarray'>\n",
      "[[ 2  3]\n",
      " [ 2 11]\n",
      " [ 2 18]\n",
      " [ 4  5]\n",
      " [ 4  7]\n",
      " [ 5  3]\n",
      " [ 5 15]\n",
      " [ 6  6]\n",
      " [ 6  8]\n",
      " [ 6  9]\n",
      " [ 7  2]\n",
      " [ 7  4]\n",
      " [ 7  5]\n",
      " [ 7 17]\n",
      " [ 7 18]\n",
      " [ 8  5]\n",
      " [ 8  4]\n",
      " [ 9 10]\n",
      " [ 9 11]\n",
      " [ 9 15]\n",
      " [ 9 19]\n",
      " [10  5]\n",
      " [10  8]\n",
      " [10 18]\n",
      " [12  6]\n",
      " [13  5]\n",
      " [14 11]\n",
      " [15  6]\n",
      " [15 18]\n",
      " [18 12]]\n"
     ]
    }
   ],
   "source": [
    "print(list(df.index))\n",
    "print(df.columns)\n",
    "# values: 데이터프레임에 저장된 데이터만 넘파이 배열 형태로 얻어온다.\n",
    "print(type(df.values))\n",
    "points = df.values\n",
    "print(points)"
   ]
  },
  {
   "cell_type": "markdown",
   "id": "d60fb983",
   "metadata": {},
   "source": [
    "matplotlib와 seaborn 라이브러리를 이용해 Clustering을 실행할 데이터를 시각화한다."
   ]
  },
  {
   "cell_type": "code",
   "execution_count": 4,
   "id": "8eab9ff9",
   "metadata": {},
   "outputs": [],
   "source": [
    "import matplotlib as mpl\n",
    "plt.rcParams['font.family'] = 'NanumGothicCoding'\n",
    "plt.rcParams['font.size'] = 15\n",
    "mpl.rcParams['axes.unicode_minus'] = False"
   ]
  },
  {
   "cell_type": "code",
   "execution_count": 5,
   "id": "d3b5be70",
   "metadata": {},
   "outputs": [
    {
     "data": {
      "image/png": "[encoded data removed]",
      "text/plain": [
       "<Figure size 864x576 with 1 Axes>"
      ]
     },
     "metadata": {
      "needs_background": "light"
     },
     "output_type": "display_data"
    }
   ],
   "source": [
    "plt.figure(figsize=[12, 8])\n",
    "sns.scatterplot(data=df, x='x', y='y', s=100)\n",
    "plt.title('KMeans 시각화')\n",
    "plt.xlabel('x축')\n",
    "plt.ylabel('y축')\n",
    "plt.show()"
   ]
  },
  {
   "cell_type": "markdown",
   "id": "d4dfdefb",
   "metadata": {},
   "source": [
    "KMeans를 수행해기 위해서는 클러스터링을 수행할 데이터의 주제를 결정하고 얼마나 많은 클러스터를 만들지 결정한 후 데이터를 준비한다. 이 때, 데이터가 정확할 수록 유리하게 클러스트링을 수행하기 위한 방법은 무작위 중심(Centroid) 값 선택, K-means++법 등 다양하다."
   ]
  },
  {
   "cell_type": "markdown",
   "id": "55d4eb06",
   "metadata": {},
   "source": [
    "무작위 중심(Centroid) 값 선택 알고리즘을 이용한 클러스터링  \n",
    "중심에 가까운 데이터를 클러스터에 포함시키고 클러스터의 중심을 데이터의 중앙으로 이동시키는 과정을 반복해서 수행하면 되는데 더 이상 중심의 위치가 변하지 않을 때 까지 반복하는 것이 일반적이며 이러한 과정을 거치면 결과적으로 완전하게 군집화된 클러스터를 얻을 수 있다."
   ]
  },
  {
   "cell_type": "code",
   "execution_count": 6,
   "id": "593bcb60",
   "metadata": {},
   "outputs": [],
   "source": [
    "from IPython.display import Image"
   ]
  },
  {
   "cell_type": "code",
   "execution_count": 7,
   "id": "65e99d54",
   "metadata": {},
   "outputs": [
    {
     "data": {
      "image/png": "[encoded data removed]",
      "text/plain": [
       "<IPython.core.display.Image object>"
      ]
     },
     "execution_count": 7,
     "metadata": {
      "image/png": {
       "width": 1200
      }
     },
     "output_type": "execute_result"
    }
   ],
   "source": [
    "Image('./numpyImages/Clustering1.png', width=1200)\n",
    "# 클러스터링을 위한 무작위 중심을 결정하는 방법은 가장 먼저 특정 노드(데이터)를 선택해서 클러스터의 중심으로 설정(파랑색)한다.\n",
    "# 그 후에 선택된 노드에서 가장 먼 노드(노랑색)를 2번째 중심으로 설정한다.\n",
    "# 그 다음 부터는 이미 선택된 중심점들로 부터 가장 멀리있는 노드(녹색)가 중심이 된다."
   ]
  },
  {
   "cell_type": "code",
   "execution_count": 8,
   "id": "466eff55",
   "metadata": {},
   "outputs": [
    {
     "data": {
      "image/png": "[encoded data removed]",
      "text/plain": [
       "<IPython.core.display.Image object>"
      ]
     },
     "execution_count": 8,
     "metadata": {
      "image/png": {
       "width": 1200
      }
     },
     "output_type": "execute_result"
    }
   ],
   "source": [
    "Image('./numpyImages/Clustering2.png', width=1200)\n",
    "# 1, 2, 3 세 개의 클러스터 중심이 존재한다고 무작위 설정을 하고 하나 하나의 데이터를 선택해서 세 개의 크러스터 중에서 가장\n",
    "# 가까운 클러스터에 속하도록 한다."
   ]
  },
  {
   "cell_type": "code",
   "execution_count": 9,
   "id": "b48ef3e2",
   "metadata": {},
   "outputs": [
    {
     "data": {
      "image/png": "[encoded data removed]",
      "text/plain": [
       "<IPython.core.display.Image object>"
      ]
     },
     "execution_count": 9,
     "metadata": {
      "image/png": {
       "width": 1200
      }
     },
     "output_type": "execute_result"
    }
   ],
   "source": [
    "Image('./numpyImages/Clustering3.png', width=1200)\n",
    "# 위의 과정을 전체 노드에 대해 수행하면 아래 왼쪽의 그림과 같다.\n",
    "# 대략적으로 군집화가 완료되면 완벽한 클러스터링을 위해 중심의 위치를 아래 오른쪽의 그림과 같이 노드 가운데로 이동시킨다.\n",
    "# 중심의 위치를 이동시키고 다시 모든 노드에 대해서 어던 클러스터의 중심에 가까운지 하나씩 체크한다.\n",
    "# 만약 특정 데이터가 다른 클러스터의 중심에 더 가깝다면 그 클러스터에 속하도록 변경하면 되고 클러스터의 중심 위치가 더 이상\n",
    "# 바뀌지 않으면 클러스터링이 끝난다."
   ]
  },
  {
   "cell_type": "markdown",
   "id": "2673bee7",
   "metadata": {},
   "source": [
    "KMeans 알고리즘을 이용해서 클러스터 4개를 생성한다."
   ]
  },
  {
   "cell_type": "code",
   "execution_count": 10,
   "id": "98fe606b",
   "metadata": {},
   "outputs": [
    {
     "name": "stdout",
     "output_type": "stream",
     "text": [
      "[[ 5.53846154  5.53846154]\n",
      " [15.66666667 13.66666667]\n",
      " [ 7.         17.14285714]\n",
      " [11.14285714  7.28571429]]\n",
      "[0 0 2 0 0 0 2 0 0 0 0 0 0 2 2 0 0 3 3 2 2 3 3 2 3 3 1 3 1 1]\n"
     ]
    }
   ],
   "source": [
    "# sklearn 라이브러리의 KMeans() 함수를 이용해 데이터프레임의 데이터를 학습시킨다.\n",
    "# KMeans() 함수의 n_clusters 속성으로 군집화 할 클러스터의 개수를 지정하고 fit() 함수에 학습할 데이터를 인수로 넘겨서 \n",
    "# 학습시킨다.\n",
    "kmeans = KMeans(n_clusters=4).fit(points)\n",
    "# cluster_centers_: KMeans() 함수로 계산된 클러스터의 중심 위치를 얻어온다.\n",
    "print(kmeans.cluster_centers_)\n",
    "# labels_: KMenns() 함수로 계산된 노드가 속해있는 클러스터를 얻어온다.\n",
    "print(kmeans.labels_)"
   ]
  },
  {
   "cell_type": "markdown",
   "id": "3fd925e6",
   "metadata": {},
   "source": [
    "데이터프레임에 cluster라는 이름의 열을 만들고 군집화된 결과(labels_)를 추가한다."
   ]
  },
  {
   "cell_type": "code",
   "execution_count": 11,
   "id": "55cb3f0e",
   "metadata": {},
   "outputs": [
    {
     "data": {
      "text/html": [
       "<div>\n",
       "<style scoped>\n",
       "    .dataframe tbody tr th:only-of-type {\n",
       "        vertical-align: middle;\n",
       "    }\n",
       "\n",
       "    .dataframe tbody tr th {\n",
       "        vertical-align: top;\n",
       "    }\n",
       "\n",
       "    .dataframe thead th {\n",
       "        text-align: right;\n",
       "    }\n",
       "</style>\n",
       "<table border=\"1\" class=\"dataframe\">\n",
       "  <thead>\n",
       "    <tr style=\"text-align: right;\">\n",
       "      <th></th>\n",
       "      <th>x</th>\n",
       "      <th>y</th>\n",
       "      <th>cluster</th>\n",
       "    </tr>\n",
       "  </thead>\n",
       "  <tbody>\n",
       "    <tr>\n",
       "      <th>0</th>\n",
       "      <td>2</td>\n",
       "      <td>3</td>\n",
       "      <td>0</td>\n",
       "    </tr>\n",
       "    <tr>\n",
       "      <th>1</th>\n",
       "      <td>2</td>\n",
       "      <td>11</td>\n",
       "      <td>0</td>\n",
       "    </tr>\n",
       "    <tr>\n",
       "      <th>2</th>\n",
       "      <td>2</td>\n",
       "      <td>18</td>\n",
       "      <td>2</td>\n",
       "    </tr>\n",
       "    <tr>\n",
       "      <th>3</th>\n",
       "      <td>4</td>\n",
       "      <td>5</td>\n",
       "      <td>0</td>\n",
       "    </tr>\n",
       "    <tr>\n",
       "      <th>4</th>\n",
       "      <td>4</td>\n",
       "      <td>7</td>\n",
       "      <td>0</td>\n",
       "    </tr>\n",
       "    <tr>\n",
       "      <th>5</th>\n",
       "      <td>5</td>\n",
       "      <td>3</td>\n",
       "      <td>0</td>\n",
       "    </tr>\n",
       "    <tr>\n",
       "      <th>6</th>\n",
       "      <td>5</td>\n",
       "      <td>15</td>\n",
       "      <td>2</td>\n",
       "    </tr>\n",
       "    <tr>\n",
       "      <th>7</th>\n",
       "      <td>6</td>\n",
       "      <td>6</td>\n",
       "      <td>0</td>\n",
       "    </tr>\n",
       "    <tr>\n",
       "      <th>8</th>\n",
       "      <td>6</td>\n",
       "      <td>8</td>\n",
       "      <td>0</td>\n",
       "    </tr>\n",
       "    <tr>\n",
       "      <th>9</th>\n",
       "      <td>6</td>\n",
       "      <td>9</td>\n",
       "      <td>0</td>\n",
       "    </tr>\n",
       "    <tr>\n",
       "      <th>10</th>\n",
       "      <td>7</td>\n",
       "      <td>2</td>\n",
       "      <td>0</td>\n",
       "    </tr>\n",
       "    <tr>\n",
       "      <th>11</th>\n",
       "      <td>7</td>\n",
       "      <td>4</td>\n",
       "      <td>0</td>\n",
       "    </tr>\n",
       "    <tr>\n",
       "      <th>12</th>\n",
       "      <td>7</td>\n",
       "      <td>5</td>\n",
       "      <td>0</td>\n",
       "    </tr>\n",
       "    <tr>\n",
       "      <th>13</th>\n",
       "      <td>7</td>\n",
       "      <td>17</td>\n",
       "      <td>2</td>\n",
       "    </tr>\n",
       "    <tr>\n",
       "      <th>14</th>\n",
       "      <td>7</td>\n",
       "      <td>18</td>\n",
       "      <td>2</td>\n",
       "    </tr>\n",
       "    <tr>\n",
       "      <th>15</th>\n",
       "      <td>8</td>\n",
       "      <td>5</td>\n",
       "      <td>0</td>\n",
       "    </tr>\n",
       "    <tr>\n",
       "      <th>16</th>\n",
       "      <td>8</td>\n",
       "      <td>4</td>\n",
       "      <td>0</td>\n",
       "    </tr>\n",
       "    <tr>\n",
       "      <th>17</th>\n",
       "      <td>9</td>\n",
       "      <td>10</td>\n",
       "      <td>3</td>\n",
       "    </tr>\n",
       "    <tr>\n",
       "      <th>18</th>\n",
       "      <td>9</td>\n",
       "      <td>11</td>\n",
       "      <td>3</td>\n",
       "    </tr>\n",
       "    <tr>\n",
       "      <th>19</th>\n",
       "      <td>9</td>\n",
       "      <td>15</td>\n",
       "      <td>2</td>\n",
       "    </tr>\n",
       "    <tr>\n",
       "      <th>20</th>\n",
       "      <td>9</td>\n",
       "      <td>19</td>\n",
       "      <td>2</td>\n",
       "    </tr>\n",
       "    <tr>\n",
       "      <th>21</th>\n",
       "      <td>10</td>\n",
       "      <td>5</td>\n",
       "      <td>3</td>\n",
       "    </tr>\n",
       "    <tr>\n",
       "      <th>22</th>\n",
       "      <td>10</td>\n",
       "      <td>8</td>\n",
       "      <td>3</td>\n",
       "    </tr>\n",
       "    <tr>\n",
       "      <th>23</th>\n",
       "      <td>10</td>\n",
       "      <td>18</td>\n",
       "      <td>2</td>\n",
       "    </tr>\n",
       "    <tr>\n",
       "      <th>24</th>\n",
       "      <td>12</td>\n",
       "      <td>6</td>\n",
       "      <td>3</td>\n",
       "    </tr>\n",
       "    <tr>\n",
       "      <th>25</th>\n",
       "      <td>13</td>\n",
       "      <td>5</td>\n",
       "      <td>3</td>\n",
       "    </tr>\n",
       "    <tr>\n",
       "      <th>26</th>\n",
       "      <td>14</td>\n",
       "      <td>11</td>\n",
       "      <td>1</td>\n",
       "    </tr>\n",
       "    <tr>\n",
       "      <th>27</th>\n",
       "      <td>15</td>\n",
       "      <td>6</td>\n",
       "      <td>3</td>\n",
       "    </tr>\n",
       "    <tr>\n",
       "      <th>28</th>\n",
       "      <td>15</td>\n",
       "      <td>18</td>\n",
       "      <td>1</td>\n",
       "    </tr>\n",
       "    <tr>\n",
       "      <th>29</th>\n",
       "      <td>18</td>\n",
       "      <td>12</td>\n",
       "      <td>1</td>\n",
       "    </tr>\n",
       "  </tbody>\n",
       "</table>\n",
       "</div>"
      ],
      "text/plain": [
       "     x   y  cluster\n",
       "0    2   3        0\n",
       "1    2  11        0\n",
       "2    2  18        2\n",
       "3    4   5        0\n",
       "4    4   7        0\n",
       "5    5   3        0\n",
       "6    5  15        2\n",
       "7    6   6        0\n",
       "8    6   8        0\n",
       "9    6   9        0\n",
       "10   7   2        0\n",
       "11   7   4        0\n",
       "12   7   5        0\n",
       "13   7  17        2\n",
       "14   7  18        2\n",
       "15   8   5        0\n",
       "16   8   4        0\n",
       "17   9  10        3\n",
       "18   9  11        3\n",
       "19   9  15        2\n",
       "20   9  19        2\n",
       "21  10   5        3\n",
       "22  10   8        3\n",
       "23  10  18        2\n",
       "24  12   6        3\n",
       "25  13   5        3\n",
       "26  14  11        1\n",
       "27  15   6        3\n",
       "28  15  18        1\n",
       "29  18  12        1"
      ]
     },
     "execution_count": 11,
     "metadata": {},
     "output_type": "execute_result"
    }
   ],
   "source": [
    "df['cluster'] = kmeans.labels_\n",
    "df"
   ]
  },
  {
   "cell_type": "code",
   "execution_count": 12,
   "id": "c54811c1",
   "metadata": {},
   "outputs": [],
   "source": [
    "# 완성된 결과를 저장하려면 to_csv() 함수를 사용해 데이터프레임을 csv 파일로 저장한다.\n",
    "df.to_csv('./data/save.csv')"
   ]
  },
  {
   "cell_type": "markdown",
   "id": "9161b5c2",
   "metadata": {},
   "source": [
    "클러스터링 된 결과를 시각화 한다."
   ]
  },
  {
   "cell_type": "code",
   "execution_count": 15,
   "id": "a719ab56",
   "metadata": {},
   "outputs": [
    {
     "data": {
      "image/png": "[encoded data removed]",
      "text/plain": [
       "<Figure size 864x576 with 1 Axes>"
      ]
     },
     "metadata": {
      "needs_background": "light"
     },
     "output_type": "display_data"
    }
   ],
   "source": [
    "# https://seaborn.pydata.org/generated/seaborn.scatterplot.html => seaborn.scatterplot 공식 페이지\n",
    "# 군집화된 결과를 hue 속성을 이용해서 색깔로 구분한다. => 색상이 잘 구분되지 않으면 palette 속성으로 색상 팔레트를 지정한다.\n",
    "# 색상 팔레트 이름\n",
    "# BrBG, PiYG, PRGn, PuOr, RdBu, RdGy, RdYlBu, RdYlGn, Spectral, Accent, Dark2, Paired, Pastel1, Pastel2, Set1, Set2, Set3, \n",
    "# Blues, BuGn, # BuPu, GnBu, Greens, Greys, Oranges, OrRd, PuBu, PuBuGn, PuRd, Purples, RdPu, Reds, YlGn, YlGnBu, YlOrBr, \n",
    "# YlOrRd\n",
    "# style 속성을 사용해 scatter 모양을 다양하게 표시할 수 있다.\n",
    "plt.figure(figsize=[12, 8])\n",
    "sns.scatterplot(data=df, x='x', y='y', s=150, hue='cluster', palette='Dark2', style='cluster')\n",
    "plt.title('KMeans 시각화')\n",
    "plt.xlabel('x축')\n",
    "plt.ylabel('y축')\n",
    "plt.show()"
   ]
  },
  {
   "cell_type": "code",
   "execution_count": null,
   "id": "76984bc3",
   "metadata": {},
   "outputs": [],
   "source": []
  },
  {
   "cell_type": "code",
   "execution_count": null,
   "id": "5a5da51c",
   "metadata": {},
   "outputs": [],
   "source": []
  },
  {
   "cell_type": "code",
   "execution_count": null,
   "id": "0aca75a3",
   "metadata": {},
   "outputs": [],
   "source": []
  },
  {
   "cell_type": "code",
   "execution_count": null,
   "id": "748b61f6",
   "metadata": {},
   "outputs": [],
   "source": []
  },
  {
   "cell_type": "code",
   "execution_count": null,
   "id": "70f623f1",
   "metadata": {},
   "outputs": [],
   "source": []
  },
  {
   "cell_type": "code",
   "execution_count": null,
   "id": "355774fe",
   "metadata": {},
   "outputs": [],
   "source": []
  },
  {
   "cell_type": "code",
   "execution_count": null,
   "id": "c05c8e01",
   "metadata": {},
   "outputs": [],
   "source": []
  }
 ],
 "metadata": {
  "kernelspec": {
   "display_name": "Python 3",
   "language": "python",
   "name": "python3"
  },
  "language_info": {
   "codemirror_mode": {
    "name": "ipython",
    "version": 3
   },
   "file_extension": ".py",
   "mimetype": "text/x-python",
   "name": "python",
   "nbconvert_exporter": "python",
   "pygments_lexer": "ipython3",
   "version": "3.6.8"
  }
 },
 "nbformat": 4,
 "nbformat_minor": 5
}
