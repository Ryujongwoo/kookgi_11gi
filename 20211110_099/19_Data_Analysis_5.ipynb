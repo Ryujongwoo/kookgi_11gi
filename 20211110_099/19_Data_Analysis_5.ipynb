{
 "cells": [
  {
   "cell_type": "code",
   "execution_count": 1,
   "id": "d48ebe65",
   "metadata": {},
   "outputs": [],
   "source": [
    "import warnings                   # 경고 메시지를 출력하고 싶지 않을 경우 import 한다.\n",
    "warnings.filterwarnings('ignore') # 경고 메시지를 출력하지 않는다. 경고 메시지를 보고싶다면 default로 지정한다.\n",
    "from IPython.display import Image # 쥬피터 노트북에 이미지를 출력하기 위해 import 한다.\n",
    "import numpy as np                # 배열 계산 라이브러리\n",
    "import pandas as pd               # 데이터 분석 라이브러리\n",
    "import matplotlib.pyplot as plt   # 시각화 라이브러리\n",
    "plt.rcParams['font.family'] = 'NanumGothicCoding' # matplotlib의 글꼴 설정\n",
    "plt.rcParams['font.size'] = 15    # matplotlib 글꼴 크기 설정\n",
    "import matplotlib as mpl          # matplotlib에서 음수 데이터의 '-' 기호가 깨지는 것을 방지하기 위해 import 한다.\n",
    "mpl.rcParams['axes.unicode_minus'] = False # '-' 글꼴을 깨지지 않게한다.\n",
    "import seaborn as sns             # matplotlib를 기반으로 한 시각화 라이브러리\n",
    "from plotnine import *            # R의 ggplot2 패키지를 사용하는 것 처럼 사용하는 시각화 라이브러리\n",
    "import missingno as msno          # NaN 분포를 그래프 형태로 시각화 하는 라이브러리\n",
    "import folium                     # 지도 시각화 라이브러리"
   ]
  },
  {
   "cell_type": "markdown",
   "id": "e87aa592",
   "metadata": {},
   "source": [
    "서울시 공무원의 업무 추진비를 분석한 공무원 맛집 찾기  \n",
    "서울시는 업무 추진에 대한 비용 집행의 투명성을 제공하고자 공개된 시장단을 비롯해 4급 부서장 이상의 간부직 공무원의 업무 추진비 집행 내역을 공개합니다.  \n",
    "서울시 업무 추진비 url: https://opengov.seoul.go.kr/expense"
   ]
  },
  {
   "cell_type": "code",
   "execution_count": 8,
   "id": "1543b0e3",
   "metadata": {},
   "outputs": [
    {
     "data": {
      "text/plain": [
       "(51456, 9)"
      ]
     },
     "execution_count": 8,
     "metadata": {},
     "output_type": "execute_result"
    }
   ],
   "source": [
    "# read_csv() 함수에 index_col 옵션을 사용하면 인덱스에 열 이름을 붙일 수 있다.\n",
    "df = pd.read_csv('./data/raw.csv', index_col='연번')\n",
    "df.shape"
   ]
  },
  {
   "cell_type": "code",
   "execution_count": 7,
   "id": "8140590b",
   "metadata": {},
   "outputs": [
    {
     "data": {
      "text/html": [
       "<div>\n",
       "<style scoped>\n",
       "    .dataframe tbody tr th:only-of-type {\n",
       "        vertical-align: middle;\n",
       "    }\n",
       "\n",
       "    .dataframe tbody tr th {\n",
       "        vertical-align: top;\n",
       "    }\n",
       "\n",
       "    .dataframe thead th {\n",
       "        text-align: right;\n",
       "    }\n",
       "</style>\n",
       "<table border=\"1\" class=\"dataframe\">\n",
       "  <thead>\n",
       "    <tr style=\"text-align: right;\">\n",
       "      <th></th>\n",
       "      <th>1소속부서</th>\n",
       "      <th>결제방법</th>\n",
       "      <th>구분</th>\n",
       "      <th>대상인원</th>\n",
       "      <th>부서명</th>\n",
       "      <th>집행금액</th>\n",
       "      <th>집행목적</th>\n",
       "      <th>집행일시</th>\n",
       "      <th>집행장소</th>\n",
       "    </tr>\n",
       "    <tr>\n",
       "      <th>연번</th>\n",
       "      <th></th>\n",
       "      <th></th>\n",
       "      <th></th>\n",
       "      <th></th>\n",
       "      <th></th>\n",
       "      <th></th>\n",
       "      <th></th>\n",
       "      <th></th>\n",
       "      <th></th>\n",
       "    </tr>\n",
       "  </thead>\n",
       "  <tbody>\n",
       "    <tr>\n",
       "      <th>1</th>\n",
       "      <td>서울특별시장</td>\n",
       "      <td>카드</td>\n",
       "      <td>시정 관련 간담회 등</td>\n",
       "      <td>시장 등 12명</td>\n",
       "      <td>행정국 총무과</td>\n",
       "      <td>344000.0</td>\n",
       "      <td>시정 정책추진 자문 간담회</td>\n",
       "      <td>2018-01-19 20:41</td>\n",
       "      <td>동신참치양재직(서초구 강남대로 213)</td>\n",
       "    </tr>\n",
       "    <tr>\n",
       "      <th>2</th>\n",
       "      <td>서울특별시장</td>\n",
       "      <td>카드</td>\n",
       "      <td>시정 관련 간담회 등</td>\n",
       "      <td>시장, 청년단체 등 38명</td>\n",
       "      <td>행정국 총무과</td>\n",
       "      <td>450000.0</td>\n",
       "      <td>시정 청년 정책 의견수렴 간담회</td>\n",
       "      <td>2018-01-23 19:06</td>\n",
       "      <td>서울시청구내식당 ( 중구 세종대로 110)</td>\n",
       "    </tr>\n",
       "    <tr>\n",
       "      <th>3</th>\n",
       "      <td>서울특별시장</td>\n",
       "      <td>카드</td>\n",
       "      <td>시정 관련 간담회 등</td>\n",
       "      <td>시장 등 8명</td>\n",
       "      <td>행정국 총무과</td>\n",
       "      <td>226000.0</td>\n",
       "      <td>시정 주요 경제정책 현안추진 의견수렴 간담회</td>\n",
       "      <td>2018-01-29 20:13</td>\n",
       "      <td>한뫼촌(종로구 북촌로)</td>\n",
       "    </tr>\n",
       "    <tr>\n",
       "      <th>4</th>\n",
       "      <td>서울특별시장</td>\n",
       "      <td>카드</td>\n",
       "      <td>시정 관련 간담회 등</td>\n",
       "      <td>시장 등 11명</td>\n",
       "      <td>행정국 총무과</td>\n",
       "      <td>324500.0</td>\n",
       "      <td>시정종교계 의견수렴 간담회</td>\n",
       "      <td>2018-01-12 09:09</td>\n",
       "      <td>서울시청구내식당(중구 세종대로 110)</td>\n",
       "    </tr>\n",
       "    <tr>\n",
       "      <th>5</th>\n",
       "      <td>서울특별시장</td>\n",
       "      <td>카드</td>\n",
       "      <td>시정 관련 간담회 등</td>\n",
       "      <td>시장 등 25명</td>\n",
       "      <td>행정국 총무과</td>\n",
       "      <td>737500.0</td>\n",
       "      <td>시정 정책 추진 의견수렴 간담회</td>\n",
       "      <td>2018-01-12 09:10</td>\n",
       "      <td>서울시청구내식당(중구 세종대로 110)</td>\n",
       "    </tr>\n",
       "  </tbody>\n",
       "</table>\n",
       "</div>"
      ],
      "text/plain": [
       "     1소속부서 결제방법           구분            대상인원      부서명      집행금액  \\\n",
       "연번                                                                \n",
       "1   서울특별시장   카드  시정 관련 간담회 등        시장 등 12명  행정국 총무과  344000.0   \n",
       "2   서울특별시장   카드  시정 관련 간담회 등  시장, 청년단체 등 38명  행정국 총무과  450000.0   \n",
       "3   서울특별시장   카드  시정 관련 간담회 등         시장 등 8명  행정국 총무과  226000.0   \n",
       "4   서울특별시장   카드  시정 관련 간담회 등        시장 등 11명  행정국 총무과  324500.0   \n",
       "5   서울특별시장   카드  시정 관련 간담회 등        시장 등 25명  행정국 총무과  737500.0   \n",
       "\n",
       "                        집행목적              집행일시                     집행장소  \n",
       "연번                                                                       \n",
       "1             시정 정책추진 자문 간담회  2018-01-19 20:41    동신참치양재직(서초구 강남대로 213)  \n",
       "2          시정 청년 정책 의견수렴 간담회  2018-01-23 19:06  서울시청구내식당 ( 중구 세종대로 110)  \n",
       "3   시정 주요 경제정책 현안추진 의견수렴 간담회  2018-01-29 20:13             한뫼촌(종로구 북촌로)  \n",
       "4             시정종교계 의견수렴 간담회  2018-01-12 09:09    서울시청구내식당(중구 세종대로 110)  \n",
       "5          시정 정책 추진 의견수렴 간담회  2018-01-12 09:10    서울시청구내식당(중구 세종대로 110)  "
      ]
     },
     "execution_count": 7,
     "metadata": {},
     "output_type": "execute_result"
    }
   ],
   "source": [
    "df.head()"
   ]
  },
  {
   "cell_type": "code",
   "execution_count": 9,
   "id": "262c84d5",
   "metadata": {},
   "outputs": [
    {
     "data": {
      "text/html": [
       "<div>\n",
       "<style scoped>\n",
       "    .dataframe tbody tr th:only-of-type {\n",
       "        vertical-align: middle;\n",
       "    }\n",
       "\n",
       "    .dataframe tbody tr th {\n",
       "        vertical-align: top;\n",
       "    }\n",
       "\n",
       "    .dataframe thead th {\n",
       "        text-align: right;\n",
       "    }\n",
       "</style>\n",
       "<table border=\"1\" class=\"dataframe\">\n",
       "  <thead>\n",
       "    <tr style=\"text-align: right;\">\n",
       "      <th></th>\n",
       "      <th>1소속부서</th>\n",
       "      <th>결제방법</th>\n",
       "      <th>구분</th>\n",
       "      <th>대상인원</th>\n",
       "      <th>부서명</th>\n",
       "      <th>집행금액</th>\n",
       "      <th>집행목적</th>\n",
       "      <th>집행일시</th>\n",
       "      <th>집행장소</th>\n",
       "    </tr>\n",
       "    <tr>\n",
       "      <th>연번</th>\n",
       "      <th></th>\n",
       "      <th></th>\n",
       "      <th></th>\n",
       "      <th></th>\n",
       "      <th></th>\n",
       "      <th></th>\n",
       "      <th></th>\n",
       "      <th></th>\n",
       "      <th></th>\n",
       "    </tr>\n",
       "  </thead>\n",
       "  <tbody>\n",
       "    <tr>\n",
       "      <th>39</th>\n",
       "      <td>시민건강국</td>\n",
       "      <td>카드</td>\n",
       "      <td>NaN</td>\n",
       "      <td>보건의료정책 직원 4명</td>\n",
       "      <td>시민건강국 보건의료정책과</td>\n",
       "      <td>110000.0</td>\n",
       "      <td>보건의료정책과 2016년 종무식 추진관련 직원격려물품 구입비 지급</td>\n",
       "      <td>2016-12-29 13:23</td>\n",
       "      <td>올리브네트웍스 (중구 세종대로 16길)</td>\n",
       "    </tr>\n",
       "    <tr>\n",
       "      <th>40</th>\n",
       "      <td>시민건강국</td>\n",
       "      <td>카드</td>\n",
       "      <td>NaN</td>\n",
       "      <td>시민건강국장 외 7명</td>\n",
       "      <td>시민건강국 보건의료정책과</td>\n",
       "      <td>118000.0</td>\n",
       "      <td>2017년 신년업무보고 계획 논의 간담회비 지급</td>\n",
       "      <td>2016-12-29 21:19</td>\n",
       "      <td>남도한식고운님 (중구 세종대로 82)</td>\n",
       "    </tr>\n",
       "    <tr>\n",
       "      <th>41</th>\n",
       "      <td>시민건강국</td>\n",
       "      <td>카드</td>\n",
       "      <td>NaN</td>\n",
       "      <td>시민건강국장 외 6명</td>\n",
       "      <td>시민건강국 보건의료정책과</td>\n",
       "      <td>174000.0</td>\n",
       "      <td>시민건강국 간부 송년 오찬간담회비 지급</td>\n",
       "      <td>2016-12-30 13:04</td>\n",
       "      <td>춘산에프앤비 (중구 태평로1가 84)</td>\n",
       "    </tr>\n",
       "    <tr>\n",
       "      <th>42</th>\n",
       "      <td>시민건강국</td>\n",
       "      <td>카드</td>\n",
       "      <td>NaN</td>\n",
       "      <td>보건의료정책과 직원</td>\n",
       "      <td>시민건강국 보건의료정책과</td>\n",
       "      <td>30000.0</td>\n",
       "      <td>보건의료정책과 2016년 종무식 추진관련 직원격려물품 구입비 지급</td>\n",
       "      <td>2016-12-30 13:13</td>\n",
       "      <td>스타벅스 (중구 을지로 19)</td>\n",
       "    </tr>\n",
       "    <tr>\n",
       "      <th>43</th>\n",
       "      <td>시민건강국</td>\n",
       "      <td>카드</td>\n",
       "      <td>NaN</td>\n",
       "      <td>보건의료정책과 직원</td>\n",
       "      <td>시민건강국 보건의료정책과</td>\n",
       "      <td>40000.0</td>\n",
       "      <td>보건의료정책과 2016년 종무식 추진관련 직원격려물품 구입비 지급</td>\n",
       "      <td>2016-12-30 13:04</td>\n",
       "      <td>스타벅스 (중구 을지로 19)</td>\n",
       "    </tr>\n",
       "  </tbody>\n",
       "</table>\n",
       "</div>"
      ],
      "text/plain": [
       "    1소속부서 결제방법   구분          대상인원            부서명      집행금액  \\\n",
       "연번                                                           \n",
       "39  시민건강국   카드  NaN  보건의료정책 직원 4명  시민건강국 보건의료정책과  110000.0   \n",
       "40  시민건강국   카드  NaN   시민건강국장 외 7명  시민건강국 보건의료정책과  118000.0   \n",
       "41  시민건강국   카드  NaN   시민건강국장 외 6명  시민건강국 보건의료정책과  174000.0   \n",
       "42  시민건강국   카드  NaN    보건의료정책과 직원  시민건강국 보건의료정책과   30000.0   \n",
       "43  시민건강국   카드  NaN    보건의료정책과 직원  시민건강국 보건의료정책과   40000.0   \n",
       "\n",
       "                                    집행목적              집행일시  \\\n",
       "연번                                                           \n",
       "39  보건의료정책과 2016년 종무식 추진관련 직원격려물품 구입비 지급  2016-12-29 13:23   \n",
       "40            2017년 신년업무보고 계획 논의 간담회비 지급  2016-12-29 21:19   \n",
       "41                 시민건강국 간부 송년 오찬간담회비 지급  2016-12-30 13:04   \n",
       "42  보건의료정책과 2016년 종무식 추진관련 직원격려물품 구입비 지급  2016-12-30 13:13   \n",
       "43  보건의료정책과 2016년 종무식 추진관련 직원격려물품 구입비 지급  2016-12-30 13:04   \n",
       "\n",
       "                     집행장소  \n",
       "연번                         \n",
       "39  올리브네트웍스 (중구 세종대로 16길)  \n",
       "40   남도한식고운님 (중구 세종대로 82)  \n",
       "41   춘산에프앤비 (중구 태평로1가 84)  \n",
       "42       스타벅스 (중구 을지로 19)  \n",
       "43       스타벅스 (중구 을지로 19)  "
      ]
     },
     "execution_count": 9,
     "metadata": {},
     "output_type": "execute_result"
    }
   ],
   "source": [
    "df.tail()"
   ]
  },
  {
   "cell_type": "code",
   "execution_count": 10,
   "id": "3de8eaab",
   "metadata": {},
   "outputs": [
    {
     "data": {
      "text/plain": [
       "1소속부서     object\n",
       "결제방법      object\n",
       "구분        object\n",
       "대상인원      object\n",
       "부서명       object\n",
       "집행금액     float64\n",
       "집행목적      object\n",
       "집행일시      object\n",
       "집행장소      object\n",
       "dtype: object"
      ]
     },
     "execution_count": 10,
     "metadata": {},
     "output_type": "execute_result"
    }
   ],
   "source": [
    "df.dtypes"
   ]
  },
  {
   "cell_type": "code",
   "execution_count": 11,
   "id": "39d3d20f",
   "metadata": {},
   "outputs": [
    {
     "name": "stdout",
     "output_type": "stream",
     "text": [
      "<class 'pandas.core.frame.DataFrame'>\n",
      "Index: 51456 entries, 1 to 43\n",
      "Data columns (total 9 columns):\n",
      " #   Column  Non-Null Count  Dtype  \n",
      "---  ------  --------------  -----  \n",
      " 0   1소속부서   51456 non-null  object \n",
      " 1   결제방법    51279 non-null  object \n",
      " 2   구분      1479 non-null   object \n",
      " 3   대상인원    51448 non-null  object \n",
      " 4   부서명     51454 non-null  object \n",
      " 5   집행금액    51455 non-null  float64\n",
      " 6   집행목적    51440 non-null  object \n",
      " 7   집행일시    51455 non-null  object \n",
      " 8   집행장소    51421 non-null  object \n",
      "dtypes: float64(1), object(8)\n",
      "memory usage: 3.9+ MB\n"
     ]
    }
   ],
   "source": [
    "df.info()"
   ]
  },
  {
   "cell_type": "code",
   "execution_count": 12,
   "id": "48cd3a15",
   "metadata": {},
   "outputs": [
    {
     "data": {
      "text/plain": [
       "<AxesSubplot:>"
      ]
     },
     "execution_count": 12,
     "metadata": {},
     "output_type": "execute_result"
    },
    {
     "data": {
      "image/png": "[encoded data removed]",
      "text/plain": [
       "<Figure size 1008x576 with 2 Axes>"
      ]
     },
     "metadata": {
      "needs_background": "light"
     },
     "output_type": "display_data"
    }
   ],
   "source": [
    "msno.matrix(df, figsize=[14, 8])"
   ]
  },
  {
   "cell_type": "code",
   "execution_count": 13,
   "id": "3dbe03af",
   "metadata": {},
   "outputs": [
    {
     "data": {
      "text/plain": [
       "1소속부서        0\n",
       "결제방법       177\n",
       "구분       49977\n",
       "대상인원         8\n",
       "부서명          2\n",
       "집행금액         1\n",
       "집행목적        16\n",
       "집행일시         1\n",
       "집행장소        35\n",
       "dtype: int64"
      ]
     },
     "execution_count": 13,
     "metadata": {},
     "output_type": "execute_result"
    }
   ],
   "source": [
    "df.isnull().sum()"
   ]
  },
  {
   "cell_type": "code",
   "execution_count": 14,
   "id": "d7fa790e",
   "metadata": {},
   "outputs": [
    {
     "data": {
      "text/html": [
       "<div>\n",
       "<style scoped>\n",
       "    .dataframe tbody tr th:only-of-type {\n",
       "        vertical-align: middle;\n",
       "    }\n",
       "\n",
       "    .dataframe tbody tr th {\n",
       "        vertical-align: top;\n",
       "    }\n",
       "\n",
       "    .dataframe thead th {\n",
       "        text-align: right;\n",
       "    }\n",
       "</style>\n",
       "<table border=\"1\" class=\"dataframe\">\n",
       "  <thead>\n",
       "    <tr style=\"text-align: right;\">\n",
       "      <th></th>\n",
       "      <th>1소속부서</th>\n",
       "      <th>결제방법</th>\n",
       "      <th>구분</th>\n",
       "      <th>대상인원</th>\n",
       "      <th>부서명</th>\n",
       "      <th>집행금액</th>\n",
       "      <th>집행목적</th>\n",
       "      <th>집행일시</th>\n",
       "      <th>집행장소</th>\n",
       "    </tr>\n",
       "    <tr>\n",
       "      <th>연번</th>\n",
       "      <th></th>\n",
       "      <th></th>\n",
       "      <th></th>\n",
       "      <th></th>\n",
       "      <th></th>\n",
       "      <th></th>\n",
       "      <th></th>\n",
       "      <th></th>\n",
       "      <th></th>\n",
       "    </tr>\n",
       "  </thead>\n",
       "  <tbody>\n",
       "    <tr>\n",
       "      <th>해당년월 해당과에 등록된 업무추진비가 없습니다. 2016년 10월 이전의 업무추진비는 상세집행내역을 이용하세요.</th>\n",
       "      <td>서울혁신기획관</td>\n",
       "      <td>NaN</td>\n",
       "      <td>NaN</td>\n",
       "      <td>NaN</td>\n",
       "      <td>NaN</td>\n",
       "      <td>NaN</td>\n",
       "      <td>NaN</td>\n",
       "      <td>NaN</td>\n",
       "      <td>NaN</td>\n",
       "    </tr>\n",
       "  </tbody>\n",
       "</table>\n",
       "</div>"
      ],
      "text/plain": [
       "                                                      1소속부서 결제방법   구분 대상인원  \\\n",
       "연번                                                                           \n",
       "해당년월 해당과에 등록된 업무추진비가 없습니다. 2016년 10월 이전의 업무추진비는...  서울혁신기획관  NaN  NaN  NaN   \n",
       "\n",
       "                                                    부서명  집행금액 집행목적 집행일시 집행장소  \n",
       "연번                                                                            \n",
       "해당년월 해당과에 등록된 업무추진비가 없습니다. 2016년 10월 이전의 업무추진비는...  NaN   NaN  NaN  NaN  NaN  "
      ]
     },
     "execution_count": 14,
     "metadata": {},
     "output_type": "execute_result"
    }
   ],
   "source": [
    "# 집행금액에 NaN인 데이터가 있다. 확인해보자\n",
    "df[df['집행금액'].isnull()]"
   ]
  },
  {
   "cell_type": "code",
   "execution_count": 15,
   "id": "4cd5bea4",
   "metadata": {},
   "outputs": [
    {
     "data": {
      "text/plain": [
       "'해당년월 해당과에 등록된 업무추진비가 없습니다. 2016년 10월 이전의 업무추진비는 상세집행내역을 이용하세요.'"
      ]
     },
     "execution_count": 15,
     "metadata": {},
     "output_type": "execute_result"
    }
   ],
   "source": [
    "missing_df_row = df[df['집행금액'].isnull()].index[0]\n",
    "missing_df_row"
   ]
  },
  {
   "cell_type": "code",
   "execution_count": 17,
   "id": "5f796e8d",
   "metadata": {},
   "outputs": [
    {
     "name": "stdout",
     "output_type": "stream",
     "text": [
      "(51456, 9)\n",
      "(51455, 9)\n"
     ]
    }
   ],
   "source": [
    "# 해당 행을 제거하고 다시 df 데이터프레임으로 저장한다.\n",
    "print(df.shape)\n",
    "df = df.drop(missing_df_row)\n",
    "print(df.shape)"
   ]
  },
  {
   "cell_type": "code",
   "execution_count": 18,
   "id": "9bccf4a7",
   "metadata": {},
   "outputs": [
    {
     "data": {
      "text/plain": [
       "1소속부서        0\n",
       "결제방법       176\n",
       "구분       49976\n",
       "대상인원         7\n",
       "부서명          1\n",
       "집행금액         0\n",
       "집행목적        15\n",
       "집행일시         0\n",
       "집행장소        34\n",
       "dtype: int64"
      ]
     },
     "execution_count": 18,
     "metadata": {},
     "output_type": "execute_result"
    }
   ],
   "source": [
    "df.isnull().sum()"
   ]
  },
  {
   "cell_type": "code",
   "execution_count": 19,
   "id": "0d077bc9",
   "metadata": {},
   "outputs": [
    {
     "data": {
      "text/plain": [
       "1소속부서            object\n",
       "결제방법             object\n",
       "구분               object\n",
       "대상인원             object\n",
       "부서명              object\n",
       "집행금액            float64\n",
       "집행목적             object\n",
       "집행일시     datetime64[ns]\n",
       "집행장소             object\n",
       "dtype: object"
      ]
     },
     "execution_count": 19,
     "metadata": {},
     "output_type": "execute_result"
    }
   ],
   "source": [
    "# 집행일시 열을 이용해서 '연', '월', '연월', '일', '시', '분', '요일' 파생 변수를 만든다.\n",
    "# 판다스에서 to_datetime() 함수를 사용하면 문자열 형태의 날짜 데이터를 날짜/시간 형태의 데이터로 변환할 수 있다.\n",
    "df['집행일시'] = pd.to_datetime(df['집행일시'])\n",
    "df.dtypes"
   ]
  },
  {
   "cell_type": "code",
   "execution_count": 30,
   "id": "b9354c57",
   "metadata": {},
   "outputs": [
    {
     "data": {
      "text/html": [
       "<div>\n",
       "<style scoped>\n",
       "    .dataframe tbody tr th:only-of-type {\n",
       "        vertical-align: middle;\n",
       "    }\n",
       "\n",
       "    .dataframe tbody tr th {\n",
       "        vertical-align: top;\n",
       "    }\n",
       "\n",
       "    .dataframe thead th {\n",
       "        text-align: right;\n",
       "    }\n",
       "</style>\n",
       "<table border=\"1\" class=\"dataframe\">\n",
       "  <thead>\n",
       "    <tr style=\"text-align: right;\">\n",
       "      <th></th>\n",
       "      <th>1소속부서</th>\n",
       "      <th>결제방법</th>\n",
       "      <th>구분</th>\n",
       "      <th>대상인원</th>\n",
       "      <th>부서명</th>\n",
       "      <th>집행금액</th>\n",
       "      <th>집행목적</th>\n",
       "      <th>집행일시</th>\n",
       "      <th>집행장소</th>\n",
       "      <th>연</th>\n",
       "      <th>월</th>\n",
       "      <th>연월</th>\n",
       "      <th>일</th>\n",
       "      <th>시</th>\n",
       "      <th>분</th>\n",
       "      <th>요일</th>\n",
       "    </tr>\n",
       "    <tr>\n",
       "      <th>연번</th>\n",
       "      <th></th>\n",
       "      <th></th>\n",
       "      <th></th>\n",
       "      <th></th>\n",
       "      <th></th>\n",
       "      <th></th>\n",
       "      <th></th>\n",
       "      <th></th>\n",
       "      <th></th>\n",
       "      <th></th>\n",
       "      <th></th>\n",
       "      <th></th>\n",
       "      <th></th>\n",
       "      <th></th>\n",
       "      <th></th>\n",
       "      <th></th>\n",
       "    </tr>\n",
       "  </thead>\n",
       "  <tbody>\n",
       "    <tr>\n",
       "      <th>1</th>\n",
       "      <td>서울특별시장</td>\n",
       "      <td>카드</td>\n",
       "      <td>시정 관련 간담회 등</td>\n",
       "      <td>시장 등 12명</td>\n",
       "      <td>행정국 총무과</td>\n",
       "      <td>344000.0</td>\n",
       "      <td>시정 정책추진 자문 간담회</td>\n",
       "      <td>2018-01-19 20:41:00</td>\n",
       "      <td>동신참치양재직(서초구 강남대로 213)</td>\n",
       "      <td>2018</td>\n",
       "      <td>1</td>\n",
       "      <td>2018-1</td>\n",
       "      <td>19</td>\n",
       "      <td>20</td>\n",
       "      <td>41</td>\n",
       "      <td>4</td>\n",
       "    </tr>\n",
       "    <tr>\n",
       "      <th>2</th>\n",
       "      <td>서울특별시장</td>\n",
       "      <td>카드</td>\n",
       "      <td>시정 관련 간담회 등</td>\n",
       "      <td>시장, 청년단체 등 38명</td>\n",
       "      <td>행정국 총무과</td>\n",
       "      <td>450000.0</td>\n",
       "      <td>시정 청년 정책 의견수렴 간담회</td>\n",
       "      <td>2018-01-23 19:06:00</td>\n",
       "      <td>서울시청구내식당 ( 중구 세종대로 110)</td>\n",
       "      <td>2018</td>\n",
       "      <td>1</td>\n",
       "      <td>2018-1</td>\n",
       "      <td>23</td>\n",
       "      <td>19</td>\n",
       "      <td>6</td>\n",
       "      <td>1</td>\n",
       "    </tr>\n",
       "    <tr>\n",
       "      <th>3</th>\n",
       "      <td>서울특별시장</td>\n",
       "      <td>카드</td>\n",
       "      <td>시정 관련 간담회 등</td>\n",
       "      <td>시장 등 8명</td>\n",
       "      <td>행정국 총무과</td>\n",
       "      <td>226000.0</td>\n",
       "      <td>시정 주요 경제정책 현안추진 의견수렴 간담회</td>\n",
       "      <td>2018-01-29 20:13:00</td>\n",
       "      <td>한뫼촌(종로구 북촌로)</td>\n",
       "      <td>2018</td>\n",
       "      <td>1</td>\n",
       "      <td>2018-1</td>\n",
       "      <td>29</td>\n",
       "      <td>20</td>\n",
       "      <td>13</td>\n",
       "      <td>0</td>\n",
       "    </tr>\n",
       "    <tr>\n",
       "      <th>4</th>\n",
       "      <td>서울특별시장</td>\n",
       "      <td>카드</td>\n",
       "      <td>시정 관련 간담회 등</td>\n",
       "      <td>시장 등 11명</td>\n",
       "      <td>행정국 총무과</td>\n",
       "      <td>324500.0</td>\n",
       "      <td>시정종교계 의견수렴 간담회</td>\n",
       "      <td>2018-01-12 09:09:00</td>\n",
       "      <td>서울시청구내식당(중구 세종대로 110)</td>\n",
       "      <td>2018</td>\n",
       "      <td>1</td>\n",
       "      <td>2018-1</td>\n",
       "      <td>12</td>\n",
       "      <td>9</td>\n",
       "      <td>9</td>\n",
       "      <td>4</td>\n",
       "    </tr>\n",
       "    <tr>\n",
       "      <th>5</th>\n",
       "      <td>서울특별시장</td>\n",
       "      <td>카드</td>\n",
       "      <td>시정 관련 간담회 등</td>\n",
       "      <td>시장 등 25명</td>\n",
       "      <td>행정국 총무과</td>\n",
       "      <td>737500.0</td>\n",
       "      <td>시정 정책 추진 의견수렴 간담회</td>\n",
       "      <td>2018-01-12 09:10:00</td>\n",
       "      <td>서울시청구내식당(중구 세종대로 110)</td>\n",
       "      <td>2018</td>\n",
       "      <td>1</td>\n",
       "      <td>2018-1</td>\n",
       "      <td>12</td>\n",
       "      <td>9</td>\n",
       "      <td>10</td>\n",
       "      <td>4</td>\n",
       "    </tr>\n",
       "  </tbody>\n",
       "</table>\n",
       "</div>"
      ],
      "text/plain": [
       "     1소속부서 결제방법           구분            대상인원      부서명      집행금액  \\\n",
       "연번                                                                \n",
       "1   서울특별시장   카드  시정 관련 간담회 등        시장 등 12명  행정국 총무과  344000.0   \n",
       "2   서울특별시장   카드  시정 관련 간담회 등  시장, 청년단체 등 38명  행정국 총무과  450000.0   \n",
       "3   서울특별시장   카드  시정 관련 간담회 등         시장 등 8명  행정국 총무과  226000.0   \n",
       "4   서울특별시장   카드  시정 관련 간담회 등        시장 등 11명  행정국 총무과  324500.0   \n",
       "5   서울특별시장   카드  시정 관련 간담회 등        시장 등 25명  행정국 총무과  737500.0   \n",
       "\n",
       "                        집행목적                집행일시                     집행장소  \\\n",
       "연번                                                                          \n",
       "1             시정 정책추진 자문 간담회 2018-01-19 20:41:00    동신참치양재직(서초구 강남대로 213)   \n",
       "2          시정 청년 정책 의견수렴 간담회 2018-01-23 19:06:00  서울시청구내식당 ( 중구 세종대로 110)   \n",
       "3   시정 주요 경제정책 현안추진 의견수렴 간담회 2018-01-29 20:13:00             한뫼촌(종로구 북촌로)   \n",
       "4             시정종교계 의견수렴 간담회 2018-01-12 09:09:00    서울시청구내식당(중구 세종대로 110)   \n",
       "5          시정 정책 추진 의견수렴 간담회 2018-01-12 09:10:00    서울시청구내식당(중구 세종대로 110)   \n",
       "\n",
       "       연  월      연월   일   시   분  요일  \n",
       "연번                                   \n",
       "1   2018  1  2018-1  19  20  41   4  \n",
       "2   2018  1  2018-1  23  19   6   1  \n",
       "3   2018  1  2018-1  29  20  13   0  \n",
       "4   2018  1  2018-1  12   9   9   4  \n",
       "5   2018  1  2018-1  12   9  10   4  "
      ]
     },
     "execution_count": 30,
     "metadata": {},
     "output_type": "execute_result"
    }
   ],
   "source": [
    "df['연'] = df['집행일시'].dt.year.astype(int)\n",
    "df['월'] = df['집행일시'].dt.month.astype(int)\n",
    "df['연월'] = df['연'].astype(str) + '-' + df['월'].astype(str)\n",
    "df['일'] = df['집행일시'].dt.day.astype(int)\n",
    "df['시'] = df['집행일시'].dt.hour.astype(int)\n",
    "df['분'] = df['집행일시'].dt.minute.astype(int)\n",
    "df['요일'] = df['집행일시'].dt.dayofweek.astype(int) # 0 => 월, 1 => 화, 2 => 수, 3 => 목, 4 => 금, 5 => 토, 6 => 일\n",
    "df.head()"
   ]
  },
  {
   "cell_type": "code",
   "execution_count": 31,
   "id": "afeadab2",
   "metadata": {},
   "outputs": [
    {
     "data": {
      "text/plain": [
       "<AxesSubplot:xlabel='연', ylabel='count'>"
      ]
     },
     "execution_count": 31,
     "metadata": {},
     "output_type": "execute_result"
    },
    {
     "data": {
      "image/png": "[encoded data removed]",
      "text/plain": [
       "<Figure size 864x576 with 1 Axes>"
      ]
     },
     "metadata": {
      "needs_background": "light"
     },
     "output_type": "display_data"
    }
   ],
   "source": [
    "plt.rcParams['figure.figsize'] = [12, 8]\n",
    "plt.rc('font', size=15)\n",
    "sns.countplot(data=df, x='연')"
   ]
  },
  {
   "cell_type": "code",
   "execution_count": 32,
   "id": "4bac7e87",
   "metadata": {},
   "outputs": [
    {
     "data": {
      "text/plain": [
       "<AxesSubplot:xlabel='월', ylabel='count'>"
      ]
     },
     "execution_count": 32,
     "metadata": {},
     "output_type": "execute_result"
    },
    {
     "data": {
      "image/png": "[encoded data removed]",
      "text/plain": [
       "<Figure size 864x576 with 1 Axes>"
      ]
     },
     "metadata": {
      "needs_background": "light"
     },
     "output_type": "display_data"
    }
   ],
   "source": [
    "plt.rcParams['figure.figsize'] = [12, 8]\n",
    "plt.rc('font', size=15)\n",
    "sns.countplot(data=df, x='월')"
   ]
  },
  {
   "cell_type": "code",
   "execution_count": 35,
   "id": "8c09aece",
   "metadata": {},
   "outputs": [
    {
     "data": {
      "text/plain": [
       "<AxesSubplot:xlabel='연월', ylabel='count'>"
      ]
     },
     "execution_count": 35,
     "metadata": {},
     "output_type": "execute_result"
    },
    {
     "data": {
      "image/png": "[encoded data removed]",
      "text/plain": [
       "<Figure size 1440x576 with 1 Axes>"
      ]
     },
     "metadata": {
      "needs_background": "light"
     },
     "output_type": "display_data"
    }
   ],
   "source": [
    "plt.rcParams['figure.figsize'] = [20, 8]\n",
    "plt.rc('font', size=15)\n",
    "plt.xticks(rotation=45)\n",
    "sns.countplot(data=df, x='연월')"
   ]
  },
  {
   "cell_type": "code",
   "execution_count": 36,
   "id": "d8834da6",
   "metadata": {},
   "outputs": [],
   "source": [
    "# 그래프에 '연월'순으로 보기 위해서 '연', '월'의 오름차순으로 정렬한다.\n",
    "df = df.sort_values(by=['연', '월'], ascending=True)"
   ]
  },
  {
   "cell_type": "code",
   "execution_count": 37,
   "id": "45beb920",
   "metadata": {},
   "outputs": [
    {
     "data": {
      "text/plain": [
       "<AxesSubplot:xlabel='연월', ylabel='count'>"
      ]
     },
     "execution_count": 37,
     "metadata": {},
     "output_type": "execute_result"
    },
    {
     "data": {
      "image/png": "[encoded data removed]",
      "text/plain": [
       "<Figure size 1440x576 with 1 Axes>"
      ]
     },
     "metadata": {
      "needs_background": "light"
     },
     "output_type": "display_data"
    }
   ],
   "source": [
    "plt.rcParams['figure.figsize'] = [20, 8]\n",
    "plt.rc('font', size=15)\n",
    "plt.xticks(rotation=45)\n",
    "sns.countplot(data=df, x='연월')"
   ]
  },
  {
   "cell_type": "code",
   "execution_count": 39,
   "id": "6d621353",
   "metadata": {},
   "outputs": [
    {
     "data": {
      "text/plain": [
       "<AxesSubplot:xlabel='일', ylabel='count'>"
      ]
     },
     "execution_count": 39,
     "metadata": {},
     "output_type": "execute_result"
    },
    {
     "data": {
      "image/png": "[encoded data removed]",
      "text/plain": [
       "<Figure size 1440x576 with 1 Axes>"
      ]
     },
     "metadata": {
      "needs_background": "light"
     },
     "output_type": "display_data"
    }
   ],
   "source": [
    "plt.rcParams['figure.figsize'] = [20, 8]\n",
    "plt.rc('font', size=15)\n",
    "sns.countplot(data=df, x='일')"
   ]
  },
  {
   "cell_type": "code",
   "execution_count": 40,
   "id": "5b8c017d",
   "metadata": {},
   "outputs": [
    {
     "data": {
      "text/plain": [
       "<AxesSubplot:xlabel='시', ylabel='count'>"
      ]
     },
     "execution_count": 40,
     "metadata": {},
     "output_type": "execute_result"
    },
    {
     "data": {
      "image/png": "[encoded data removed]",
      "text/plain": [
       "<Figure size 1440x576 with 1 Axes>"
      ]
     },
     "metadata": {
      "needs_background": "light"
     },
     "output_type": "display_data"
    }
   ],
   "source": [
    "plt.rcParams['figure.figsize'] = [20, 8]\n",
    "plt.rc('font', size=15)\n",
    "sns.countplot(data=df, x='시')"
   ]
  },
  {
   "cell_type": "code",
   "execution_count": 43,
   "id": "8aca5245",
   "metadata": {},
   "outputs": [
    {
     "data": {
      "text/plain": [
       "<AxesSubplot:xlabel='요일', ylabel='count'>"
      ]
     },
     "execution_count": 43,
     "metadata": {},
     "output_type": "execute_result"
    },
    {
     "data": {
      "image/png": "[encoded data removed]",
      "text/plain": [
       "<Figure size 864x576 with 1 Axes>"
      ]
     },
     "metadata": {
      "needs_background": "light"
     },
     "output_type": "display_data"
    }
   ],
   "source": [
    "plt.rcParams['figure.figsize'] = [12, 8]\n",
    "plt.rc('font', size=15)\n",
    "sns.countplot(data=df, x='요일')"
   ]
  },
  {
   "cell_type": "code",
   "execution_count": 45,
   "id": "4e1a0135",
   "metadata": {},
   "outputs": [
    {
     "data": {
      "text/html": [
       "<div>\n",
       "<style scoped>\n",
       "    .dataframe tbody tr th:only-of-type {\n",
       "        vertical-align: middle;\n",
       "    }\n",
       "\n",
       "    .dataframe tbody tr th {\n",
       "        vertical-align: top;\n",
       "    }\n",
       "\n",
       "    .dataframe thead th {\n",
       "        text-align: right;\n",
       "    }\n",
       "</style>\n",
       "<table border=\"1\" class=\"dataframe\">\n",
       "  <thead>\n",
       "    <tr style=\"text-align: right;\">\n",
       "      <th></th>\n",
       "      <th>1소속부서</th>\n",
       "      <th>결제방법</th>\n",
       "      <th>구분</th>\n",
       "      <th>대상인원</th>\n",
       "      <th>부서명</th>\n",
       "      <th>집행금액</th>\n",
       "      <th>집행목적</th>\n",
       "      <th>집행일시</th>\n",
       "      <th>집행장소</th>\n",
       "      <th>연</th>\n",
       "      <th>월</th>\n",
       "      <th>연월</th>\n",
       "      <th>일</th>\n",
       "      <th>시</th>\n",
       "      <th>분</th>\n",
       "      <th>요일</th>\n",
       "      <th>요일_한글</th>\n",
       "    </tr>\n",
       "    <tr>\n",
       "      <th>연번</th>\n",
       "      <th></th>\n",
       "      <th></th>\n",
       "      <th></th>\n",
       "      <th></th>\n",
       "      <th></th>\n",
       "      <th></th>\n",
       "      <th></th>\n",
       "      <th></th>\n",
       "      <th></th>\n",
       "      <th></th>\n",
       "      <th></th>\n",
       "      <th></th>\n",
       "      <th></th>\n",
       "      <th></th>\n",
       "      <th></th>\n",
       "      <th></th>\n",
       "      <th></th>\n",
       "    </tr>\n",
       "  </thead>\n",
       "  <tbody>\n",
       "    <tr>\n",
       "      <th>31</th>\n",
       "      <td>서울특별시장</td>\n",
       "      <td>카드</td>\n",
       "      <td>시정 관련 간담회 등</td>\n",
       "      <td>시장 등 3명</td>\n",
       "      <td>행정국 총무과</td>\n",
       "      <td>34000.0</td>\n",
       "      <td>시정 현장방문 관련 업무협의</td>\n",
       "      <td>1970-01-01 09:00:00</td>\n",
       "      <td>뼈큰감자탕 (대구 중구 명덕로)</td>\n",
       "      <td>1970</td>\n",
       "      <td>1</td>\n",
       "      <td>1970-1</td>\n",
       "      <td>1</td>\n",
       "      <td>9</td>\n",
       "      <td>0</td>\n",
       "      <td>3</td>\n",
       "      <td>목</td>\n",
       "    </tr>\n",
       "    <tr>\n",
       "      <th>46</th>\n",
       "      <td>서울특별시장</td>\n",
       "      <td>카드</td>\n",
       "      <td>시정 관련 간담회 등</td>\n",
       "      <td>시장 등 4명</td>\n",
       "      <td>행정국 총무과</td>\n",
       "      <td>118000.0</td>\n",
       "      <td>시정 정책 추진 자문 간담회</td>\n",
       "      <td>1970-01-01 09:00:00</td>\n",
       "      <td>서울시청구내식당</td>\n",
       "      <td>1970</td>\n",
       "      <td>1</td>\n",
       "      <td>1970-1</td>\n",
       "      <td>1</td>\n",
       "      <td>9</td>\n",
       "      <td>0</td>\n",
       "      <td>3</td>\n",
       "      <td>목</td>\n",
       "    </tr>\n",
       "    <tr>\n",
       "      <th>27</th>\n",
       "      <td>서울특별시장</td>\n",
       "      <td>카드</td>\n",
       "      <td>현업-우수부서 격려 등</td>\n",
       "      <td>직원 26명</td>\n",
       "      <td>행정국 총무과</td>\n",
       "      <td>130000.0</td>\n",
       "      <td>한양조성 도감 추진 노고 직원 격려</td>\n",
       "      <td>1970-01-01 09:00:00</td>\n",
       "      <td>빚은 (중구 세종대로길)</td>\n",
       "      <td>1970</td>\n",
       "      <td>1</td>\n",
       "      <td>1970-1</td>\n",
       "      <td>1</td>\n",
       "      <td>9</td>\n",
       "      <td>0</td>\n",
       "      <td>3</td>\n",
       "      <td>목</td>\n",
       "    </tr>\n",
       "    <tr>\n",
       "      <th>37</th>\n",
       "      <td>서울특별시장</td>\n",
       "      <td>카드</td>\n",
       "      <td>시정 관련 간담회 등</td>\n",
       "      <td>시장 등 7명</td>\n",
       "      <td>행정국 총무과</td>\n",
       "      <td>151400.0</td>\n",
       "      <td>시정 일정 및 현장방문 관련 업무협의</td>\n",
       "      <td>1970-01-01 09:00:00</td>\n",
       "      <td>본도시락 (중구 소공로길)</td>\n",
       "      <td>1970</td>\n",
       "      <td>1</td>\n",
       "      <td>1970-1</td>\n",
       "      <td>1</td>\n",
       "      <td>9</td>\n",
       "      <td>0</td>\n",
       "      <td>3</td>\n",
       "      <td>목</td>\n",
       "    </tr>\n",
       "    <tr>\n",
       "      <th>38</th>\n",
       "      <td>서울특별시장</td>\n",
       "      <td>현금</td>\n",
       "      <td>현업-우수부서 격려 등</td>\n",
       "      <td>직원 1명</td>\n",
       "      <td>행정국 총무과</td>\n",
       "      <td>1000000.0</td>\n",
       "      <td>사망직원 유족 위로금 지급</td>\n",
       "      <td>1970-01-01 09:00:00</td>\n",
       "      <td>-</td>\n",
       "      <td>1970</td>\n",
       "      <td>1</td>\n",
       "      <td>1970-1</td>\n",
       "      <td>1</td>\n",
       "      <td>9</td>\n",
       "      <td>0</td>\n",
       "      <td>3</td>\n",
       "      <td>목</td>\n",
       "    </tr>\n",
       "  </tbody>\n",
       "</table>\n",
       "</div>"
      ],
      "text/plain": [
       "     1소속부서 결제방법            구분     대상인원      부서명       집행금액  \\\n",
       "연번                                                           \n",
       "31  서울특별시장   카드   시정 관련 간담회 등  시장 등 3명  행정국 총무과    34000.0   \n",
       "46  서울특별시장   카드   시정 관련 간담회 등  시장 등 4명  행정국 총무과   118000.0   \n",
       "27  서울특별시장   카드  현업-우수부서 격려 등   직원 26명  행정국 총무과   130000.0   \n",
       "37  서울특별시장   카드   시정 관련 간담회 등  시장 등 7명  행정국 총무과   151400.0   \n",
       "38  서울특별시장   현금  현업-우수부서 격려 등    직원 1명  행정국 총무과  1000000.0   \n",
       "\n",
       "                    집행목적                집행일시               집행장소     연  월  \\\n",
       "연번                                                                         \n",
       "31       시정 현장방문 관련 업무협의 1970-01-01 09:00:00  뼈큰감자탕 (대구 중구 명덕로)  1970  1   \n",
       "46       시정 정책 추진 자문 간담회 1970-01-01 09:00:00           서울시청구내식당  1970  1   \n",
       "27   한양조성 도감 추진 노고 직원 격려 1970-01-01 09:00:00      빚은 (중구 세종대로길)  1970  1   \n",
       "37  시정 일정 및 현장방문 관련 업무협의 1970-01-01 09:00:00     본도시락 (중구 소공로길)  1970  1   \n",
       "38        사망직원 유족 위로금 지급 1970-01-01 09:00:00                  -  1970  1   \n",
       "\n",
       "        연월  일  시  분  요일 요일_한글  \n",
       "연번                             \n",
       "31  1970-1  1  9  0   3     목  \n",
       "46  1970-1  1  9  0   3     목  \n",
       "27  1970-1  1  9  0   3     목  \n",
       "37  1970-1  1  9  0   3     목  \n",
       "38  1970-1  1  9  0   3     목  "
      ]
     },
     "execution_count": 45,
     "metadata": {},
     "output_type": "execute_result"
    }
   ],
   "source": [
    "# 0 => 월, 1 => 화, 2 => 수, 3 => 목, 4 => 금, 5 => 토, 6 => 일\n",
    "weekday = {0: '월', 1: '화', 2: '수', 3: '목', 4: '금', 5: '토', 6: '일'}\n",
    "df['요일_한글'] = df['요일'].apply(lambda x: weekday[x])\n",
    "df.head()"
   ]
  },
  {
   "cell_type": "code",
   "execution_count": 46,
   "id": "45140569",
   "metadata": {},
   "outputs": [
    {
     "data": {
      "text/plain": [
       "<AxesSubplot:xlabel='요일_한글', ylabel='count'>"
      ]
     },
     "execution_count": 46,
     "metadata": {},
     "output_type": "execute_result"
    },
    {
     "data": {
      "image/png": "[encoded data removed]",
      "text/plain": [
       "<Figure size 864x576 with 1 Axes>"
      ]
     },
     "metadata": {
      "needs_background": "light"
     },
     "output_type": "display_data"
    }
   ],
   "source": [
    "plt.rcParams['figure.figsize'] = [12, 8]\n",
    "plt.rc('font', size=15)\n",
    "sns.countplot(data=df, x='요일_한글')"
   ]
  },
  {
   "cell_type": "code",
   "execution_count": 48,
   "id": "be565f6b",
   "metadata": {},
   "outputs": [
    {
     "data": {
      "text/plain": [
       "<AxesSubplot:xlabel='요일_한글', ylabel='count'>"
      ]
     },
     "execution_count": 48,
     "metadata": {},
     "output_type": "execute_result"
    },
    {
     "data": {
      "image/png": "[encoded data removed]",
      "text/plain": [
       "<Figure size 864x576 with 1 Axes>"
      ]
     },
     "metadata": {
      "needs_background": "light"
     },
     "output_type": "display_data"
    }
   ],
   "source": [
    "plt.rcParams['figure.figsize'] = [12, 8]\n",
    "plt.rc('font', size=15)\n",
    "sns.countplot(data=df.sort_values(by=['요일']), x='요일_한글')"
   ]
  },
  {
   "cell_type": "code",
   "execution_count": null,
   "id": "2374c911",
   "metadata": {},
   "outputs": [],
   "source": []
  },
  {
   "cell_type": "code",
   "execution_count": null,
   "id": "ceb05152",
   "metadata": {},
   "outputs": [],
   "source": []
  },
  {
   "cell_type": "code",
   "execution_count": null,
   "id": "72e71e8d",
   "metadata": {},
   "outputs": [],
   "source": []
  },
  {
   "cell_type": "code",
   "execution_count": null,
   "id": "0dc3c4bf",
   "metadata": {},
   "outputs": [],
   "source": []
  }
 ],
 "metadata": {
  "kernelspec": {
   "display_name": "Python 3",
   "language": "python",
   "name": "python3"
  },
  "language_info": {
   "codemirror_mode": {
    "name": "ipython",
    "version": 3
   },
   "file_extension": ".py",
   "mimetype": "text/x-python",
   "name": "python",
   "nbconvert_exporter": "python",
   "pygments_lexer": "ipython3",
   "version": "3.6.8"
  }
 },
 "nbformat": 4,
 "nbformat_minor": 5
}
