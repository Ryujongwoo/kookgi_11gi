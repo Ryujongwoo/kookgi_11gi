{
 "cells": [
  {
   "cell_type": "code",
   "execution_count": 1,
   "id": "c8196570",
   "metadata": {},
   "outputs": [],
   "source": [
    "import random"
   ]
  },
  {
   "cell_type": "code",
   "execution_count": 2,
   "id": "5a6927f6",
   "metadata": {},
   "outputs": [],
   "source": [
    "# 카드 출력에 사용할 숫자와 무늬를 기억하는 리스트를 만든다.\n",
    "number = ['A', '2', '3', '4', '5', '6', '7', '8', '9', '10', 'J', 'Q', 'K']\n",
    "symbol = ['♠', '◇', '♥', '♧']"
   ]
  },
  {
   "cell_type": "code",
   "execution_count": 18,
   "id": "3cb8b2fe",
   "metadata": {},
   "outputs": [
    {
     "name": "stdout",
     "output_type": "stream",
     "text": [
      "♠A  ♠2  ♠3  ♠4  ♠5  ♠6  ♠7  ♠8  ♠9  ♠10 ♠J  ♠Q  ♠K  \n",
      "◇A  ◇2  ◇3  ◇4  ◇5  ◇6  ◇7  ◇8  ◇9  ◇10 ◇J  ◇Q  ◇K  \n",
      "♥A  ♥2  ♥3  ♥4  ♥5  ♥6  ♥7  ♥8  ♥9  ♥10 ♥J  ♥Q  ♥K  \n",
      "♧A  ♧2  ♧3  ♧4  ♧5  ♧6  ♧7  ♧8  ♧9  ♧10 ♧J  ♧Q  ♧K  \n",
      "================================================================================\n",
      "♧J  ♧2  ♧4  ♠6  ♧5  ♥6  ♧A  ♧6  ♠K  ♥K  ♠9  ◇9  ◇2  \n",
      "♥4  ♧9  ♥Q  ♥10 ◇J  ♧10 ◇A  ♧3  ♥3  ♥5  ♠J  ♠8  ◇6  \n",
      "♧Q  ◇5  ♠Q  ♥2  ♥A  ◇7  ♠7  ♠5  ♠A  ♥9  ♠2  ♥J  ◇4  \n",
      "♧K  ♠3  ♧7  ♥8  ◇K  ♧8  ◇8  ◇Q  ◇3  ♠4  ♠10 ◇10 ♥7  \n"
     ]
    }
   ],
   "source": [
    "# 0 ~ 51의 숫자가 채워진 리스트를 만든다. => 카드\n",
    "cards = [i for i in range(52)]\n",
    "# print(cards)\n",
    "\n",
    "# 섞기전 상태를 출력한다. => cards 리스트에 저장된 숫자를 1줄에 13개씩 출력한다.\n",
    "for i in range(len(cards)):\n",
    "    # print('{0:2d} '.format(cards[i] % 13), end='')\n",
    "    # print('{0:2s} '.format(number[cards[i] % 13]), end='') # 숫자만\n",
    "    # print('{0:s} '.format(symbol[cards[i] // 13]), end='') # 무늬만\n",
    "    print('{0:s}{1:2s} '.format(symbol[cards[i] // 13], number[cards[i] % 13]), end='')\n",
    "    if (i + 1) % 13 == 0:\n",
    "        print()\n",
    "print('=' * 80)        \n",
    "\n",
    "# 섞는다.\n",
    "random.shuffle(cards)\n",
    "\n",
    "# 섞은 후 상태를 출력한다.\n",
    "for i in range(len(cards)):\n",
    "    print('{0:s}{1:2s} '.format(symbol[cards[i] // 13], number[cards[i] % 13]), end='')\n",
    "    if (i + 1) % 13 == 0:\n",
    "        print()"
   ]
  },
  {
   "cell_type": "code",
   "execution_count": null,
   "id": "d8c89161",
   "metadata": {},
   "outputs": [],
   "source": []
  },
  {
   "cell_type": "markdown",
   "id": "ad8cc5ad",
   "metadata": {},
   "source": [
    "조편성: 35 => 12명씩 3조"
   ]
  },
  {
   "cell_type": "code",
   "execution_count": 23,
   "id": "670b7e7d",
   "metadata": {},
   "outputs": [
    {
     "name": "stdout",
     "output_type": "stream",
     "text": [
      "김준영 서재원 이정준 이채영 박종준 신영진 김안웅 최선경 고성인 강은혜 김한주 이원희 \n",
      "강수경 주현성 박서림 김상민 심우민 김재호 최동훈 김새별 김민준 김호연 전상욱 정상안 \n",
      "김준석 김동원 이동규 강병규 이재백 조현수 오지원 정윤서 이지수 김원창 장형준 "
     ]
    }
   ],
   "source": [
    "import time\n",
    "student = [\n",
    "    '김호연', '전상욱', '김새별', '이정준', '정상안', '김민준', '김한주', '김상민', '김동원', '이재백',\n",
    "    '이원희', '강병규', '이동규', '심우민', '박종준', '신영진', '최동훈', '장형준', '주현성', '정윤서',\n",
    "    '강수경', '오지원', '박서림', '서재원', '최선경', '김준석', '이지수', '강은혜', '이채영', '김재호',\n",
    "    '김안웅', '고성인', '김준영', '조현수', '김원창'\n",
    "]\n",
    "# print(len(student))\n",
    "# print(student)\n",
    "random.shuffle(student)\n",
    "\n",
    "for i in range(len(student)):\n",
    "    print(student[i], end=' ')\n",
    "    if (i + 1) % 12 == 0:\n",
    "        print()\n",
    "    time.sleep(1)"
   ]
  },
  {
   "cell_type": "code",
   "execution_count": 24,
   "id": "2c920b68",
   "metadata": {
    "scrolled": true
   },
   "outputs": [
    {
     "name": "stdout",
     "output_type": "stream",
     "text": [
      "['강은혜', '고성인', '김안웅', '김준영', '김한주', '박종준', '서재원', '신영진', '이원희', '이정준', '이채영', '최선경']\n",
      "['강수경', '김민준', '김상민', '김새별', '김재호', '김호연', '박서림', '심우민', '전상욱', '정상안', '주현성', '최동훈']\n",
      "['강병규', '김동원', '김원창', '김준석', '오지원', '이동규', '이재백', '이지수', '장형준', '정윤서', '조현수']\n"
     ]
    }
   ],
   "source": [
    "a = ['김준영', '서재원', '이정준', '이채영', '박종준', '신영진', '김안웅', '최선경', '고성인', '강은혜', '김한주', '이원희'] \n",
    "b = ['강수경', '주현성', '박서림', '김상민', '심우민', '김재호', '최동훈', '김새별', '김민준', '김호연', '전상욱', '정상안'] \n",
    "c = ['김준석', '김동원', '이동규', '강병규', '이재백', '조현수', '오지원', '정윤서', '이지수', '김원창', '장형준']\n",
    "a.sort()\n",
    "print(a)\n",
    "b.sort()\n",
    "print(b)\n",
    "c.sort()\n",
    "print(c)"
   ]
  },
  {
   "cell_type": "code",
   "execution_count": null,
   "id": "6452519b",
   "metadata": {},
   "outputs": [],
   "source": [
    "내일부터 당장 대면 수업 희망하시는 분 손 들어주세요"
   ]
  },
  {
   "cell_type": "code",
   "execution_count": null,
   "id": "47354170",
   "metadata": {},
   "outputs": [],
   "source": []
  },
  {
   "cell_type": "code",
   "execution_count": null,
   "id": "e651567d",
   "metadata": {},
   "outputs": [],
   "source": []
  },
  {
   "cell_type": "code",
   "execution_count": null,
   "id": "7305da44",
   "metadata": {},
   "outputs": [],
   "source": []
  }
 ],
 "metadata": {
  "kernelspec": {
   "display_name": "Python 3",
   "language": "python",
   "name": "python3"
  },
  "language_info": {
   "codemirror_mode": {
    "name": "ipython",
    "version": 3
   },
   "file_extension": ".py",
   "mimetype": "text/x-python",
   "name": "python",
   "nbconvert_exporter": "python",
   "pygments_lexer": "ipython3",
   "version": "3.9.5"
  }
 },
 "nbformat": 4,
 "nbformat_minor": 5
}
