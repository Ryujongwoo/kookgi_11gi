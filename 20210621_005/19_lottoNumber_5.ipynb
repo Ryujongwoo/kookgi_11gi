{
 "cells": [
  {
   "cell_type": "code",
   "execution_count": 2,
   "id": "2fe5e224",
   "metadata": {},
   "outputs": [],
   "source": [
    "import random\n",
    "lotto = [i for i in range(1, 46)]"
   ]
  },
  {
   "cell_type": "code",
   "execution_count": 20,
   "id": "7b41aa6b",
   "metadata": {},
   "outputs": [
    {
     "name": "stdout",
     "output_type": "stream",
     "text": [
      "로또 복권 구매 금액을 입력하세요: 5000\n",
      "  1 game: 06 20 23 28 37 45 \n",
      "  2 game: 12 17 29 30 37 42 \n",
      "  3 game: 08 09 11 32 33 39 \n",
      "  4 game: 03 20 22 33 39 44 \n",
      "  5 game: 01 06 15 25 32 38 \n"
     ]
    }
   ],
   "source": [
    "# 로또 복권 구매 금액을 입력받아 입력받은 금액만큼 로또 번호를 출력하는 프로그램\n",
    "# 로또 복권 구매 금액을 입력받는다.\n",
    "money = int(input('로또 복권 구매 금액을 입력하세요: '))\n",
    "# 복권 구매 금액만큼 반복하며 로또 번호를 출력한다.\n",
    "for i in range(money // 1000):\n",
    "    # for 내부에 다른 for가 나와야 하는 경우 반복문을 제어하는 변수 이름은 반드시 다른 이름을 사용해야 한다.\n",
    "    # 바깥 반복과 안쪽 반복의 변수 이름은 달라야한다.\n",
    "    for j in range(1000000):\n",
    "        r = random.randrange(1, 45)\n",
    "        lotto[0], lotto[r] = lotto[r], lotto[0]\n",
    "    # ===== for j in range(1000000)\n",
    "    print('{0:3d} game: '.format(i + 1), end='')\n",
    "    \n",
    "    # 자동으로 생성된 복권 번호를 오름차순으로 정렬한다.\n",
    "    result = lotto[:6]\n",
    "    result.sort()\n",
    "    \n",
    "    for j in range(6):\n",
    "        print('{0:02d} '.format(result[j]), end='')\n",
    "    # ===== for j in range(6)\n",
    "    print()\n",
    "# ===== for i in range(money // 1000)"
   ]
  },
  {
   "cell_type": "code",
   "execution_count": null,
   "id": "34fcf2b7",
   "metadata": {},
   "outputs": [],
   "source": []
  },
  {
   "cell_type": "code",
   "execution_count": null,
   "id": "d5776ad6",
   "metadata": {},
   "outputs": [],
   "source": []
  },
  {
   "cell_type": "code",
   "execution_count": null,
   "id": "1412cf68",
   "metadata": {},
   "outputs": [],
   "source": []
  },
  {
   "cell_type": "code",
   "execution_count": null,
   "id": "855cafd1",
   "metadata": {},
   "outputs": [],
   "source": []
  },
  {
   "cell_type": "code",
   "execution_count": null,
   "id": "31023372",
   "metadata": {},
   "outputs": [],
   "source": []
  },
  {
   "cell_type": "code",
   "execution_count": null,
   "id": "b6f194c0",
   "metadata": {},
   "outputs": [],
   "source": []
  },
  {
   "cell_type": "code",
   "execution_count": null,
   "id": "48e50c07",
   "metadata": {},
   "outputs": [],
   "source": []
  },
  {
   "cell_type": "code",
   "execution_count": null,
   "id": "a5e8ac56",
   "metadata": {},
   "outputs": [],
   "source": []
  },
  {
   "cell_type": "code",
   "execution_count": null,
   "id": "680fb714",
   "metadata": {},
   "outputs": [],
   "source": []
  }
 ],
 "metadata": {
  "kernelspec": {
   "display_name": "Python 3",
   "language": "python",
   "name": "python3"
  },
  "language_info": {
   "codemirror_mode": {
    "name": "ipython",
    "version": 3
   },
   "file_extension": ".py",
   "mimetype": "text/x-python",
   "name": "python",
   "nbconvert_exporter": "python",
   "pygments_lexer": "ipython3",
   "version": "3.9.5"
  }
 },
 "nbformat": 4,
 "nbformat_minor": 5
}
