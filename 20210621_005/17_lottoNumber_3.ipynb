{
 "cells": [
  {
   "cell_type": "code",
   "execution_count": 1,
   "id": "2fe5e224",
   "metadata": {},
   "outputs": [],
   "source": [
    "import random\n",
    "import time"
   ]
  },
  {
   "cell_type": "code",
   "execution_count": 2,
   "id": "7b41aa6b",
   "metadata": {},
   "outputs": [
    {
     "name": "stdout",
     "output_type": "stream",
     "text": [
      "1등 번호: 42 31 35 24 30  8 보너스 번호: 36\n"
     ]
    }
   ],
   "source": [
    "# 로또 추첨기로 사용할 리스트를 만들고 1 ~ 45로 초기화시킨다.\n",
    "# lotto = []\n",
    "# for i in range(45):\n",
    "    # lotto.append(i + 1)\n",
    "lotto = [i for i in range(1, 46)]\n",
    "# print(lotto)\n",
    "\n",
    "'''\n",
    "# 섞기전 상태를 출력한다.\n",
    "for i in range(len(lotto)):\n",
    "    print('{0:2d} '.format(lotto[i]), end='')\n",
    "    if (i + 1) % 10 == 0:\n",
    "        print()\n",
    "    # ===== if (i + 1) % 10 == 0\n",
    "# ===== for i in range(len(lotto))\n",
    "print('\\n' + '=' * 40 + ' 섞기전')\n",
    "'''\n",
    "\n",
    "# 섞는다.\n",
    "# shuffle() 메소드를 사용하면 데이터를 뒤죽박죽으로 섞는다.\n",
    "# random.shuffle(lotto)\n",
    "# lotto[0]와(고정) lotto[1] ~ lotto[44] 중에서 랜덤한 위치의 값을 선택해서 두 기억장조의 데이터를 교환한다.\n",
    "for i in range(1000000):\n",
    "    # 1 ~ 44 중에서 랜덤한 위치를 선택한다.\n",
    "    r = random.randrange(1, 45)\n",
    "    # lotto[0]와 lotto[r]에 저장된 데이터를 교환한다.\n",
    "    # temp = lotto[0]\n",
    "    # lotto[0] = lotto[r]\n",
    "    # lotto[r] = temp\n",
    "    lotto[0], lotto[r] = lotto[r], lotto[0]\n",
    "\n",
    "'''\n",
    "# 섞은후 상태를 출력한다.\n",
    "for i in range(len(lotto)):\n",
    "    print('{0:2d} '.format(lotto[i]), end='')\n",
    "    if (i + 1) % 10 == 0:\n",
    "        print()\n",
    "print('\\n' + '=' * 40 + ' 섞은후')\n",
    "'''\n",
    "\n",
    "# 1등 번호와 보너스 번호를 출력한다.\n",
    "print('1등 번호: ', end='')\n",
    "for i in range(6):\n",
    "    print('{0:2d} '.format(lotto[i]), end='')\n",
    "    time.sleep(1)\n",
    "print('보너스 번호: {0:2d}'.format(lotto[6]))"
   ]
  },
  {
   "cell_type": "code",
   "execution_count": null,
   "id": "3fbd14a3",
   "metadata": {},
   "outputs": [],
   "source": []
  },
  {
   "cell_type": "code",
   "execution_count": null,
   "id": "08645287",
   "metadata": {},
   "outputs": [],
   "source": []
  },
  {
   "cell_type": "code",
   "execution_count": null,
   "id": "ae946e8b",
   "metadata": {},
   "outputs": [],
   "source": []
  },
  {
   "cell_type": "code",
   "execution_count": null,
   "id": "a894a7d7",
   "metadata": {},
   "outputs": [],
   "source": []
  },
  {
   "cell_type": "code",
   "execution_count": null,
   "id": "88673ec7",
   "metadata": {},
   "outputs": [],
   "source": []
  },
  {
   "cell_type": "code",
   "execution_count": null,
   "id": "1bb80e12",
   "metadata": {},
   "outputs": [],
   "source": []
  }
 ],
 "metadata": {
  "kernelspec": {
   "display_name": "Python 3",
   "language": "python",
   "name": "python3"
  },
  "language_info": {
   "codemirror_mode": {
    "name": "ipython",
    "version": 3
   },
   "file_extension": ".py",
   "mimetype": "text/x-python",
   "name": "python",
   "nbconvert_exporter": "python",
   "pygments_lexer": "ipython3",
   "version": "3.9.5"
  }
 },
 "nbformat": 4,
 "nbformat_minor": 5
}
