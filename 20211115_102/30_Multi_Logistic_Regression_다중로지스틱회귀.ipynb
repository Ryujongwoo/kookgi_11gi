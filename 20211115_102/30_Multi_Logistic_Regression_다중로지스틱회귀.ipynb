{
 "cells": [
  {
   "cell_type": "code",
   "execution_count": 1,
   "id": "2e11ed5a",
   "metadata": {},
   "outputs": [
    {
     "name": "stdout",
     "output_type": "stream",
     "text": [
      "WARNING:tensorflow:From c:\\python\\lib\\site-packages\\tensorflow\\python\\compat\\v2_compat.py:101: disable_resource_variables (from tensorflow.python.ops.variable_scope) is deprecated and will be removed in a future version.\n",
      "Instructions for updating:\n",
      "non-resource variables are not supported in the long term\n"
     ]
    }
   ],
   "source": [
    "import warnings\n",
    "warnings.filterwarnings('ignore')\n",
    "import numpy as np\n",
    "import pandas as pd\n",
    "import tensorflow.compat.v1 as tf\n",
    "tf.disable_v2_behavior()"
   ]
  },
  {
   "cell_type": "markdown",
   "id": "047032fe",
   "metadata": {},
   "source": [
    "학습 데이터를 만든다."
   ]
  },
  {
   "cell_type": "code",
   "execution_count": 2,
   "id": "3389bec0",
   "metadata": {
    "scrolled": true
   },
   "outputs": [
    {
     "name": "stdout",
     "output_type": "stream",
     "text": [
      "<class 'list'>\n",
      "[[2, 3], [4, 3], [6, 4], [8, 6], [10, 7], [12, 8], [14, 9]]\n",
      "<class 'numpy.ndarray'>\n",
      "[[ 2  3]\n",
      " [ 4  3]\n",
      " [ 6  4]\n",
      " [ 8  6]\n",
      " [10  7]\n",
      " [12  8]\n",
      " [14  9]]\n"
     ]
    }
   ],
   "source": [
    "# xData => [공부 시간, 과외 시간]\n",
    "temp = [[2, 3], [4, 3], [6, 4], [8, 6], [10, 7], [12, 8], [14, 9]]\n",
    "print(type(temp))\n",
    "print(temp)\n",
    "\n",
    "# array() 함수로 파이썬 리스트를 넘파이 배열로 만든다.\n",
    "xData = np.array(temp)\n",
    "print(type(xData))\n",
    "print(xData)"
   ]
  },
  {
   "cell_type": "code",
   "execution_count": 3,
   "id": "fe2d6042",
   "metadata": {},
   "outputs": [
    {
     "name": "stdout",
     "output_type": "stream",
     "text": [
      "<class 'list'>\n",
      "[0, 0, 0, 1, 1, 1, 1]\n",
      "<class 'numpy.ndarray'>\n",
      "[[0]\n",
      " [0]\n",
      " [0]\n",
      " [1]\n",
      " [1]\n",
      " [1]\n",
      " [1]]\n",
      "2\n"
     ]
    }
   ],
   "source": [
    "# yData => [합격 여부] => 실제값, 0: 불합격, 1: 합격\n",
    "temp = [0, 0, 0, 1, 1, 1, 1]\n",
    "print(type(temp))\n",
    "print(temp)\n",
    "\n",
    "# yData = np.array(temp) # 1행 7열인 1차원 배열\n",
    "# print(type(yData))\n",
    "# print(yData)\n",
    "# print(yData.ndim)\n",
    "\n",
    "# reshape() 함수로 1행 7열인 1차원 넘파이 배열을 7행 1열인 2차원 넘파이 배열로 변환한다.\n",
    "yData = np.array(temp).reshape(7, 1)\n",
    "print(type(yData))\n",
    "print(yData)\n",
    "print(yData.ndim)"
   ]
  },
  {
   "cell_type": "markdown",
   "id": "43e5d9e3",
   "metadata": {},
   "source": [
    "xData와 yData를 저장할 placeholder를 만든다."
   ]
  },
  {
   "cell_type": "code",
   "execution_count": 4,
   "id": "f5949da1",
   "metadata": {},
   "outputs": [],
   "source": [
    "# placeholder에 넘파이 배열을 대입하는 경우 shape 속성을 이용해서 대입되는 넘파이 배열의 차원을 지정해야 한다.\n",
    "# [None, 2] => placeholder에 대입되는 넘파이 배열은 행의 개수는 몇개라도 상관없고 열의 개수는 무조건 2개이다.\n",
    "X = tf.placeholder(dtype=tf.float32, shape=[None, 2]) # xData가 대입될 placeholder\n",
    "Y = tf.placeholder(dtype=tf.float32, shape=[None, 1]) # yData가 대입될 placeholder"
   ]
  },
  {
   "cell_type": "markdown",
   "id": "2fa93658",
   "metadata": {},
   "source": [
    "기울기(가중치) a와 y절편(바이어스) b를 임의로 정한다."
   ]
  },
  {
   "cell_type": "code",
   "execution_count": 5,
   "id": "9a468124",
   "metadata": {},
   "outputs": [
    {
     "name": "stdout",
     "output_type": "stream",
     "text": [
      "a = [[0.6760092]\n",
      " [0.4505725]]\n",
      "b = [0.29614782]\n",
      "a1 = [0.6760092], a2 = [0.4505725], b = [0.29614782]\n"
     ]
    }
   ],
   "source": [
    "a = tf.Variable(tf.random_uniform([2, 1]), tf.float32) # 난수를 2행 1열로 만든다. => 행렬의 내적(곱)을 이용해 처리한다.\n",
    "b = tf.Variable(tf.random_uniform([1]), tf.float32)\n",
    "\n",
    "sess = tf.Session()\n",
    "sess.run(tf.global_variables_initializer())\n",
    "print('a = {}'.format(sess.run(a)))\n",
    "print('b = {}'.format(sess.run(b)))\n",
    "print('a1 = {}, a2 = {}, b = {}'.format(sess.run(a)[0], sess.run(a)[1], sess.run(b)))"
   ]
  },
  {
   "cell_type": "markdown",
   "id": "77e3b6bf",
   "metadata": {},
   "source": [
    "시그모이드 방정식, 오차 함수, 경사 하강"
   ]
  },
  {
   "cell_type": "code",
   "execution_count": 6,
   "id": "f5fe2412",
   "metadata": {},
   "outputs": [],
   "source": [
    "# sigmoid() 함수로 tensorflow에서 시그모이드 방정식을 계산한다.\n",
    "# matmul() 함수로 tensorflow에서 행렬의 내적(곱)을 계산한다.\n",
    "y = tf.sigmoid(tf.matmul(X, a) + b)\n",
    "loss = -tf.reduce_mean(Y * tf.log(y) + (1 - Y) * tf.log(1 - y))\n",
    "gradient_descent = tf.train.GradientDescentOptimizer(0.1).minimize(loss)"
   ]
  },
  {
   "cell_type": "markdown",
   "id": "668b0694",
   "metadata": {},
   "source": [
    "sigmoid() 함수의 실행 결과(y)가 0.5 이상이면 1을 0.5 미만이면 0을 리턴시킨다."
   ]
  },
  {
   "cell_type": "code",
   "execution_count": 7,
   "id": "cf53e469",
   "metadata": {},
   "outputs": [
    {
     "name": "stdout",
     "output_type": "stream",
     "text": [
      "0\n",
      "1\n"
     ]
    }
   ],
   "source": [
    "sess = tf.Session()\n",
    "# cast(캐스팅할 데이터, dtype=캐스팅할 데이터 타입) 함수로 tensorflow에서 형변환을 실행한다.\n",
    "# predicted = tf.cast(tf.constant([1.9, 2.1]), dtype=tf.int32)\n",
    "# print(sess.run(predicted)) # [1 2]\n",
    "\n",
    "# case() 함수는 캐스팅할 데이터가 boolean 타입이면 True는 1로 False는 0으로 캐스팅 한다.\n",
    "predicted = tf.cast(0.4 >= 0.5, dtype=tf.int32)\n",
    "print(sess.run(predicted))\n",
    "predicted = tf.cast(0.5 >= 0.5, dtype=tf.int32)\n",
    "print(sess.run(predicted))"
   ]
  },
  {
   "cell_type": "markdown",
   "id": "0a153082",
   "metadata": {},
   "source": [
    "sigmoid() 함수를 실행한 예측값을 계산한다."
   ]
  },
  {
   "cell_type": "code",
   "execution_count": 8,
   "id": "2d0032f3",
   "metadata": {},
   "outputs": [],
   "source": [
    "predicted = tf.cast(y >= 0.5, dtype=tf.float32) # 예측값, sigmoid() 함수를 실행한 결과(y)를 0 또는 1로 변환한다.\n",
    "# sigmoid() 함수를 실행해서 얻은 예측값(predicted)이 실제값(Y)과 일치하는 정도(정확도, accuracy)를 계산한다.\n",
    "# equal()는 tensorflow에서 인수로 지정된 값이 같으면 True, 다르면 False를 리턴한다.\n",
    "# equal() 함수로 예측값(predicted)과 실제값(Y)이 같은가 비교한 후 리턴되는 True 또는 False를 1 또는 0으로 캐스팅하고 시행된\n",
    "# 전체 결과의 평균을 계산한다.\n",
    "accuracy = tf.reduce_mean(tf.cast(tf.equal(predicted, Y), dtype=tf.float32)) # 정확도"
   ]
  },
  {
   "cell_type": "markdown",
   "id": "c29ef337",
   "metadata": {},
   "source": [
    "학습시킨다."
   ]
  },
  {
   "cell_type": "code",
   "execution_count": 9,
   "id": "ce1fc9c4",
   "metadata": {},
   "outputs": [
    {
     "name": "stdout",
     "output_type": "stream",
     "text": [
      "Epoch:    0, a1:   0.41968, a2:   0.42767, b:   0.94826, loss:   2.25342\n",
      "Epoch:  300, a1:   0.86869, a2:  -0.67761, b:  -2.16288, loss:   0.28384\n",
      "Epoch:  600, a1:   0.86685, a2:  -0.39211, b:  -3.69984, loss:   0.20096\n",
      "Epoch:  900, a1:   0.77120, a2:  -0.04962, b:  -4.80282, loss:   0.15588\n",
      "Epoch: 1200, a1:   0.66190, a2:   0.26955, b:  -5.67057, loss:   0.12686\n",
      "Epoch: 1500, a1:   0.55811, a2:   0.55308, b:  -6.38729, loss:   0.10664\n",
      "Epoch: 1800, a1:   0.46461, a2:   0.80235, b:  -6.99819, loss:   0.09180\n",
      "Epoch: 2100, a1:   0.38186, a2:   1.02173, b:  -7.53068, loss:   0.08049\n",
      "Epoch: 2400, a1:   0.30892, a2:   1.21586, b:  -8.00271, loss:   0.07162\n",
      "Epoch: 2700, a1:   0.24452, a2:   1.38883, b:  -8.42668, loss:   0.06448\n",
      "Epoch: 3000, a1:   0.18740, a2:   1.54409, b:  -8.81152, loss:   0.05862\n"
     ]
    }
   ],
   "source": [
    "sess = tf.Session()\n",
    "sess.run(tf.global_variables_initializer())\n",
    "\n",
    "for i in range(3001):\n",
    "    # sess.run([기울기, y절편, 오차함수, 경사하강], feed_dict={X: 입력 데이터, Y: 입력 데이터에 따른 실제값})\n",
    "    # 연산을 하긴 하는데 결과를 사용하지 않을 실행 결과를 기억하는 변수는 '_'로 사용한다.\n",
    "    a_, b_, loss_, _ = sess.run([a, b, loss, gradient_descent], feed_dict={X: xData, Y: yData})\n",
    "    if i % 300 == 0:\n",
    "        # Epoch: 학습 횟수, a1: 공부 시간 기울기, a2: 과외 시간 기울기, b: y절편, loss: 오차 함수\n",
    "        # print('Epoch: %4d, a1: %9.5f, a2: %9.5f, b: %9.5f, loss: %9.5f' % (i, a_[0], a_[1], b_, loss_))\n",
    "        print('Epoch: {0:4d}, a1: {1:9.5f}, a2: {2:9.5f}, b: {3:9.5f}, loss: {4:9.5f}'.format(i, a_[0][0], a_[1][0], b_[0],\n",
    "                                                                                              loss_))"
   ]
  },
  {
   "cell_type": "code",
   "execution_count": 10,
   "id": "fab0b0f5",
   "metadata": {},
   "outputs": [
    {
     "name": "stdout",
     "output_type": "stream",
     "text": [
      "공부 시간: 6, 과외 시간: 5\n",
      "합격 여부: 합격, 합격 확률:  50.83%\n"
     ]
    }
   ],
   "source": [
    "# 테스트 데이터를 만든다.\n",
    "# new_x = np.array([6, 5]) # 테스트 데이터가 1차원 넘파이 배열이기 때문에 행렬의 곱셈 연산이 실행되지 않는다.\n",
    "# print(new_x) # [6 5] => 1차원\n",
    "# print(new_x.shape) # (2,) => 1차원\n",
    "# print(new_x.ndim) # 1 => 1차원\n",
    "\n",
    "# reshape() 함수로 테스트 데이터를 1행 2열인 2차원 넘파이 배열로 변환해야 행렬의 곱셈 연산이 제대로 실행된다.\n",
    "new_x = np.array([6, 5]).reshape(1, 2)\n",
    "# print(new_x) # [[6 5]] => 2차원\n",
    "# print(new_x.shape) # (1, 2) => 2차원\n",
    "# print(new_x.ndim) # 2 => 2차원\n",
    "\n",
    "# sigmoid() 함수의 연산 결과에 테스트 데이터를 대입해서 연산한다.\n",
    "result, new_y = sess.run([predicted, y], feed_dict={X: new_x})\n",
    "# print('공부 시간: %d, 과외 시간: %d' % (new_x[:, 0], new_x[:, 1]))\n",
    "# print('공부 시간: {}, 과외 시간: {}'.format(new_x[:, 0][0], new_x[:, 1][0]))\n",
    "print('공부 시간: {}, 과외 시간: {}'.format(new_x[0, 0], new_x[0, 1]))\n",
    "# print('합격 여부: %s, 합격 확률: %6.2f%%' % ('합격' if result == 1 else '불합격', new_y * 100))\n",
    "print('합격 여부: {0:s}, 합격 확률: {1:6.2f}%'.format('합격' if result == 1 else '불합격', new_y[0][0] * 100))"
   ]
  },
  {
   "cell_type": "code",
   "execution_count": 11,
   "id": "044f3f09",
   "metadata": {},
   "outputs": [
    {
     "name": "stdout",
     "output_type": "stream",
     "text": [
      "공부 시간:  0, 과외 시간:  0 합격 여부: 불합격, 합격 확률:   0.01%\n",
      "공부 시간:  0, 과외 시간:  1 합격 여부: 불합격, 합격 확률:   0.07%\n",
      "공부 시간:  0, 과외 시간:  2 합격 여부: 불합격, 합격 확률:   0.33%\n",
      "공부 시간:  0, 과외 시간:  3 합격 여부: 불합격, 합격 확률:   1.51%\n",
      "공부 시간:  0, 과외 시간:  4 합격 여부: 불합격, 합격 확률:   6.69%\n",
      "공부 시간:  0, 과외 시간:  5 합격 여부: 불합격, 합격 확률:  25.14%\n",
      "공부 시간:  0, 과외 시간:  6 합격 여부:   합격, 합격 확률:  61.14%\n",
      "공부 시간:  0, 과외 시간:  7 합격 여부:   합격, 합격 확률:  88.05%\n",
      "공부 시간:  0, 과외 시간:  8 합격 여부:   합격, 합격 확률:  97.18%\n",
      "공부 시간:  0, 과외 시간:  9 합격 여부:   합격, 합격 확률:  99.39%\n",
      "공부 시간:  0, 과외 시간: 10 합격 여부:   합격, 합격 확률:  99.87%\n"
     ]
    }
   ],
   "source": [
    "# 공부는 1시간도 안하고 과외 수업만 0 ~ 10 시간을 받았을 경우 합격 여부와 합격 확률을 계산한다.\n",
    "for i in range(11):\n",
    "    new_x = np.array([0, i]).reshape(1, 2)\n",
    "    result, new_y = sess.run([predicted, y], feed_dict={X: new_x})\n",
    "    print('공부 시간: {0:2d}, 과외 시간: {1:2d}'.format(new_x[0, 0], new_x[0, 1]), end=' ')\n",
    "    print('합격 여부: {0:s}, 합격 확률: {1:6.2f}%'.format('  합격' if result == 1 else '불합격', new_y[0][0] * 100))"
   ]
  },
  {
   "cell_type": "code",
   "execution_count": null,
   "id": "94ab7bd3",
   "metadata": {},
   "outputs": [],
   "source": []
  },
  {
   "cell_type": "code",
   "execution_count": null,
   "id": "f9e5dd72",
   "metadata": {},
   "outputs": [],
   "source": []
  },
  {
   "cell_type": "code",
   "execution_count": null,
   "id": "b6b0fa17",
   "metadata": {},
   "outputs": [],
   "source": []
  },
  {
   "cell_type": "code",
   "execution_count": null,
   "id": "c23587db",
   "metadata": {},
   "outputs": [],
   "source": []
  },
  {
   "cell_type": "code",
   "execution_count": null,
   "id": "c2e27139",
   "metadata": {},
   "outputs": [],
   "source": []
  },
  {
   "cell_type": "code",
   "execution_count": null,
   "id": "259ca828",
   "metadata": {},
   "outputs": [],
   "source": []
  }
 ],
 "metadata": {
  "kernelspec": {
   "display_name": "Python 3",
   "language": "python",
   "name": "python3"
  },
  "language_info": {
   "codemirror_mode": {
    "name": "ipython",
    "version": 3
   },
   "file_extension": ".py",
   "mimetype": "text/x-python",
   "name": "python",
   "nbconvert_exporter": "python",
   "pygments_lexer": "ipython3",
   "version": "3.6.8"
  }
 },
 "nbformat": 4,
 "nbformat_minor": 5
}
