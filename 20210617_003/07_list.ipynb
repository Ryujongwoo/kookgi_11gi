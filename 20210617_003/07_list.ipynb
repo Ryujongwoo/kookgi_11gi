{
 "cells": [
  {
   "cell_type": "markdown",
   "id": "f2e34a9a",
   "metadata": {},
   "source": [
    "리스트 만들기  \n",
    "리스트는 데이터를 []로 감싸주고 데이터와 데이터는 ','로 구분한다."
   ]
  },
  {
   "cell_type": "code",
   "execution_count": 4,
   "id": "e9be54cc",
   "metadata": {},
   "outputs": [
    {
     "name": "stdout",
     "output_type": "stream",
     "text": [
      "<class 'list'>\n",
      "[]\n",
      "<class 'list'>\n",
      "[]\n"
     ]
    }
   ],
   "source": [
    "# 빈 리스트 만들기\n",
    "a = []\n",
    "print(type(a))\n",
    "print(a)\n",
    "# 빈 리스트는 생성자 함수를 사용해서도 만들 수 있다.\n",
    "b = list()\n",
    "print(type(b))\n",
    "print(b)"
   ]
  },
  {
   "cell_type": "code",
   "execution_count": 8,
   "id": "15ab3d44",
   "metadata": {},
   "outputs": [
    {
     "name": "stdout",
     "output_type": "stream",
     "text": [
      "[1, 2, 3]\n",
      "['a', 'b', 'c']\n",
      "[100, 'aaa', 200, 'bbb']\n",
      "[100, 'aaa', [200, 'bbb']]\n"
     ]
    }
   ],
   "source": [
    "# 초기치를 가지는 리스트\n",
    "c = [1, 2, 3]\n",
    "print(c)\n",
    "d = ['a', 'b', 'c']\n",
    "print(d)\n",
    "e = [100, 'aaa', 200, 'bbb']\n",
    "print(e)\n",
    "f = [100, 'aaa', [200, 'bbb']] # 데이터 요소로 리스트를 가지는 리스트 => 2차원 리스트\n",
    "print(f)"
   ]
  },
  {
   "cell_type": "markdown",
   "id": "518699fb",
   "metadata": {},
   "source": [
    "리스트 인덱싱"
   ]
  },
  {
   "cell_type": "code",
   "execution_count": 14,
   "id": "f18ff4ba",
   "metadata": {},
   "outputs": [
    {
     "name": "stdout",
     "output_type": "stream",
     "text": [
      "[1, 2, 3]\n",
      "<class 'list'>\n",
      "1\n",
      "<class 'int'>\n",
      "4\n",
      "3\n"
     ]
    }
   ],
   "source": [
    "g = [1, 2, 3]\n",
    "print(g) # 리스트 이름은 리스트 전체를 의미한다.\n",
    "print(type(g))\n",
    "print(g[0])\n",
    "print(type(g[0]))\n",
    "print(g[0] + g[2])\n",
    "print(g[-1])"
   ]
  },
  {
   "cell_type": "code",
   "execution_count": 26,
   "id": "ad35ad72",
   "metadata": {},
   "outputs": [
    {
     "name": "stdout",
     "output_type": "stream",
     "text": [
      "[1, 2, 3, ['a', 'b', 'c']]\n",
      "4\n",
      "['a', 'b', 'c']\n",
      "['a', 'b', 'c']\n",
      "b\n"
     ]
    }
   ],
   "source": [
    "h = [1, 2, 3, ['a', 'b', 'c']]\n",
    "print(h)\n",
    "print(len(h))\n",
    "print(h[3])\n",
    "print(h[-1])\n",
    "print(h[3][1]) # 2차원 인덱싱"
   ]
  },
  {
   "cell_type": "code",
   "execution_count": 30,
   "id": "8396a2e1",
   "metadata": {},
   "outputs": [
    {
     "name": "stdout",
     "output_type": "stream",
     "text": [
      "[1, 2, ['a', 'b', ['life', 'is']]]\n",
      "['a', 'b', ['life', 'is']]\n",
      "['life', 'is']\n",
      "life\n"
     ]
    }
   ],
   "source": [
    "i = [1, 2, ['a', 'b', ['life', 'is']]]\n",
    "print(i)\n",
    "print(i[2])\n",
    "print(i[2][2])\n",
    "print(i[2][2][0])"
   ]
  },
  {
   "cell_type": "markdown",
   "id": "b56203dd",
   "metadata": {},
   "source": [
    "리스트 슬라이싱"
   ]
  },
  {
   "cell_type": "code",
   "execution_count": 41,
   "id": "1c0fc7a9",
   "metadata": {},
   "outputs": [
    {
     "name": "stdout",
     "output_type": "stream",
     "text": [
      "[1, 2, 3, 4, 5]\n",
      "1\n",
      "[1]\n",
      "[1, 2, 3]\n",
      "[3, 4, 5]\n",
      "[1, 2, 3, 4, 5]\n",
      "[1, 3, 5]\n",
      "[5, 4, 3, 2, 1]\n"
     ]
    }
   ],
   "source": [
    "j = [1, 2, 3, 4, 5]\n",
    "print(j)\n",
    "print(j[0])   # 인덱싱 되는 데이터 요소가 상수면 상수로 리턴된다.\n",
    "print(j[0:1]) # 슬라이싱되는 데이터는 상수라도 리스트로 리턴된다.\n",
    "print(j[:3])\n",
    "print(j[2:])\n",
    "print(j[:])\n",
    "print(j[::2])\n",
    "print(j[::-1])"
   ]
  },
  {
   "cell_type": "markdown",
   "id": "105b6dbb",
   "metadata": {},
   "source": [
    "리스트 연산자 => '+'는 2개의 리스트를 연결하고 '*'는 리스트를 반복한다."
   ]
  },
  {
   "cell_type": "code",
   "execution_count": 43,
   "id": "72e039b1",
   "metadata": {},
   "outputs": [
    {
     "name": "stdout",
     "output_type": "stream",
     "text": [
      "[1, 2, 3, 4, 5, 6, 7]\n",
      "[1, 2, 3, 1, 2, 3, 1, 2, 3]\n"
     ]
    }
   ],
   "source": [
    "l = [1, 2, 3]\n",
    "m = [4, 5, 6, 7]\n",
    "print(l + m)\n",
    "print(l * 3)"
   ]
  },
  {
   "cell_type": "markdown",
   "id": "c6e23e92",
   "metadata": {},
   "source": [
    "리스트 데이터 요소의 수정 및 삭제"
   ]
  },
  {
   "cell_type": "code",
   "execution_count": 49,
   "id": "fcc83266",
   "metadata": {},
   "outputs": [
    {
     "name": "stdout",
     "output_type": "stream",
     "text": [
      "[1, 2, 3]\n",
      "[1, 4, 3]\n",
      "[[100, 200, 300], 4, 3]\n",
      "[[100, 200, 300], 4, 'a', 'b', 'c']\n"
     ]
    }
   ],
   "source": [
    "n = [1, 2, 3]\n",
    "print(n)\n",
    "# 인덱싱을 이용한 데이터 수정, 수정할 리스트의 인덱스 번째 요소에 값을 대입하면 된다.\n",
    "n[1] = 4\n",
    "print(n)\n",
    "# 인덱싱을 이용해 특정 인덱스 위치에 리스트를 대입하면 리스트 자체가 대입된다.\n",
    "n[0] = [100, 200, 300]\n",
    "print(n)\n",
    "# 슬라이싱을 이용해 특정 인덱스 범위에 리스트를 대입하면 대입하는 리스트의 데이터만 대입된다.\n",
    "n[2:3] = ['a', 'b', 'c']\n",
    "print(n)\n",
    "# 슬라이싱을 이용해 특정 인덱스 범위에 상수를 대입하면 에러가 발생된다.\n",
    "# n[1:2] = 999 # 에러"
   ]
  },
  {
   "cell_type": "code",
   "execution_count": 56,
   "id": "1de7f08f",
   "metadata": {},
   "outputs": [
    {
     "name": "stdout",
     "output_type": "stream",
     "text": [
      "[1, 2, 3, 4, 5]\n",
      "[1, 3, 4, 5]\n",
      "[1, 5]\n",
      "[]\n"
     ]
    },
    {
     "ename": "NameError",
     "evalue": "name 'o' is not defined",
     "output_type": "error",
     "traceback": [
      "\u001b[1;31m---------------------------------------------------------------------------\u001b[0m",
      "\u001b[1;31mNameError\u001b[0m                                 Traceback (most recent call last)",
      "\u001b[1;32m<ipython-input-56-b636a6d727b0>\u001b[0m in \u001b[0;36m<module>\u001b[1;34m\u001b[0m\n\u001b[0;32m     12\u001b[0m \u001b[1;31m# del 명령을 이용해서 리스트 자체를 삭제할 수 있다.\u001b[0m\u001b[1;33m\u001b[0m\u001b[1;33m\u001b[0m\u001b[1;33m\u001b[0m\u001b[0m\n\u001b[0;32m     13\u001b[0m \u001b[1;32mdel\u001b[0m \u001b[0mo\u001b[0m\u001b[1;33m\u001b[0m\u001b[1;33m\u001b[0m\u001b[0m\n\u001b[1;32m---> 14\u001b[1;33m \u001b[0mprint\u001b[0m\u001b[1;33m(\u001b[0m\u001b[0mo\u001b[0m\u001b[1;33m)\u001b[0m\u001b[1;33m\u001b[0m\u001b[1;33m\u001b[0m\u001b[0m\n\u001b[0m",
      "\u001b[1;31mNameError\u001b[0m: name 'o' is not defined"
     ]
    }
   ],
   "source": [
    "o = [1, 2, 3, 4, 5]\n",
    "print(o)\n",
    "# del 명령으로 인덱싱된 리스트의 데이터를 삭제할 수 있다.\n",
    "del o[1]\n",
    "print(o)\n",
    "# del 명령으로 슬라이싱된 데이터를 삭제할 수 있다.\n",
    "del o[1:3]\n",
    "print(o)\n",
    "# clear() 메소드를 사용하면 리스트에 저장된 모든 데이터를 삭제할 수 있다.\n",
    "o.clear()\n",
    "print(o)\n",
    "# del 명령을 이용해서 리스트 자체를 삭제할 수 있다.\n",
    "del o\n",
    "print(o)"
   ]
  },
  {
   "cell_type": "code",
   "execution_count": null,
   "id": "5e2f0be3",
   "metadata": {},
   "outputs": [],
   "source": []
  },
  {
   "cell_type": "code",
   "execution_count": null,
   "id": "b42736cd",
   "metadata": {},
   "outputs": [],
   "source": []
  },
  {
   "cell_type": "code",
   "execution_count": null,
   "id": "97fd0d64",
   "metadata": {},
   "outputs": [],
   "source": []
  },
  {
   "cell_type": "code",
   "execution_count": null,
   "id": "097d0d64",
   "metadata": {},
   "outputs": [],
   "source": []
  },
  {
   "cell_type": "code",
   "execution_count": null,
   "id": "10cf9609",
   "metadata": {},
   "outputs": [],
   "source": []
  },
  {
   "cell_type": "code",
   "execution_count": null,
   "id": "776b1091",
   "metadata": {},
   "outputs": [],
   "source": []
  },
  {
   "cell_type": "code",
   "execution_count": null,
   "id": "6c7a2690",
   "metadata": {},
   "outputs": [],
   "source": []
  }
 ],
 "metadata": {
  "kernelspec": {
   "display_name": "Python 3",
   "language": "python",
   "name": "python3"
  },
  "language_info": {
   "codemirror_mode": {
    "name": "ipython",
    "version": 3
   },
   "file_extension": ".py",
   "mimetype": "text/x-python",
   "name": "python",
   "nbconvert_exporter": "python",
   "pygments_lexer": "ipython3",
   "version": "3.9.5"
  }
 },
 "nbformat": 4,
 "nbformat_minor": 5
}
