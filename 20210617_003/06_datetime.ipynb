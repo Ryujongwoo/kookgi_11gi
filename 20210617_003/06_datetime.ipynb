{
 "cells": [
  {
   "cell_type": "markdown",
   "id": "9cba11a9",
   "metadata": {},
   "source": [
    "컴퓨터 시스템의 날짜와 시간을 얻어온다."
   ]
  },
  {
   "cell_type": "code",
   "execution_count": 2,
   "id": "9841c74a",
   "metadata": {},
   "outputs": [
    {
     "name": "stdout",
     "output_type": "stream",
     "text": [
      "2021-06-17 09:45:45.858204\n"
     ]
    }
   ],
   "source": [
    "import datetime\n",
    "now = datetime.datetime.now()\n",
    "print(now)"
   ]
  },
  {
   "cell_type": "code",
   "execution_count": 3,
   "id": "e52b049a",
   "metadata": {},
   "outputs": [
    {
     "name": "stdout",
     "output_type": "stream",
     "text": [
      "2021-06-17 09:45:46.303835\n"
     ]
    }
   ],
   "source": [
    "from datetime import datetime\n",
    "now2 = datetime.now()\n",
    "print(now2)"
   ]
  },
  {
   "cell_type": "code",
   "execution_count": 4,
   "id": "12939b8f",
   "metadata": {},
   "outputs": [
    {
     "name": "stdout",
     "output_type": "stream",
     "text": [
      "2021-06-17 09:45:46.737170\n"
     ]
    }
   ],
   "source": [
    "from datetime import datetime as dt\n",
    "now3 = dt.now()\n",
    "print(now3)"
   ]
  },
  {
   "cell_type": "markdown",
   "id": "bf39c344",
   "metadata": {},
   "source": [
    "날짜, 시간 데이터에서 년, 월, 일, 시, 분, 초, 밀리초, 요일 추출하기"
   ]
  },
  {
   "cell_type": "code",
   "execution_count": 13,
   "id": "12fe747e",
   "metadata": {},
   "outputs": [
    {
     "name": "stdout",
     "output_type": "stream",
     "text": [
      "2021-06-17 10:03:46.919822\n",
      "년: 2021\n",
      "월: 6\n",
      "일: 17\n",
      "시: 10\n",
      "분: 3\n",
      "초: 46\n",
      "마이크로초: 919822\n",
      "밀리초: 919\n",
      "요일: 3\n",
      "요일: 목요일\n"
     ]
    }
   ],
   "source": [
    "today = dt.now()\n",
    "print(today)\n",
    "print('년: {}'.format(today.year))\n",
    "print('월: {}'.format(today.month))\n",
    "print('일: {}'.format(today.day))\n",
    "print('시: {}'.format(today.hour))\n",
    "print('분: {}'.format(today.minute))\n",
    "print('초: {}'.format(today.second))\n",
    "print('마이크로초: {}'.format(today.microsecond))\n",
    "print('밀리초: {}'.format(today.microsecond // 1000))\n",
    "# weekday() 메소드로 요일을 얻어올 수 있다. => 월요일(0), 화요일(1), ..., 토요일(5), 일요일(6)\n",
    "print('요일: {}'.format(today.weekday()))\n",
    "week = ['월요일', '화요일', '수요일', '목요일', '금요일', '토요일', '일요일']\n",
    "print('요일: {}'.format(week[today.weekday()]))"
   ]
  },
  {
   "cell_type": "markdown",
   "id": "fed4f83a",
   "metadata": {},
   "source": [
    "strftime('출력서식') 메소드를 이용해서 날짜와 시간에 출력 서식을 지정할 수 있다."
   ]
  },
  {
   "cell_type": "code",
   "execution_count": 36,
   "id": "01fea9db",
   "metadata": {},
   "outputs": [
    {
     "name": "stdout",
     "output_type": "stream",
     "text": [
      "2021-06-17 10:19:43.126758\n",
      "2021-06-17\n",
      "21-06-17\n",
      "2021-June-17\n",
      "2021-Jun-17\n",
      "June-17 2021\n",
      "Thursday June-17 2021\n",
      "Thu June-17 2021\n",
      "2021년 06월 17일\n",
      "2021년 06월 17일\n"
     ]
    }
   ],
   "source": [
    "today = dt.now()\n",
    "print(today)\n",
    "# %Y: 년도 4자리, %y: 년도 2자리, %m: 월(숫자), %B: 월(영어 => 전체), %b(%h): 월(영어 => 앞 3글자)\n",
    "# %d: 일, %A: 요일(영어 => 전체), %a: 요일(영어 => 앞 3글자)\n",
    "print(today.strftime('%Y-%m-%d'))\n",
    "print(today.strftime('%y-%m-%d'))\n",
    "print(today.strftime('%Y-%B-%d'))\n",
    "print(today.strftime('%Y-%b-%d'))\n",
    "print(today.strftime('%B-%d %Y'))\n",
    "print(today.strftime('%A %B-%d %Y'))\n",
    "print(today.strftime('%a %B-%d %Y'))\n",
    "print(today.strftime('%Y년 %m월 %d일'))\n",
    "# 날짜, 시간 서식에 한글을 넣었을 때 유니코드 문제로 에러가 발생되면 아래와 같이 작성한다.\n",
    "print(today.strftime('%Y년 %m월 %d일'.encode('unicode-escape').decode()).encode().decode('unicode-escape'))"
   ]
  },
  {
   "cell_type": "code",
   "execution_count": 45,
   "id": "a3003ea2",
   "metadata": {},
   "outputs": [
    {
     "name": "stdout",
     "output_type": "stream",
     "text": [
      "2021-06-17 10:26:05.193533\n",
      "AM 10:26:05\n",
      "AM 10:26:05\n",
      "10시 26분 05초\n"
     ]
    }
   ],
   "source": [
    "today = dt.now()\n",
    "print(today)\n",
    "# %H: 시간(24시각), %I: 시간(12시각), %M: 분, %S: 초, %f: 마이크로초, %p: AM/PM\n",
    "print(today.strftime('%p %I:%M:%S'))\n",
    "print(today.strftime('%p %I:%M:%S'))\n",
    "print(today.strftime('%H시 %M분 %S초'))"
   ]
  },
  {
   "cell_type": "markdown",
   "id": "f9ba4249",
   "metadata": {},
   "source": [
    "날짜, 시간 데이터 만들기"
   ]
  },
  {
   "cell_type": "code",
   "execution_count": 51,
   "id": "4823e7d9",
   "metadata": {},
   "outputs": [
    {
     "name": "stdout",
     "output_type": "stream",
     "text": [
      "<class 'datetime.datetime'>\n",
      "2018-11-22 00:00:00\n",
      "<class 'datetime.datetime'>\n",
      "2021-06-17 17:50:01\n",
      "<class 'datetime.datetime'>\n",
      "2018-11-22 17:50:01\n"
     ]
    }
   ],
   "source": [
    "from dateutil.parser import parse\n",
    "date = parse('2018-11-22')\n",
    "print(type(date))\n",
    "print(date)\n",
    "time = parse('17:50:01')\n",
    "print(type(time))\n",
    "print(time)\n",
    "time = parse('2018-11-22 17:50:01')\n",
    "print(type(time))\n",
    "print(time)"
   ]
  },
  {
   "cell_type": "markdown",
   "id": "16c40207",
   "metadata": {},
   "source": [
    "두 날짜 데이터 사이의 차이 계산하기"
   ]
  },
  {
   "cell_type": "code",
   "execution_count": 75,
   "id": "4aca2314",
   "metadata": {},
   "outputs": [
    {
     "name": "stdout",
     "output_type": "stream",
     "text": [
      "2021-06-17 10:43:27.373284\n"
     ]
    }
   ],
   "source": [
    "start = dt.now()\n",
    "print(start)"
   ]
  },
  {
   "cell_type": "code",
   "execution_count": 76,
   "id": "1b137e46",
   "metadata": {},
   "outputs": [
    {
     "name": "stdout",
     "output_type": "stream",
     "text": [
      "2021-06-17 10:44:32.211945\n"
     ]
    }
   ],
   "source": [
    "end = dt.now()\n",
    "print(end)"
   ]
  },
  {
   "cell_type": "code",
   "execution_count": 77,
   "id": "2f267d24",
   "metadata": {},
   "outputs": [
    {
     "name": "stdout",
     "output_type": "stream",
     "text": [
      "0:01:04.838661\n",
      "0\n",
      "64\n",
      "838661\n",
      "64.838661\n"
     ]
    }
   ],
   "source": [
    "t = end - start\n",
    "print(t)\n",
    "print(t.days)            # 두 날짜 데이터 사이의 차이를 일 단위로 얻어온다.\n",
    "print(t.seconds)         # 두 날짜 데이터 사이의 차이를 초 단위로 얻어온다.\n",
    "print(t.microseconds)    # 두 날짜 데이터 사이의 차이를 마이크로초 단위로 얻어온다.\n",
    "print(t.total_seconds()) # 두 날짜 데이터 사이의 차이를 초 단위로 환산한다."
   ]
  },
  {
   "cell_type": "code",
   "execution_count": 84,
   "id": "e30aba89",
   "metadata": {},
   "outputs": [
    {
     "name": "stdout",
     "output_type": "stream",
     "text": [
      "158 days, 6:59:30.483176\n",
      "13676370.483176\n"
     ]
    }
   ],
   "source": [
    "t = parse('2021-11-22 17:50:01') - dt.now()\n",
    "print(t)\n",
    "print(t.total_seconds())"
   ]
  },
  {
   "cell_type": "markdown",
   "id": "f00981ab",
   "metadata": {},
   "source": [
    "날짜, 시간 데이터 수정하기"
   ]
  },
  {
   "cell_type": "code",
   "execution_count": 91,
   "id": "23b88c77",
   "metadata": {},
   "outputs": [
    {
     "name": "stdout",
     "output_type": "stream",
     "text": [
      "2021-06-17 11:05:44.873792\n",
      "2022-06-17 11:05:44.873792\n",
      "2021-10-17 11:05:44.873792\n",
      "2021-06-10 11:05:44.873792\n",
      "2021-06-17 10:05:44.873792\n",
      "2021-06-17 11:10:44.873792\n",
      "2021-06-17 11:05:10.873792\n"
     ]
    }
   ],
   "source": [
    "today = dt.now()\n",
    "print(today)\n",
    "print(today.replace(year=2022))\n",
    "print(today.replace(month=10))\n",
    "print(today.replace(day=10))\n",
    "print(today.replace(hour=10))\n",
    "print(today.replace(minute=10))\n",
    "print(today.replace(second=10))"
   ]
  },
  {
   "cell_type": "code",
   "execution_count": null,
   "id": "028f7591",
   "metadata": {},
   "outputs": [],
   "source": []
  },
  {
   "cell_type": "code",
   "execution_count": null,
   "id": "6c86bf28",
   "metadata": {},
   "outputs": [],
   "source": []
  },
  {
   "cell_type": "code",
   "execution_count": null,
   "id": "07a3730d",
   "metadata": {},
   "outputs": [],
   "source": []
  },
  {
   "cell_type": "code",
   "execution_count": null,
   "id": "509361ac",
   "metadata": {},
   "outputs": [],
   "source": []
  },
  {
   "cell_type": "code",
   "execution_count": null,
   "id": "a22f422b",
   "metadata": {},
   "outputs": [],
   "source": []
  },
  {
   "cell_type": "code",
   "execution_count": null,
   "id": "3057c563",
   "metadata": {},
   "outputs": [],
   "source": []
  },
  {
   "cell_type": "code",
   "execution_count": null,
   "id": "3265c71a",
   "metadata": {},
   "outputs": [],
   "source": []
  },
  {
   "cell_type": "code",
   "execution_count": null,
   "id": "0ffbc772",
   "metadata": {},
   "outputs": [],
   "source": []
  }
 ],
 "metadata": {
  "kernelspec": {
   "display_name": "Python 3",
   "language": "python",
   "name": "python3"
  },
  "language_info": {
   "codemirror_mode": {
    "name": "ipython",
    "version": 3
   },
   "file_extension": ".py",
   "mimetype": "text/x-python",
   "name": "python",
   "nbconvert_exporter": "python",
   "pygments_lexer": "ipython3",
   "version": "3.9.5"
  }
 },
 "nbformat": 4,
 "nbformat_minor": 5
}
