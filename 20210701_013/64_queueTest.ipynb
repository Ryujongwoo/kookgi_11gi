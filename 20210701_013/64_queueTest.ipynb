{
 "cells": [
  {
   "cell_type": "code",
   "execution_count": 1,
   "id": "fa469dcd",
   "metadata": {},
   "outputs": [
    {
     "name": "stdout",
     "output_type": "stream",
     "text": [
      "큐에 저장된 데이터 => 없음\n"
     ]
    }
   ],
   "source": [
    "from queueModule import Queue\n",
    "queue = Queue()\n",
    "queue.view()"
   ]
  },
  {
   "cell_type": "code",
   "execution_count": 3,
   "id": "f33b6c1a",
   "metadata": {},
   "outputs": [
    {
     "name": "stdout",
     "output_type": "stream",
     "text": [
      "===============================\n",
      " 1.add  2.remove  3.view  4.종료 \n",
      "===============================\n",
      "원하는 메뉴를 입력하고 Enter키를 누르세요: 1\n",
      "큐에 저장할 데이터: 111\n",
      "큐에 111을(를) 저장합니다. rear = 1, front = 0\n",
      "큐에 저장된 데이터 => 111 \n",
      "===============================\n",
      " 1.add  2.remove  3.view  4.종료 \n",
      "===============================\n",
      "원하는 메뉴를 입력하고 Enter키를 누르세요: 1\n",
      "큐에 저장할 데이터: 222\n",
      "큐에 222을(를) 저장합니다. rear = 2, front = 0\n",
      "큐에 저장된 데이터 => 111 222 \n",
      "===============================\n",
      " 1.add  2.remove  3.view  4.종료 \n",
      "===============================\n",
      "원하는 메뉴를 입력하고 Enter키를 누르세요: 3\n",
      "큐에 저장된 데이터 => 111 222 \n",
      "===============================\n",
      " 1.add  2.remove  3.view  4.종료 \n",
      "===============================\n",
      "원하는 메뉴를 입력하고 Enter키를 누르세요: 2\n",
      "큐에서 제거된 데이터: 111, rear = 2, front = 1\n",
      "큐에 저장된 데이터 => 222 \n",
      "===============================\n",
      " 1.add  2.remove  3.view  4.종료 \n",
      "===============================\n",
      "원하는 메뉴를 입력하고 Enter키를 누르세요: 2\n",
      "큐에서 제거된 데이터: 222, rear = 2, front = 2\n",
      "큐에 저장된 데이터 => 없음\n",
      "===============================\n",
      " 1.add  2.remove  3.view  4.종료 \n",
      "===============================\n",
      "원하는 메뉴를 입력하고 Enter키를 누르세요: 2\n",
      "큐에 저장된 데이터가 없습니다.\n",
      "===============================\n",
      " 1.add  2.remove  3.view  4.종료 \n",
      "===============================\n",
      "원하는 메뉴를 입력하고 Enter키를 누르세요: 4\n",
      "프로그램을 종료합니다. 바이바이~~~~~\n"
     ]
    }
   ],
   "source": [
    "menu = 0\n",
    "while menu != 4:\n",
    "    while True:\n",
    "        print('=' * 33)\n",
    "        print(' 1.add  2.remove  3.view  4.종료 ')\n",
    "        print('=' * 33)\n",
    "        menu = int(input('원하는 메뉴를 입력하고 Enter키를 누르세요: '))\n",
    "        if menu in [1, 2, 3, 4]:\n",
    "            break\n",
    "        else:\n",
    "            print('메뉴는 1 ~ 4 사이의 값만 입력해야 합니다.')\n",
    "    # ===== while True     \n",
    "\n",
    "    if menu == 1:\n",
    "        data = input('큐에 저장할 데이터: ')\n",
    "        queue.add(data)\n",
    "    elif menu == 2:\n",
    "        queue.remove()\n",
    "    elif menu == 3:\n",
    "        queue.view()\n",
    "# ===== while menu != 4\n",
    "print('프로그램을 종료합니다. 바이바이~~~~~')"
   ]
  },
  {
   "cell_type": "code",
   "execution_count": null,
   "id": "fa67d38a",
   "metadata": {},
   "outputs": [],
   "source": []
  },
  {
   "cell_type": "code",
   "execution_count": null,
   "id": "2316f84f",
   "metadata": {},
   "outputs": [],
   "source": []
  },
  {
   "cell_type": "code",
   "execution_count": null,
   "id": "bf625ece",
   "metadata": {},
   "outputs": [],
   "source": []
  },
  {
   "cell_type": "code",
   "execution_count": null,
   "id": "455c1fe8",
   "metadata": {},
   "outputs": [],
   "source": []
  },
  {
   "cell_type": "code",
   "execution_count": null,
   "id": "fca31f97",
   "metadata": {},
   "outputs": [],
   "source": []
  }
 ],
 "metadata": {
  "kernelspec": {
   "display_name": "Python 3",
   "language": "python",
   "name": "python3"
  },
  "language_info": {
   "codemirror_mode": {
    "name": "ipython",
    "version": 3
   },
   "file_extension": ".py",
   "mimetype": "text/x-python",
   "name": "python",
   "nbconvert_exporter": "python",
   "pygments_lexer": "ipython3",
   "version": "3.9.5"
  }
 },
 "nbformat": 4,
 "nbformat_minor": 5
}
