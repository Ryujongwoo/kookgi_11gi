{
 "cells": [
  {
   "cell_type": "markdown",
   "id": "e02bd64d",
   "metadata": {},
   "source": [
    "특정 모듈의 특정 함수만 import 시켜서 사용한다."
   ]
  },
  {
   "cell_type": "code",
   "execution_count": 1,
   "id": "30826686",
   "metadata": {},
   "outputs": [],
   "source": [
    "# 특정 모듈의 특정 함수만 import 해서 사용하려면 아래와 같이 import 시키면 된다.\n",
    "# from 모듈이름 import 함수이름 => from 다음에 지정한 모듈의 모든 함수를 import 시키지 않고 지정한 함수만 import 시킨다.\n",
    "# from calendarModule import weekDay # calendarModule이라는 모듈에서 weekDay() 함수만 import 시킨다.\n",
    "# from calendarModule import lastDay # calendarModule이라는 모듈에서 lastDay() 함수만 import 시킨다.\n",
    "# 위와 같이 import 시키면 import된 함수를 실행할 때 함수 작성한 모듈 이름을 함수 앞에 붙이지 않고 마치 현재 소스 프로그램에서\n",
    "# 작성한 함수를 사용하는 것 처럼 함수 이름만 사용하면 된다.\n",
    "\n",
    "# 위의 2문장에서 import 시키는 함수 weekDay()와 lastDay()는 calendarModule 모듈의 함수이므로 아래와 같이 1줄로 줄여서 사용할\n",
    "# 수 있다.\n",
    "# from calendarModule import weekDay, lastDay\n",
    "\n",
    "# 아래와 같이 코딩하면 calendarModule 모듈의 모든 함수를 import 시켜서 사용할 수 있다.\n",
    "from calendarModule import *"
   ]
  },
  {
   "cell_type": "code",
   "execution_count": 2,
   "id": "13bb3424",
   "metadata": {},
   "outputs": [
    {
     "name": "stdout",
     "output_type": "stream",
     "text": [
      "달력을 출력하려는 년과 월을 입력하세요: 2021 6\n",
      "============================\n",
      "         2021년 6월\n",
      "============================\n",
      " 일  월  화  수  목  금  토 \n",
      "============================\n",
      "          1   2   3   4   5 \n",
      "  6   7   8   9  10  11  12 \n",
      " 13  14  15  16  17  18  19 \n",
      " 20  21  22  23  24  25  26 \n",
      " 27  28  29  30 \n",
      "============================\n"
     ]
    }
   ],
   "source": [
    "year, month = map(int, input('달력을 출력하려는 년과 월을 입력하세요: ').split())\n",
    "print('=' * 28)\n",
    "print('         {0:4d}년{1:2d}월'.format(year, month))\n",
    "print('=' * 28)\n",
    "print(' 일  월  화  수  목  금  토 ')\n",
    "print('=' * 28)\n",
    "\n",
    "for i in range(weekDay(year, month, 1)):\n",
    "    print('    ', end='')\n",
    "for i in range(1, lastDay(year, month) + 1):\n",
    "    print(' {0:2d} '.format(i), end='')\n",
    "    if weekDay(year, month, i) == 6 and i != lastDay(year, month):\n",
    "        print()\n",
    "print('\\n' + '=' * 28)"
   ]
  },
  {
   "cell_type": "code",
   "execution_count": null,
   "id": "ca6ac5b8",
   "metadata": {},
   "outputs": [],
   "source": []
  },
  {
   "cell_type": "code",
   "execution_count": null,
   "id": "ab11e882",
   "metadata": {},
   "outputs": [],
   "source": []
  }
 ],
 "metadata": {
  "kernelspec": {
   "display_name": "Python 3",
   "language": "python",
   "name": "python3"
  },
  "language_info": {
   "codemirror_mode": {
    "name": "ipython",
    "version": 3
   },
   "file_extension": ".py",
   "mimetype": "text/x-python",
   "name": "python",
   "nbconvert_exporter": "python",
   "pygments_lexer": "ipython3",
   "version": "3.9.5"
  }
 },
 "nbformat": 4,
 "nbformat_minor": 5
}
