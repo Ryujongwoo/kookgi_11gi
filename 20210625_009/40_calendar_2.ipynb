{
 "cells": [
  {
   "cell_type": "markdown",
   "id": "e02bd64d",
   "metadata": {},
   "source": [
    "사용자가 만든 파이썬 파일을 import 시켜서 사용할 수 있다.  \n",
    "import할 모듈의 이름은 반드시 문자로 시작해야 하고 현재 작성중인 파일과 이름이 같으면 안된다."
   ]
  },
  {
   "cell_type": "code",
   "execution_count": 1,
   "id": "30826686",
   "metadata": {},
   "outputs": [],
   "source": [
    "import calendarModule"
   ]
  },
  {
   "cell_type": "markdown",
   "id": "ad93accc",
   "metadata": {},
   "source": [
    "import된 모듈의 함수를 실행하려면 모듈이름.함수이름() 형태로 사용하면 된다."
   ]
  },
  {
   "cell_type": "code",
   "execution_count": 2,
   "id": "13bb3424",
   "metadata": {},
   "outputs": [
    {
     "name": "stdout",
     "output_type": "stream",
     "text": [
      "달력을 출력하려는 년과 월을 입력하세요: 2021 6\n",
      "============================\n",
      "         2021년 6월\n",
      "============================\n",
      " 일  월  화  수  목  금  토 \n",
      "============================\n",
      "          1   2   3   4   5 \n",
      "  6   7   8   9  10  11  12 \n",
      " 13  14  15  16  17  18  19 \n",
      " 20  21  22  23  24  25  26 \n",
      " 27  28  29  30 \n",
      "============================\n"
     ]
    }
   ],
   "source": [
    "year, month = map(int, input('달력을 출력하려는 년과 월을 입력하세요: ').split())\n",
    "print('=' * 28)\n",
    "print('         {0:4d}년{1:2d}월'.format(year, month))\n",
    "print('=' * 28)\n",
    "print(' 일  월  화  수  목  금  토 ')\n",
    "print('=' * 28)\n",
    "\n",
    "for i in range(calendarModule.weekDay(year, month, 1)):\n",
    "    print('    ', end='')\n",
    "for i in range(1, calendarModule.lastDay(year, month) + 1):\n",
    "    print(' {0:2d} '.format(i), end='')\n",
    "    if calendarModule.weekDay(year, month, i) == 6 and i != calendarModule.lastDay(year, month):\n",
    "        print()\n",
    "print('\\n' + '=' * 28)"
   ]
  },
  {
   "cell_type": "code",
   "execution_count": null,
   "id": "ca6ac5b8",
   "metadata": {},
   "outputs": [],
   "source": []
  },
  {
   "cell_type": "code",
   "execution_count": null,
   "id": "ab11e882",
   "metadata": {},
   "outputs": [],
   "source": []
  }
 ],
 "metadata": {
  "kernelspec": {
   "display_name": "Python 3",
   "language": "python",
   "name": "python3"
  },
  "language_info": {
   "codemirror_mode": {
    "name": "ipython",
    "version": 3
   },
   "file_extension": ".py",
   "mimetype": "text/x-python",
   "name": "python",
   "nbconvert_exporter": "python",
   "pygments_lexer": "ipython3",
   "version": "3.9.5"
  }
 },
 "nbformat": 4,
 "nbformat_minor": 5
}
