{
 "cells": [
  {
   "cell_type": "code",
   "execution_count": 1,
   "id": "fb436350",
   "metadata": {},
   "outputs": [],
   "source": [
    "import warnings\n",
    "warnings.filterwarnings('ignore')\n",
    "from IPython.display import Image\n",
    "import numpy as np\n",
    "\n",
    "def pprint(arr):\n",
    "    print('type: {}'.format(type(arr)))\n",
    "    print('shape: {}, dimension: {}, dtype: {}'.format(arr.shape, arr.ndim, arr.dtype))\n",
    "    print('넘파이 배열에 저장된 데이터\\n', arr)"
   ]
  },
  {
   "cell_type": "markdown",
   "id": "b5e07a9e",
   "metadata": {},
   "source": [
    "넘파이 배열 파일 입출력"
   ]
  },
  {
   "cell_type": "code",
   "execution_count": 2,
   "id": "a446fc78",
   "metadata": {},
   "outputs": [],
   "source": [
    "# numpy는 배열 객체를 바이너리 파일 또는 텍스트 파일에 저장하고 로딩하는 기능을 제공한다.\n",
    "# 메소드 이름    기능                                               파일포맷\n",
    "# np.save()      numpy 배열 객체 1개를 파일에 저장한다.             바이너리\n",
    "# np.savez()     numpy 배열 객체 여러개를 파일에 저장한다.          바이너리\n",
    "# np.load()      numpy 배열 저장 파일로 부터 객체를 읽어온다.       바이너리\n",
    "# np.savetxt()   numpy 배열 객체를 텍스트 파일에 저장한다.          텍스트 => txt(X), csv, tsv(O)\n",
    "# np.loadtxt()   텍스트 파일에 저장된 numpy 배열 객체를 읽어온다.   텍스트"
   ]
  },
  {
   "cell_type": "code",
   "execution_count": 4,
   "id": "562a9639",
   "metadata": {},
   "outputs": [
    {
     "name": "stdout",
     "output_type": "stream",
     "text": [
      "type: <class 'numpy.ndarray'>\n",
      "shape: (2, 3), dimension: 2, dtype: int32\n",
      "넘파이 배열에 저장된 데이터\n",
      " [[9 9 4]\n",
      " [8 8 1]]\n",
      "type: <class 'numpy.ndarray'>\n",
      "shape: (2, 3), dimension: 2, dtype: int32\n",
      "넘파이 배열에 저장된 데이터\n",
      " [[5 3 6]\n",
      " [3 3 3]]\n"
     ]
    }
   ],
   "source": [
    "np.random.seed(100)\n",
    "a = np.random.randint(1, 10, (2, 3))\n",
    "pprint(a)\n",
    "b = np.random.randint(1, 10, (2, 3))\n",
    "pprint(b)"
   ]
  },
  {
   "cell_type": "code",
   "execution_count": 6,
   "id": "2b7eefad",
   "metadata": {},
   "outputs": [],
   "source": [
    "# 배열 객체 저장 - 바이너리 파일\n",
    "# save(), savez() 함수를 이용해서 배열 객체를 바이너리(2진) 형태의 파일로 저장할 수 있다.\n",
    "# save('파일이름', 배열이름): 배열 1개를 저장한다. 확장명 => npy\n",
    "# savez('파일이름', 배열이름1, 배열이름2, ...): 배열 여러개를 저장한다. 확장명 => npz\n",
    "\n",
    "# a 배열을 파일로 저장한다.\n",
    "np.save('./output/my_array1', a)"
   ]
  },
  {
   "cell_type": "code",
   "execution_count": null,
   "id": "19c26c71",
   "metadata": {},
   "outputs": [],
   "source": []
  },
  {
   "cell_type": "code",
   "execution_count": null,
   "id": "78c97b3a",
   "metadata": {},
   "outputs": [],
   "source": []
  },
  {
   "cell_type": "code",
   "execution_count": null,
   "id": "52b20171",
   "metadata": {},
   "outputs": [],
   "source": []
  },
  {
   "cell_type": "code",
   "execution_count": null,
   "id": "de107473",
   "metadata": {},
   "outputs": [],
   "source": []
  },
  {
   "cell_type": "code",
   "execution_count": null,
   "id": "bc4e4509",
   "metadata": {},
   "outputs": [],
   "source": []
  },
  {
   "cell_type": "code",
   "execution_count": null,
   "id": "c18f7019",
   "metadata": {},
   "outputs": [],
   "source": []
  },
  {
   "cell_type": "code",
   "execution_count": null,
   "id": "7208832f",
   "metadata": {},
   "outputs": [],
   "source": []
  }
 ],
 "metadata": {
  "kernelspec": {
   "display_name": "Python 3",
   "language": "python",
   "name": "python3"
  },
  "language_info": {
   "codemirror_mode": {
    "name": "ipython",
    "version": 3
   },
   "file_extension": ".py",
   "mimetype": "text/x-python",
   "name": "python",
   "nbconvert_exporter": "python",
   "pygments_lexer": "ipython3",
   "version": "3.6.8"
  }
 },
 "nbformat": 4,
 "nbformat_minor": 5
}
