{
 "cells": [
  {
   "cell_type": "markdown",
   "id": "49a8de79",
   "metadata": {},
   "source": [
    "주민등록번호 유효성 검사  \n",
    "주민등록번호의 각 자리 숫자와 가중치를 곱한 합계를 계산한다.  \n",
    "위의 결과를 11로 나눈 나머지를 계산해서 11에서 뺀다.  \n",
    "11에서 나머지를 뺀 결과가 2자리 숫자가 나올수 있으므로 10의 자리는 버리고 1의 자리만 취한다.  \n",
    "1의 자리가 주민등록번호의 마지막 자리와 같으면 정상적인 주민등록번호이고 다르면 오류가 있는 주민등록번호이다."
   ]
  },
  {
   "cell_type": "code",
   "execution_count": null,
   "id": "355f1817",
   "metadata": {
    "scrolled": false
   },
   "outputs": [],
   "source": [
    "from IPython.display import Image\n",
    "Image('./juminCheck.png', width='1000')"
   ]
  },
  {
   "cell_type": "code",
   "execution_count": null,
   "id": "f966ea1a",
   "metadata": {},
   "outputs": [],
   "source": [
    "check = '234567892345' # 가중치\n",
    "jumin = input('주민등록번호 13자리를 \"-\"없이 입력하세요: ')\n",
    "\n",
    "# 주민등록번호의 각 자리 숫자와 가중치의 각 자리 숫자를 곱한 합계를 계산한다.\n",
    "total = 0\n",
    "for i in range(12):\n",
    "    total += int(jumin[i]) * int(check[i])\n",
    "print(total)\n",
    "\n",
    "# 주민등록번호와 가중치를 곱한 합계를 11로 나눈 나머지를 11에서 뺀다 => 뺀 결과가 2자리 숫자면 10의 자리는 버린다.\n",
    "result = (11 - total % 11) % 10\n",
    "print(result)\n",
    "\n",
    "# 위 연산의 결과와 주민등록번호의 마지막 자리를 비교한다.\n",
    "if result == int(jumin[12]):\n",
    "    print('정상')\n",
    "else:\n",
    "    print('오류')"
   ]
  },
  {
   "cell_type": "code",
   "execution_count": 1,
   "id": "c6bf568e",
   "metadata": {},
   "outputs": [
    {
     "data": {
      "image/png": "[encoded data removed]",
      "text/plain": [
       "<IPython.core.display.Image object>"
      ]
     },
     "execution_count": 1,
     "metadata": {
      "image/png": {
       "width": "1000"
      }
     },
     "output_type": "execute_result"
    }
   ],
   "source": [
    "from IPython.display import Image\n",
    "Image('./juminCheck2.png', width='1000')"
   ]
  },
  {
   "cell_type": "code",
   "execution_count": 4,
   "id": "57ebc292",
   "metadata": {},
   "outputs": [
    {
     "name": "stdout",
     "output_type": "stream",
     "text": [
      "주민등록번호 13자리를 \"-\"없이 입력하세요: 8304221185601\n",
      "143\n",
      "1\n",
      "정상\n"
     ]
    }
   ],
   "source": [
    "# 인덱스가 8보다 작은 경우 가중치는 무조건 인덱스보다 2가 크고 인덱스가 8이상인 경우 가중치는 무조건 인덱스보다 6이 작다.\n",
    "jumin = input('주민등록번호 13자리를 \"-\"없이 입력하세요: ')\n",
    "total = 0\n",
    "for i in range(12):\n",
    "    total += int(jumin[i]) * (i + 2 if i < 8 else i - 6)\n",
    "print(total)\n",
    "result = (11 - total % 11) % 10\n",
    "print(result)\n",
    "print('정상' if result == int(jumin[12]) else '오류')"
   ]
  },
  {
   "cell_type": "code",
   "execution_count": 5,
   "id": "5ff04382",
   "metadata": {},
   "outputs": [
    {
     "data": {
      "image/png": "[encoded data removed]",
      "text/plain": [
       "<IPython.core.display.Image object>"
      ]
     },
     "execution_count": 5,
     "metadata": {
      "image/png": {
       "width": "1000"
      }
     },
     "output_type": "execute_result"
    }
   ],
   "source": [
    "from IPython.display import Image\n",
    "Image('./juminCheck3.png', width='1000')"
   ]
  },
  {
   "cell_type": "code",
   "execution_count": 6,
   "id": "4190075b",
   "metadata": {},
   "outputs": [
    {
     "name": "stdout",
     "output_type": "stream",
     "text": [
      "주민등록번호 13자리를 \"-\"없이 입력하세요: 8304221185601\n",
      "143\n",
      "1\n",
      "정상\n"
     ]
    }
   ],
   "source": [
    "jumin = input('주민등록번호 13자리를 \"-\"없이 입력하세요: ')\n",
    "total = 0\n",
    "for i in range(12):\n",
    "    total += int(jumin[i]) * (i % 8 + 2)\n",
    "result = (11 - total % 11) % 10\n",
    "print('정상' if result == int(jumin[12]) else '오류')"
   ]
  },
  {
   "cell_type": "code",
   "execution_count": null,
   "id": "db8b5635",
   "metadata": {},
   "outputs": [],
   "source": []
  },
  {
   "cell_type": "code",
   "execution_count": null,
   "id": "1207e595",
   "metadata": {},
   "outputs": [],
   "source": []
  },
  {
   "cell_type": "code",
   "execution_count": null,
   "id": "567197d4",
   "metadata": {},
   "outputs": [],
   "source": []
  },
  {
   "cell_type": "code",
   "execution_count": null,
   "id": "f50537df",
   "metadata": {},
   "outputs": [],
   "source": []
  }
 ],
 "metadata": {
  "kernelspec": {
   "display_name": "Python 3",
   "language": "python",
   "name": "python3"
  },
  "language_info": {
   "codemirror_mode": {
    "name": "ipython",
    "version": 3
   },
   "file_extension": ".py",
   "mimetype": "text/x-python",
   "name": "python",
   "nbconvert_exporter": "python",
   "pygments_lexer": "ipython3",
   "version": "3.9.5"
  }
 },
 "nbformat": 4,
 "nbformat_minor": 5
}
