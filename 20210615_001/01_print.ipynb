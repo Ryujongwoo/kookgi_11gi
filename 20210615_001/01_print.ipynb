{
 "cells": [
  {
   "cell_type": "code",
   "execution_count": 2,
   "id": "5c2f0d98",
   "metadata": {},
   "outputs": [],
   "source": [
    "# '#'으로 시작하면 한 줄 주석 => 컴파일러(번역)나 인터프리터(통역)가 번역하지 않는다. => 코드 설명\n",
    "# ''' 부터 ''' 사이에 코딩하면 범위 주석을 지정할 수 있다."
   ]
  },
  {
   "cell_type": "code",
   "execution_count": 18,
   "id": "8618941f",
   "metadata": {
    "scrolled": true
   },
   "outputs": [
    {
     "name": "stdout",
     "output_type": "stream",
     "text": [
      "Hello Python\n",
      "안녕 파이썬\n",
      "제2외국어를 배운 호랑이가 \"야옹\" 했습니다.\n",
      "제2외국어를 배운 고양이가 '어흥' 했습니다.\n",
      "제2외국어를 배운 호랑이가 '야옹' 했습니다.\n",
      "제2외국어를 배운 고양이가 \"어흥\" 했습니다.\n"
     ]
    }
   ],
   "source": [
    "# 파이썬은 문자열 데이터를 표현할 때 큰따옴표나 작은따옴표로 묶어주면 된다. => 따옴표 짝은 맞춰줘야 한다.\n",
    "# print() 함수는 () 안의 내용을 출력하고 줄을 바꾼다.\n",
    "print('Hello Python')\n",
    "print(\"안녕 파이썬\")\n",
    "print('제2외국어를 배운 호랑이가 \"야옹\" 했습니다.')\n",
    "print(\"제2외국어를 배운 고양이가 '어흥' 했습니다.\")\n",
    "print('제2외국어를 배운 호랑이가 \\'야옹\\' 했습니다.')\n",
    "print(\"제2외국어를 배운 고양이가 \\\"어흥\\\" 했습니다.\")"
   ]
  },
  {
   "cell_type": "code",
   "execution_count": 23,
   "id": "46971454",
   "metadata": {},
   "outputs": [
    {
     "name": "stdout",
     "output_type": "stream",
     "text": [
      "Hello\n",
      "Python 안녕 파이썬\n"
     ]
    }
   ],
   "source": [
    "# print() 함수로 출력 후 줄을 변경하지 않으려면 end 옵션을 사용한다.\n",
    "# end 옵션은 print() 함수로 출력한 후 출력할 내용을 지정한다. => end 옵션을 생략하면 '\\n'이 기본값으로 사용된다.\n",
    "# '\\n' => new line => 줄을 바꾼다.\n",
    "print('Hello\\nPython', end=' ')\n",
    "print(\"안녕 파이썬\")"
   ]
  },
  {
   "cell_type": "code",
   "execution_count": 29,
   "id": "ef6962ee",
   "metadata": {},
   "outputs": [
    {
     "name": "stdout",
     "output_type": "stream",
     "text": [
      "Hello Python 안녕 파이썬\n",
      "Hello Python 안녕 파이썬\n",
      "Hello Python~(^^~)안녕 파이썬\n"
     ]
    }
   ],
   "source": [
    "# print() 함수로 2개 이상의 데이터를 출력하려면 ','로 구분해서 출력하면 된다.\n",
    "# print() 함수로 출력시 데이터를 ','로 구분하면 sep 옵션에서 지정한 구분자가 데이터와 데이터 사이에 출력된다. => sep 옵션을 \n",
    "# 생략하면 공백이 기본값으로 사용된다.\n",
    "print('Hello Python', \"안녕 파이썬\")\n",
    "print('Hello Python', \"안녕 파이썬\", sep=' ')\n",
    "print('Hello Python', \"안녕 파이썬\", sep='~(^^~)')"
   ]
  },
  {
   "cell_type": "code",
   "execution_count": 33,
   "id": "af7242ab",
   "metadata": {},
   "outputs": [
    {
     "name": "stdout",
     "output_type": "stream",
     "text": [
      "Hello Python안녕 파이썬\n",
      "13\n"
     ]
    }
   ],
   "source": [
    "# '+' 연산자를 사용하면 문자열 데이터를 연결해서 출력할 수 있다.\n",
    "print('Hello Python' + \"안녕 파이썬\")\n",
    "print(5 + 8)\n",
    "# print('Hello Python' + 8) # 문자열과 숫자를 연결하면 에러가 발생된다."
   ]
  },
  {
   "cell_type": "code",
   "execution_count": 34,
   "id": "b6d334de",
   "metadata": {},
   "outputs": [
    {
     "name": "stdout",
     "output_type": "stream",
     "text": [
      "================================================================================\n"
     ]
    }
   ],
   "source": [
    "# '*' 연산자를 사용하면 특정 문자열을 지정된 숫자만큼 반복해서 출력할 수 있다.\n",
    "print('=' * 80)"
   ]
  },
  {
   "cell_type": "markdown",
   "id": "0d2139ad",
   "metadata": {},
   "source": [
    "'%'와 서식 문자를 사용해서 출력하기"
   ]
  },
  {
   "cell_type": "markdown",
   "id": "016e6733",
   "metadata": {},
   "source": [
    "서식 문자  \n",
    "d(정수), f(실수), s(문자열)를 사용해서 출력 서식을 지정할 수 있고 출력 서식을 제외한 나머지 문자들은 입력함 그대로 출력된다.  \n",
    "출력 서식의 형식  \n",
    "%[-][0][n][.m]서식문자 => []안의 내용은 생략할 수 있다.  \n",
    "n: 전체 자리수, 전체 자리수를 지정하면 데이터가 오른쪽으로 정렬되서 출력된다.  \n",
    "-: 전체 자리수가 지정된 경우 데이터를 왼쪽에 맞춰 출력한다.  \n",
    "0: 전체 자리수가 지정된 경우 데이터를 왼쪽의 남는 자리에 '0'이 채워져서 출력된다. => 문자열에서는 무시된다.  \n",
    ".m: 실수를 출력하려 하는 경우 소수점 아래 자리수를 지정한다."
   ]
  },
  {
   "cell_type": "code",
   "execution_count": 35,
   "id": "c268b548",
   "metadata": {},
   "outputs": [
    {
     "name": "stdout",
     "output_type": "stream",
     "text": [
      "100\n",
      "1\n",
      "10000\n"
     ]
    }
   ],
   "source": [
    "print(100)\n",
    "print(1)\n",
    "print(10000)"
   ]
  },
  {
   "cell_type": "code",
   "execution_count": 41,
   "id": "98966ded",
   "metadata": {},
   "outputs": [
    {
     "name": "stdout",
     "output_type": "stream",
     "text": [
      "  100\n",
      "    1\n",
      "1    \n",
      "00001\n",
      "10000\n"
     ]
    }
   ],
   "source": [
    "# print('출력 서식' % 출력할 데이터) => 출력할 데이터가 1개일 경우\n",
    "print('%5d' % 100)\n",
    "print('%5d' % 1)\n",
    "print('%-5d' % 1)\n",
    "print('%05d' % 1)\n",
    "print('%5d' % 10000)"
   ]
  },
  {
   "cell_type": "code",
   "execution_count": 42,
   "id": "490b6c7c",
   "metadata": {},
   "outputs": [
    {
     "name": "stdout",
     "output_type": "stream",
     "text": [
      "abc\n",
      "a\n",
      "abcde\n"
     ]
    }
   ],
   "source": [
    "print('abc')\n",
    "print('a')\n",
    "print('abcde')"
   ]
  },
  {
   "cell_type": "code",
   "execution_count": 45,
   "id": "5968b185",
   "metadata": {},
   "outputs": [
    {
     "name": "stdout",
     "output_type": "stream",
     "text": [
      "  abc\n",
      "    a\n",
      "a    \n",
      "    a\n",
      "abcde\n"
     ]
    }
   ],
   "source": [
    "print('%5s' % 'abc')\n",
    "print('%5s' % 'a')\n",
    "print('%-5s' % 'a')\n",
    "print('%05s' % 'a')\n",
    "print('%5s' % 'abcde')"
   ]
  },
  {
   "cell_type": "code",
   "execution_count": 51,
   "id": "7f0d3457",
   "metadata": {},
   "outputs": [
    {
     "name": "stdout",
     "output_type": "stream",
     "text": [
      "123.45\n",
      "123.46\n",
      "123.40\n"
     ]
    }
   ],
   "source": [
    "print('%6.2f' % 123.45)\n",
    "print('%6.2f' % 123.456) # 소수점 아래 숫자는 잘리는 자리에서 반올림시켜 출력한다. => 실제 데이터는 변하지 않는다.\n",
    "print('%6.2f' % 123.4)   # 남는 자리에는 '0'이 채워져서 출력된다."
   ]
  },
  {
   "cell_type": "code",
   "execution_count": 68,
   "id": "1e9941fb",
   "metadata": {},
   "outputs": [
    {
     "name": "stdout",
     "output_type": "stream",
     "text": [
      "5 + 3 = 8\n",
      "5 - 3 = 2\n",
      "5 * 3 = 15\n",
      "5 / 3 = 1\n",
      "5 / 3 = 1.666667\n",
      "5 // 3 = 1\n",
      "5 // 3 = 1.000000\n",
      "5 % 3 = 2\n",
      "2의 10승 = 1024\n",
      "루트 2 = 1.414214\n",
      "루트 2 = 1.414214\n"
     ]
    }
   ],
   "source": [
    "# %를 사용한 출력 서식에 맞춰 출력할 데이터가 2건 이상이라면 출력할 데이터를 ()로 반드시 묶어줘야 한다.\n",
    "print('%d + %d = %d' % (5, 3, 5 + 3)) # 덧셈\n",
    "print('%d - %d = %d' % (5, 3, 5 - 3)) # 뺄셈\n",
    "print('%d * %d = %d' % (5, 3, 5 * 3)) # 곱셈\n",
    "# 파이썬은 '/' 연산자로 나눗셈을 하면 소수점 아래까지 계산된다.\n",
    "# '/' 연산은 연산 결과가 실수로 나오지만 출력 서식이 '%d'(정수)로 지정되서 정수만 출력된다.\n",
    "print('%d / %d = %d' % (5, 3, 5 / 3)) # 실수 나눗셈\n",
    "print('%d / %d = %f' % (5, 3, 5 / 3))\n",
    "# 파이썬은 '//' 연산자로 나눗셈을 하면 몫만 계산된다.\n",
    "print('%d // %d = %d' % (5, 3, 5 // 3)) # 정수 나눗셈\n",
    "print('%d // %d = %f' % (5, 3, 5 // 3))\n",
    "# 출력 서식을 지정할 때 '%' 문자 자체를 출력하려한다면 연속해서 2개를 써야한다.\n",
    "print('%d %% %d = %d' % (5, 3, 5 % 3)) # 나머지\n",
    "print('%d의 %d승 = %d' % (2, 10, 2 ** 10)) # 거듭제곱\n",
    "print('루트 %d = %f' % (2, 2 ** 0.5)) # 제곱근\n",
    "import math\n",
    "print('루트 %d = %f' % (2, math.sqrt(2))) # 제곱근 함수"
   ]
  },
  {
   "cell_type": "markdown",
   "id": "47d27708",
   "metadata": {},
   "source": [
    "산술 연산자 우선 순위: () => ** => *, /, //, % => +, -"
   ]
  },
  {
   "cell_type": "markdown",
   "id": "43d538ff",
   "metadata": {},
   "source": [
    "문자열 출력 서식을 지정하는 format() 메소드와 {}를 사용해서 출력하기"
   ]
  },
  {
   "cell_type": "code",
   "execution_count": 79,
   "id": "106204f5",
   "metadata": {},
   "outputs": [
    {
     "name": "stdout",
     "output_type": "stream",
     "text": [
      "5 + 3 = 8\n",
      "5 + 3 = 8\n",
      "5 - 3 = 2\n",
      "5 * 3 = 15\n",
      "5 / 3 = 1.6666666666666667\n",
      "5 // 3 = 1\n",
      "5 % 3 = 2\n",
      "5의 3승 = 125\n",
      "루트 5 = 2.23606797749979\n"
     ]
    }
   ],
   "source": [
    "print('%d + %d = %d' % (5, 3, 5 + 3))\n",
    "# '%'로 서식을 지정할 때는 %d, %f, %s 위치에 데이터가 대입되서 출력 되었지만 {}를 사용하면 {}에 데이터가 대입되서 출력된다.\n",
    "print('{} + {} = {}'.format(5, 3, 5 + 3))\n",
    "print('{} - {} = {}'.format(5, 3, 5 - 3))\n",
    "print('{} * {} = {}'.format(5, 3, 5 * 3))\n",
    "print('{} / {} = {}'.format(5, 3, 5 / 3))\n",
    "print('{} // {} = {}'.format(5, 3, 5 // 3))\n",
    "print('{} % {} = {}'.format(5, 3, 5 % 3))\n",
    "print('{}의 {}승 = {}'.format(5, 3, 5 ** 3))\n",
    "print('루트 {} = {}'.format(5, 5 ** 0.5))"
   ]
  },
  {
   "cell_type": "code",
   "execution_count": 88,
   "id": "c5188209",
   "metadata": {},
   "outputs": [
    {
     "name": "stdout",
     "output_type": "stream",
     "text": [
      "홍길동 바보\n",
      "홍길동\n",
      "홍길동 바보\n",
      "바보 홍길동\n",
      "홍길동 바보 홍길동\n"
     ]
    }
   ],
   "source": [
    "# format() 메소드와 출력할 데이터의 인덱스(일련번호)를 사용해서 출력하기 => 인덱스는 0부터 시작된다.\n",
    "print('{} {}'.format('홍길동', '바보'))\n",
    "# 인덱스를 지정하지 않은 상태에서 아래와 같이 {}가 출력할 데이터보다 많으면 에러가 발생된다.\n",
    "# print('{} {} {}'.format('홍길동', '바보')) # 에러\n",
    "# {}가 모자라면 에러는 발생되지 않고 남는 데이터가 무시된다.\n",
    "print('{}'.format('홍길동', '바보'))\n",
    "\n",
    "print('{0} {1}'.format('홍길동', '바보'))\n",
    "print('{1} {0}'.format('홍길동', '바보'))\n",
    "# {}에 출력할 데이터의 인덱스를 지정하면 데이터와 {}의 개수가 다르더라도 인덱스 범위만 벗어나지 않으면 정상 출력된다.\n",
    "print('{0} {1} {0}'.format('홍길동', '바보'))\n",
    "# {}에 지정한 인덱스가 인덱스의 범위를 벗어나면 에러가 발생된다.\n",
    "# print('{0} {1} {2}'.format('홍길동', '바보')) # 에러\n",
    "# {}에 인덱스를 부분적으로 지정하면 에러가 발생된다.\n",
    "# print('{0} {1} {}'.format('홍길동', '바보')) # 에러"
   ]
  },
  {
   "cell_type": "markdown",
   "id": "65e5d5bc",
   "metadata": {},
   "source": [
    "출력 서식과 format() 메소드로 출력할 데이터의 인덱스를 사용해 서식을 지정해 출력하기"
   ]
  },
  {
   "cell_type": "code",
   "execution_count": 122,
   "id": "27f5aa15",
   "metadata": {},
   "outputs": [
    {
     "name": "stdout",
     "output_type": "stream",
     "text": [
      "메론(은)는 10000원 입니다.\n",
      "메론(은)는 10000원 입니다.\n",
      "메론(은)는 10000원 입니다.\n",
      "메론        (은)는   10000원 입니다.\n",
      "메론        (은)는 100,000원 입니다.\n",
      "메론        (은)는  12.35% 입니다.\n"
     ]
    }
   ],
   "source": [
    "# {인덱스:출력서식} => 출력 서식 앞에 '%'는 붙이지 않는다.\n",
    "print('%s(은)는 %d원 입니다.' % ('메론', 10000))\n",
    "print('{}(은)는 {}원 입니다.'.format('메론', 10000))\n",
    "print('{0}(은)는 {1}원 입니다.'.format('메론', 10000))\n",
    "print('{0:10s}(은)는 {1:7d}원 입니다.'.format('메론', 10000))\n",
    "print('{0:10s}(은)는 {1:7,d}원 입니다.'.format('메론', 100000)) # 천 단위마다 ','를 삽입해서 출력한다.\n",
    "print('{0:10s}(은)는 {1:7.2%} 입니다.'.format('메론', 0.123456789)) # 백분율, 자동으로 100이 곱해져 출력된다."
   ]
  },
  {
   "cell_type": "code",
   "execution_count": 124,
   "id": "43c2a3ad",
   "metadata": {},
   "outputs": [
    {
     "name": "stdout",
     "output_type": "stream",
     "text": [
      "메론        (은)는   10000원 입니다.\n",
      "메론        (은)는   10000원 입니다.\n",
      "    메론    (은)는   10000원 입니다.\n",
      "        메론(은)는   10000원 입니다.\n"
     ]
    }
   ],
   "source": [
    "# '<', '^', '>'를 사용해서 문자열 정렬 방법을 지정할 수 있다. => '<'가 기본값으로 사용된다.\n",
    "print('{0:10s}(은)는 {1:7d}원 입니다.'.format('메론', 10000))\n",
    "print('{0:<10s}(은)는 {1:7d}원 입니다.'.format('메론', 10000))\n",
    "print('{0:^10s}(은)는 {1:7d}원 입니다.'.format('메론', 10000))\n",
    "print('{0:>10s}(은)는 {1:7d}원 입니다.'.format('메론', 10000))"
   ]
  },
  {
   "cell_type": "code",
   "execution_count": 129,
   "id": "6658fdf1",
   "metadata": {},
   "outputs": [
    {
     "name": "stdout",
     "output_type": "stream",
     "text": [
      "메론________(은)는   10000원 입니다.\n",
      "****메론****(은)는   10000원 입니다.\n",
      "!!!!!!!!메론(은)는   10000원 입니다.\n"
     ]
    }
   ],
   "source": [
    "# '<', '^', '>' 앞에 문자열 출력시 남는 공백에 채울 채움 문자(1글자만 가능)를 지정할 수 있다.\n",
    "print('{0:_<10s}(은)는 {1:7d}원 입니다.'.format('메론', 10000))\n",
    "print('{0:*^10s}(은)는 {1:7d}원 입니다.'.format('메론', 10000))\n",
    "print('{0:!>10s}(은)는 {1:7d}원 입니다.'.format('메론', 10000))"
   ]
  },
  {
   "cell_type": "code",
   "execution_count": 130,
   "id": "1d684c06",
   "metadata": {},
   "outputs": [
    {
     "name": "stdout",
     "output_type": "stream",
     "text": [
      "홍길동님은 20살 입니다.\n"
     ]
    }
   ],
   "source": [
    "# f 접두어를 사용한 서식 지정\n",
    "name = '홍길동'\n",
    "age = 20\n",
    "print(f'{name}님은 {age}살 입니다.')"
   ]
  },
  {
   "cell_type": "code",
   "execution_count": null,
   "id": "f27c1cc2",
   "metadata": {},
   "outputs": [],
   "source": []
  },
  {
   "cell_type": "code",
   "execution_count": null,
   "id": "57e944d6",
   "metadata": {},
   "outputs": [],
   "source": []
  },
  {
   "cell_type": "code",
   "execution_count": null,
   "id": "730342e5",
   "metadata": {},
   "outputs": [],
   "source": []
  },
  {
   "cell_type": "code",
   "execution_count": null,
   "id": "b2de821a",
   "metadata": {},
   "outputs": [],
   "source": []
  },
  {
   "cell_type": "code",
   "execution_count": null,
   "id": "5c97ce98",
   "metadata": {},
   "outputs": [],
   "source": []
  }
 ],
 "metadata": {
  "kernelspec": {
   "display_name": "Python 3",
   "language": "python",
   "name": "python3"
  },
  "language_info": {
   "codemirror_mode": {
    "name": "ipython",
    "version": 3
   },
   "file_extension": ".py",
   "mimetype": "text/x-python",
   "name": "python",
   "nbconvert_exporter": "python",
   "pygments_lexer": "ipython3",
   "version": "3.9.5"
  }
 },
 "nbformat": 4,
 "nbformat_minor": 5
}
