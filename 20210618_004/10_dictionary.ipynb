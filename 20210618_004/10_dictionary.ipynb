{
 "cells": [
  {
   "cell_type": "markdown",
   "id": "2bcb2d78",
   "metadata": {},
   "source": [
    "딕셔너리는 key와 value가 1:1로 대응되는 관계를 나타내는 자료형으로 key와 key에 할당되는 데이터(value)가 한 쌍이 되는 자료형이다.  \n",
    "딕셔너리는 {}로 감싸주고 {} 내부에는 {key: value, key: value, ...}와 같은 형태를 가진다.  \n",
    "일반적으로 key는 string 타입을 사용하고 value는 저장할 데이터를 적는다."
   ]
  },
  {
   "cell_type": "code",
   "execution_count": 4,
   "id": "c9bf70f4",
   "metadata": {},
   "outputs": [
    {
     "name": "stdout",
     "output_type": "stream",
     "text": [
      "<class 'dict'>\n",
      "{}\n",
      "<class 'dict'>\n",
      "{}\n"
     ]
    }
   ],
   "source": [
    "# 빈 딕셔너리 만들기\n",
    "a = {}\n",
    "print(type(a))\n",
    "print(a)\n",
    "# 빈 딕셔너리는 생성자 함수를 사용해서도 만들 수 있다.\n",
    "b = dict()\n",
    "print(type(b))\n",
    "print(b)"
   ]
  },
  {
   "cell_type": "code",
   "execution_count": 14,
   "id": "f3e91920",
   "metadata": {},
   "outputs": [
    {
     "name": "stdout",
     "output_type": "stream",
     "text": [
      "<class 'dict'>\n",
      "{'name': '홍길동', 'phone': '010-1234-5678', 'age': 20}\n",
      "{'name': '홍길동', 'phone': '010-1234-5678', 'age': 20, 'gender': '여자'}\n",
      "{'name': '홍길동', 'phone': '010-1234-5678', 'age': 20, 'gender': '남자'}\n",
      "{'name': '홍길동', 'phone': '010-1234-5678', 'age': 20}\n",
      "홍길동\n",
      "010-1234-5678\n",
      "{}\n"
     ]
    },
    {
     "ename": "NameError",
     "evalue": "name 'c' is not defined",
     "output_type": "error",
     "traceback": [
      "\u001b[1;31m---------------------------------------------------------------------------\u001b[0m",
      "\u001b[1;31mNameError\u001b[0m                                 Traceback (most recent call last)",
      "\u001b[1;32m<ipython-input-14-aad59983ba2d>\u001b[0m in \u001b[0;36m<module>\u001b[1;34m\u001b[0m\n\u001b[0;32m     27\u001b[0m \u001b[1;33m\u001b[0m\u001b[0m\n\u001b[0;32m     28\u001b[0m \u001b[1;32mdel\u001b[0m \u001b[0mc\u001b[0m\u001b[1;33m\u001b[0m\u001b[1;33m\u001b[0m\u001b[0m\n\u001b[1;32m---> 29\u001b[1;33m \u001b[0mprint\u001b[0m\u001b[1;33m(\u001b[0m\u001b[0mc\u001b[0m\u001b[1;33m)\u001b[0m\u001b[1;33m\u001b[0m\u001b[1;33m\u001b[0m\u001b[0m\n\u001b[0m",
      "\u001b[1;31mNameError\u001b[0m: name 'c' is not defined"
     ]
    }
   ],
   "source": [
    "c = {'name': '홍길동', 'phone': '010-1234-5678', 'age': 20}\n",
    "print(type(c))\n",
    "print(c)\n",
    "\n",
    "# 딕셔너리에 데이터 추가 및 수정하기\n",
    "# 딕셔너리는 존재하지 않는 key에 데이터를 할당하면 데이터가 추가되고 존재하는 key에 데이터를 할당하면 데이터가 수정된다.\n",
    "# 딕셔너리이름[key] = value\n",
    "c['gender'] = '여자' # 추가 => 딕셔너리에 존재하지 않는 key에 데이터를 할당했다.\n",
    "print(c)\n",
    "c['gender'] = '남자' # 수정 => 딕셔너리에 존재하는 key에 데이터를 할당했다.\n",
    "print(c)\n",
    "\n",
    "# 딕셔너리의 데이터 제거하기\n",
    "# del 딕셔너리이름[key]\n",
    "del c['gender']\n",
    "print(c)\n",
    "\n",
    "# 딕셔너리에 저장된 데이터 얻어오기\n",
    "# 딕셔너리이름[key]\n",
    "print(c['name'])\n",
    "# 딕셔너너리이름.get(key)\n",
    "print(c.get('phone'))\n",
    "\n",
    "# clear() 메소드로 딕셔너리에 저장된 모든 데이터를 제거할 수 있다.\n",
    "c.clear()\n",
    "print(c)\n",
    "\n",
    "# del 명령으로 딕셔너리 자체를 메모리에서 제거할 수 있다.\n",
    "del c\n",
    "print(c)"
   ]
  },
  {
   "cell_type": "markdown",
   "id": "9d203103",
   "metadata": {},
   "source": [
    "딕셔너리 메소드"
   ]
  },
  {
   "cell_type": "code",
   "execution_count": 18,
   "id": "433403f3",
   "metadata": {},
   "outputs": [
    {
     "name": "stdout",
     "output_type": "stream",
     "text": [
      "{'name': '임꺽정', 'phone': '010-9876-5432', 'age': 35, 'gender': '남자', 'job': '도적'}\n",
      "dict_keys(['name', 'phone', 'age', 'gender', 'job'])\n",
      "dict_values(['임꺽정', '010-9876-5432', 35, '남자', '도적'])\n",
      "dict_items([('name', '임꺽정'), ('phone', '010-9876-5432'), ('age', 35), ('gender', '남자'), ('job', '도적')])\n"
     ]
    }
   ],
   "source": [
    "d = {'name': '임꺽정', 'phone': '010-9876-5432', 'age': 35, 'gender': '남자', 'job': '도적'}\n",
    "print(d)\n",
    "\n",
    "# keys() 메소드로 딕셔너리에서 key 목록만 얻어올 수 있다.\n",
    "print(d.keys())\n",
    "# values() 메소드로 딕셔너리에서 value 목록만 얻어올 수 있다.\n",
    "print(d.values())\n",
    "# items() 메소드로 딕셔너리에서 key와 value를 한 쌍으로 묶은 목록을 튜플로 얻어올 수 있다.\n",
    "print(d.items())"
   ]
  },
  {
   "cell_type": "code",
   "execution_count": null,
   "id": "65695b84",
   "metadata": {},
   "outputs": [],
   "source": []
  },
  {
   "cell_type": "code",
   "execution_count": null,
   "id": "8cc52d86",
   "metadata": {},
   "outputs": [],
   "source": []
  },
  {
   "cell_type": "code",
   "execution_count": null,
   "id": "680ca2d6",
   "metadata": {},
   "outputs": [],
   "source": []
  },
  {
   "cell_type": "code",
   "execution_count": null,
   "id": "c730fbfc",
   "metadata": {},
   "outputs": [],
   "source": []
  },
  {
   "cell_type": "code",
   "execution_count": null,
   "id": "6517a0d1",
   "metadata": {},
   "outputs": [],
   "source": []
  },
  {
   "cell_type": "code",
   "execution_count": null,
   "id": "af1f6545",
   "metadata": {},
   "outputs": [],
   "source": []
  },
  {
   "cell_type": "code",
   "execution_count": null,
   "id": "b987e0c8",
   "metadata": {},
   "outputs": [],
   "source": []
  },
  {
   "cell_type": "code",
   "execution_count": null,
   "id": "f297c8bb",
   "metadata": {},
   "outputs": [],
   "source": []
  }
 ],
 "metadata": {
  "kernelspec": {
   "display_name": "Python 3",
   "language": "python",
   "name": "python3"
  },
  "language_info": {
   "codemirror_mode": {
    "name": "ipython",
    "version": 3
   },
   "file_extension": ".py",
   "mimetype": "text/x-python",
   "name": "python",
   "nbconvert_exporter": "python",
   "pygments_lexer": "ipython3",
   "version": "3.9.5"
  }
 },
 "nbformat": 4,
 "nbformat_minor": 5
}
