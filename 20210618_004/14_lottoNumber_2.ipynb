{
 "cells": [
  {
   "cell_type": "code",
   "execution_count": 1,
   "id": "42d2947e",
   "metadata": {},
   "outputs": [],
   "source": [
    "import random"
   ]
  },
  {
   "cell_type": "code",
   "execution_count": 30,
   "id": "4a6f26c8",
   "metadata": {},
   "outputs": [
    {
     "name": "stdout",
     "output_type": "stream",
     "text": [
      "26\n",
      "35\n",
      "42\n",
      "32\n",
      "27\n",
      "17\n",
      "1등 번호: {32, 35, 42, 17, 26, 27}\n",
      "32\n",
      "15\n",
      "보너스 번호: 15\n"
     ]
    }
   ],
   "source": [
    "# 로또 번호를 생성할 빈 set을 만든다.\n",
    "lotto = set()\n",
    "\n",
    "# 1등 번호\n",
    "while True:\n",
    "    number = random.randrange(1, 46)\n",
    "    print(number)\n",
    "    lotto.add(number)\n",
    "    # set에 중복되지 않는 숫자가 6개 저장되면 무한루프를 탈출시킨다.\n",
    "    if len(lotto) == 6:\n",
    "        break\n",
    "# ===== while True\n",
    "print('1등 번호: {}'.format(lotto))\n",
    "\n",
    "# 보너스 번호\n",
    "while True:\n",
    "    bonus = random.randrange(1, 46)\n",
    "    print(bonus)\n",
    "    if bonus not in lotto:\n",
    "        break\n",
    "# ===== while True\n",
    "print('보너스 번호: {}'.format(bonus))"
   ]
  },
  {
   "cell_type": "code",
   "execution_count": null,
   "id": "566cb821",
   "metadata": {},
   "outputs": [],
   "source": []
  },
  {
   "cell_type": "code",
   "execution_count": null,
   "id": "c332689a",
   "metadata": {},
   "outputs": [],
   "source": []
  },
  {
   "cell_type": "code",
   "execution_count": null,
   "id": "7449d030",
   "metadata": {},
   "outputs": [],
   "source": []
  },
  {
   "cell_type": "code",
   "execution_count": null,
   "id": "81f6abe8",
   "metadata": {},
   "outputs": [],
   "source": []
  },
  {
   "cell_type": "code",
   "execution_count": null,
   "id": "95901ccc",
   "metadata": {},
   "outputs": [],
   "source": []
  }
 ],
 "metadata": {
  "kernelspec": {
   "display_name": "Python 3",
   "language": "python",
   "name": "python3"
  },
  "language_info": {
   "codemirror_mode": {
    "name": "ipython",
    "version": 3
   },
   "file_extension": ".py",
   "mimetype": "text/x-python",
   "name": "python",
   "nbconvert_exporter": "python",
   "pygments_lexer": "ipython3",
   "version": "3.9.5"
  }
 },
 "nbformat": 4,
 "nbformat_minor": 5
}
