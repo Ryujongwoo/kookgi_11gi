{
 "cells": [
  {
   "cell_type": "code",
   "execution_count": 1,
   "id": "265a98b3",
   "metadata": {},
   "outputs": [],
   "source": [
    "import random"
   ]
  },
  {
   "cell_type": "code",
   "execution_count": 63,
   "id": "45659a90",
   "metadata": {},
   "outputs": [
    {
     "name": "stdout",
     "output_type": "stream",
     "text": [
      "18\n",
      "44\n",
      "28\n",
      "10\n",
      "10\n",
      "12\n",
      "17\n",
      "1등 번호: [18, 44, 28, 10, 12, 17]\n",
      "12\n",
      "34\n",
      "보너스 번호: 34\n"
     ]
    }
   ],
   "source": [
    "# 로또 번호를 기억할 빈 리스트를 만든다.\n",
    "lotto = []\n",
    "\n",
    "# 1등 번호\n",
    "while True:\n",
    "    # 1 ~ 45 사이의 난수를 발생시킨다.\n",
    "    number = random.randrange(1, 46)\n",
    "    print(number)\n",
    "    # 리스트에 중복되는 번호가 없으면 발생된 난수를 리스트에 추가한다.\n",
    "    if number not in lotto:\n",
    "        lotto.append(number)\n",
    "    # 리스트에 숫자가 6개 저장되면 무한루프를 탈출시킨다.\n",
    "    if len(lotto) == 6:\n",
    "        break\n",
    "# ===== while True\n",
    "print('1등 번호: {}'.format(lotto))\n",
    "\n",
    "# 보너스 번호\n",
    "while True:\n",
    "    bonus = random.randrange(1, 46)\n",
    "    print(bonus)\n",
    "    if bonus not in lotto:\n",
    "        break\n",
    "# ===== while True\n",
    "print('보너스 번호: {}'.format(bonus))"
   ]
  },
  {
   "cell_type": "code",
   "execution_count": 101,
   "id": "da94dc24",
   "metadata": {},
   "outputs": [
    {
     "name": "stdout",
     "output_type": "stream",
     "text": [
      "1등 번호: [30, 5, 32, 13, 43, 45]\n",
      "보너스 번호: 17\n"
     ]
    }
   ],
   "source": [
    "lotto = []\n",
    "while len(lotto) != 6:\n",
    "    number = random.randrange(1, 46)\n",
    "    # print(number)\n",
    "    if number not in lotto:\n",
    "        lotto.append(number)\n",
    "print('1등 번호: {}'.format(lotto))\n",
    "\n",
    "while len(lotto) != 7:\n",
    "    bonus = random.randrange(1, 46)\n",
    "    # print(bonus)\n",
    "    if bonus not in lotto:\n",
    "        lotto.append(bonus)\n",
    "print('보너스 번호: {}'.format(lotto[6]))"
   ]
  },
  {
   "cell_type": "code",
   "execution_count": 107,
   "id": "151e49c6",
   "metadata": {},
   "outputs": [
    {
     "name": "stdout",
     "output_type": "stream",
     "text": [
      "1등 번호: 25 22 20 24 18 23 보너스 번호: 6\n"
     ]
    }
   ],
   "source": [
    "import time # sleep() 메소드를 사용하기 위해 import 한다.\n",
    "\n",
    "lotto = []\n",
    "while len(lotto) != 6:\n",
    "    number = random.randrange(1, 46)\n",
    "    if number not in lotto:\n",
    "        lotto.append(number)\n",
    "while len(lotto) != 7:\n",
    "    bonus = random.randrange(1, 46)\n",
    "    if bonus not in lotto:\n",
    "        lotto.append(bonus)\n",
    "\n",
    "print('1등 번호: ', end='')\n",
    "i = 0\n",
    "while i < len(lotto) - 1:\n",
    "    print(lotto[i], end=' ')\n",
    "    # 1등 번호 1개를 출력하고 프로그램을 1초간 멈춘다.\n",
    "    # sleep() 메소드는 인수로 지정된 시간만큼 프로그램을 멈춘다. 시간은 초 단위로 지정한다.\n",
    "    time.sleep(1)\n",
    "    i += 1\n",
    "print('보너스 번호: {}'.format(lotto[6]))"
   ]
  },
  {
   "cell_type": "code",
   "execution_count": null,
   "id": "34077ffe",
   "metadata": {},
   "outputs": [],
   "source": []
  },
  {
   "cell_type": "code",
   "execution_count": null,
   "id": "46af2890",
   "metadata": {},
   "outputs": [],
   "source": []
  },
  {
   "cell_type": "code",
   "execution_count": null,
   "id": "71d58458",
   "metadata": {},
   "outputs": [],
   "source": []
  },
  {
   "cell_type": "code",
   "execution_count": null,
   "id": "74f57d98",
   "metadata": {},
   "outputs": [],
   "source": []
  },
  {
   "cell_type": "code",
   "execution_count": null,
   "id": "0630332a",
   "metadata": {},
   "outputs": [],
   "source": []
  },
  {
   "cell_type": "code",
   "execution_count": null,
   "id": "4a49247f",
   "metadata": {},
   "outputs": [],
   "source": []
  },
  {
   "cell_type": "code",
   "execution_count": null,
   "id": "097ceae3",
   "metadata": {},
   "outputs": [],
   "source": []
  }
 ],
 "metadata": {
  "kernelspec": {
   "display_name": "Python 3",
   "language": "python",
   "name": "python3"
  },
  "language_info": {
   "codemirror_mode": {
    "name": "ipython",
    "version": 3
   },
   "file_extension": ".py",
   "mimetype": "text/x-python",
   "name": "python",
   "nbconvert_exporter": "python",
   "pygments_lexer": "ipython3",
   "version": "3.9.5"
  }
 },
 "nbformat": 4,
 "nbformat_minor": 5
}
