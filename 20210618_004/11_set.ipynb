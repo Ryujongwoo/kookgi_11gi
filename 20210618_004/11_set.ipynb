{
 "cells": [
  {
   "cell_type": "markdown",
   "id": "1eaee800",
   "metadata": {},
   "source": [
    "set은 수학의 집합과 비슷한 형태로 중복되는 데이터의 입력을 허용하지 않고 입력되는 데이터의 순서와 실제로 저장되는 데이터의 순서가 달라서 인덱싱과 슬라이싱을 사용할 수 없다.  \n",
    "딕셔너리처럼 {}를 사용해서 데이터를 감싸주지만 key가 존재하지 않고 value들만 존재한다."
   ]
  },
  {
   "cell_type": "code",
   "execution_count": 1,
   "id": "5f00aace",
   "metadata": {},
   "outputs": [
    {
     "name": "stdout",
     "output_type": "stream",
     "text": [
      "<class 'dict'>\n",
      "{}\n",
      "<class 'set'>\n",
      "set()\n"
     ]
    }
   ],
   "source": [
    "# 빈 set을 만든다.\n",
    "a = {} # 빈 set은 {}를 사용해서 만들 수 없다. => 딕셔너리로 인식된다.\n",
    "print(type(a))\n",
    "print(a)\n",
    "# 빈 set을 만들때 {}를 사용하면 딕셔너리가 생성되기 때문에 반드시 생성자 함수로 만들어 사용해야 한다.\n",
    "b = set()\n",
    "print(type(b))\n",
    "print(b)"
   ]
  },
  {
   "cell_type": "code",
   "execution_count": 2,
   "id": "a55d7ae7",
   "metadata": {},
   "outputs": [
    {
     "name": "stdout",
     "output_type": "stream",
     "text": [
      "<class 'set'>\n",
      "{1, 2, 3, 4}\n"
     ]
    }
   ],
   "source": [
    "c = {1, 2, 3, 4}\n",
    "print(type(c))\n",
    "print(c)"
   ]
  },
  {
   "cell_type": "code",
   "execution_count": 3,
   "id": "a85b91a1",
   "metadata": {},
   "outputs": [
    {
     "name": "stdout",
     "output_type": "stream",
     "text": [
      "<class 'set'>\n",
      "{1, 2, 3, 4}\n",
      "<class 'set'>\n",
      "{1, 2, 3, 4}\n"
     ]
    }
   ],
   "source": [
    "# 생성자 함수의 인수로 리스트나 튜플을 넘겨받아 set을 만들 수 있다.\n",
    "d = set([1, 2, 3, 4])\n",
    "print(type(d))\n",
    "print(d)\n",
    "e = set((1, 2, 3, 4))\n",
    "print(type(e))\n",
    "print(e)"
   ]
  },
  {
   "cell_type": "code",
   "execution_count": 4,
   "id": "1c2749bd",
   "metadata": {},
   "outputs": [
    {
     "name": "stdout",
     "output_type": "stream",
     "text": [
      "<class 'set'>\n",
      "{1, 3, 5, 7}\n"
     ]
    }
   ],
   "source": [
    "# set은 중복되는 데이터의 입력을 허용하지 않는다.\n",
    "f = {1, 5, 1, 1, 1, 1, 3, 5, 7, 7}\n",
    "print(type(f))\n",
    "print(f)"
   ]
  },
  {
   "cell_type": "markdown",
   "id": "a5ba4069",
   "metadata": {},
   "source": [
    "set 메소드"
   ]
  },
  {
   "cell_type": "code",
   "execution_count": 5,
   "id": "803486b8",
   "metadata": {},
   "outputs": [
    {
     "name": "stdout",
     "output_type": "stream",
     "text": [
      "set()\n",
      "{'홍길동'}\n",
      "{'임꺽정', '홍길동'}\n",
      "{'장길산', '임꺽정', '홍길동'}\n",
      "{'장길산', '임꺽정', '홍길동', '일지매'}\n"
     ]
    }
   ],
   "source": [
    "# add() 메소드로 데이터를 한 건씩 추가할 수 있다.\n",
    "g = set()\n",
    "print(g)\n",
    "g.add('홍길동')\n",
    "print(g)\n",
    "g.add('임꺽정')\n",
    "print(g)\n",
    "g.add('장길산')\n",
    "print(g)\n",
    "g.add('일지매')\n",
    "print(g)"
   ]
  },
  {
   "cell_type": "code",
   "execution_count": 6,
   "id": "2cf88f3f",
   "metadata": {},
   "outputs": [
    {
     "name": "stdout",
     "output_type": "stream",
     "text": [
      "<class 'list'>\n",
      "['손오공', '삼장법사', '오룡', '크리닝']\n",
      "<class 'tuple'>\n",
      "('피콜로', '마인부우', '베지터', '프리저')\n",
      "================================================================================\n",
      "{'장길산', '일지매', '크리닝', '오룡', '임꺽정', '삼장법사', '홍길동', '손오공'}\n",
      "{'장길산', '일지매', '크리닝', '오룡', '임꺽정', '베지터', '삼장법사', '마인부우', '프리저', '홍길동', '피콜로', '손오공'}\n"
     ]
    }
   ],
   "source": [
    "# update() 메소드로 리스트나 튜플을 이용해서 set에 여러건의 데이터를 한 번에 추가할 수 있다.\n",
    "h = ['손오공', '삼장법사', '오룡', '크리닝']\n",
    "print(type(h))\n",
    "print(h)\n",
    "i = '피콜로', '마인부우', '베지터', '프리저'\n",
    "print(type(i))\n",
    "print(i)\n",
    "print('=' * 80)\n",
    "\n",
    "g.update(h)\n",
    "print(g)\n",
    "g.update(i)\n",
    "print(g)"
   ]
  },
  {
   "cell_type": "code",
   "execution_count": 7,
   "id": "9361687b",
   "metadata": {},
   "outputs": [
    {
     "name": "stdout",
     "output_type": "stream",
     "text": [
      "{'장길산', '일지매', '크리닝', '오룡', '임꺽정', '베지터', '삼장법사', '마인부우', '홍길동', '피콜로', '손오공'}\n"
     ]
    },
    {
     "ename": "KeyError",
     "evalue": "'프리저'",
     "output_type": "error",
     "traceback": [
      "\u001b[1;31m---------------------------------------------------------------------------\u001b[0m",
      "\u001b[1;31mKeyError\u001b[0m                                  Traceback (most recent call last)",
      "\u001b[1;32m<ipython-input-7-c6e4bddfc604>\u001b[0m in \u001b[0;36m<module>\u001b[1;34m\u001b[0m\n\u001b[0;32m      2\u001b[0m \u001b[0mg\u001b[0m\u001b[1;33m.\u001b[0m\u001b[0mremove\u001b[0m\u001b[1;33m(\u001b[0m\u001b[1;34m'프리저'\u001b[0m\u001b[1;33m)\u001b[0m\u001b[1;33m\u001b[0m\u001b[1;33m\u001b[0m\u001b[0m\n\u001b[0;32m      3\u001b[0m \u001b[0mprint\u001b[0m\u001b[1;33m(\u001b[0m\u001b[0mg\u001b[0m\u001b[1;33m)\u001b[0m\u001b[1;33m\u001b[0m\u001b[1;33m\u001b[0m\u001b[0m\n\u001b[1;32m----> 4\u001b[1;33m \u001b[0mg\u001b[0m\u001b[1;33m.\u001b[0m\u001b[0mremove\u001b[0m\u001b[1;33m(\u001b[0m\u001b[1;34m'프리저'\u001b[0m\u001b[1;33m)\u001b[0m \u001b[1;31m# set에 존재하지 않는 데이터를 삭제하려 했으므로 에러가 발생된다.\u001b[0m\u001b[1;33m\u001b[0m\u001b[1;33m\u001b[0m\u001b[0m\n\u001b[0m\u001b[0;32m      5\u001b[0m \u001b[0mprint\u001b[0m\u001b[1;33m(\u001b[0m\u001b[0mg\u001b[0m\u001b[1;33m)\u001b[0m\u001b[1;33m\u001b[0m\u001b[1;33m\u001b[0m\u001b[0m\n",
      "\u001b[1;31mKeyError\u001b[0m: '프리저'"
     ]
    }
   ],
   "source": [
    "# remove() 메소드의 인수로 저정된 데이터를 set에서 제거한다.\n",
    "g.remove('프리저')\n",
    "print(g)\n",
    "g.remove('프리저') # set에 존재하지 않는 데이터를 삭제하려 했으므로 에러가 발생된다.\n",
    "print(g)"
   ]
  },
  {
   "cell_type": "code",
   "execution_count": 8,
   "id": "f967fd8a",
   "metadata": {},
   "outputs": [
    {
     "name": "stdout",
     "output_type": "stream",
     "text": [
      "{'장길산', '일지매', '크리닝', '오룡', '임꺽정', '베지터', '삼장법사', '홍길동', '피콜로', '손오공'}\n",
      "{'장길산', '일지매', '크리닝', '오룡', '임꺽정', '베지터', '삼장법사', '홍길동', '피콜로', '손오공'}\n"
     ]
    }
   ],
   "source": [
    "# discard() 메소드의 인수로 저정된 데이터를 set에서 제거한다.\n",
    "g.discard('마인부우')\n",
    "print(g)\n",
    "g.discard('마인부우') # set에 존재하지 않는 데이터를 삭제하려 해도 에러가 발생되지 않는다.\n",
    "print(g)"
   ]
  },
  {
   "cell_type": "code",
   "execution_count": 9,
   "id": "4d454031",
   "metadata": {},
   "outputs": [
    {
     "name": "stdout",
     "output_type": "stream",
     "text": [
      "set()\n"
     ]
    }
   ],
   "source": [
    "# clear() 메소드로 set에 저장된 모든 데이터를 제거할 수 있다.\n",
    "g.clear()\n",
    "print(g)"
   ]
  },
  {
   "cell_type": "code",
   "execution_count": 10,
   "id": "8b5c6316",
   "metadata": {},
   "outputs": [
    {
     "ename": "NameError",
     "evalue": "name 'g' is not defined",
     "output_type": "error",
     "traceback": [
      "\u001b[1;31m---------------------------------------------------------------------------\u001b[0m",
      "\u001b[1;31mNameError\u001b[0m                                 Traceback (most recent call last)",
      "\u001b[1;32m<ipython-input-10-eefa4e3b5501>\u001b[0m in \u001b[0;36m<module>\u001b[1;34m\u001b[0m\n\u001b[0;32m      1\u001b[0m \u001b[1;31m# del 명령을 사용해서 set 자체를 메모리에서 제거할 수 있다.\u001b[0m\u001b[1;33m\u001b[0m\u001b[1;33m\u001b[0m\u001b[1;33m\u001b[0m\u001b[0m\n\u001b[0;32m      2\u001b[0m \u001b[1;32mdel\u001b[0m \u001b[0mg\u001b[0m\u001b[1;33m\u001b[0m\u001b[1;33m\u001b[0m\u001b[0m\n\u001b[1;32m----> 3\u001b[1;33m \u001b[0mprint\u001b[0m\u001b[1;33m(\u001b[0m\u001b[0mg\u001b[0m\u001b[1;33m)\u001b[0m\u001b[1;33m\u001b[0m\u001b[1;33m\u001b[0m\u001b[0m\n\u001b[0m",
      "\u001b[1;31mNameError\u001b[0m: name 'g' is not defined"
     ]
    }
   ],
   "source": [
    "# del 명령을 사용해서 set 자체를 메모리에서 제거할 수 있다.\n",
    "del g\n",
    "print(g)"
   ]
  },
  {
   "cell_type": "markdown",
   "id": "7804c68a",
   "metadata": {},
   "source": [
    "집합 연산"
   ]
  },
  {
   "cell_type": "code",
   "execution_count": 21,
   "id": "8a8a002b",
   "metadata": {},
   "outputs": [
    {
     "name": "stdout",
     "output_type": "stream",
     "text": [
      "{1, 2, 3, 4, 5, 6, 7}\n",
      "{1, 2, 3, 4, 5, 6, 7}\n",
      "{3, 4, 5}\n",
      "{3, 4, 5}\n",
      "{1, 2}\n",
      "{1, 2}\n",
      "{6, 7}\n",
      "{6, 7}\n",
      "{1, 2, 6, 7}\n",
      "{1, 2, 6, 7}\n",
      "{1, 2, 6, 7}\n"
     ]
    }
   ],
   "source": [
    "j = {1, 2, 3, 4, 5}\n",
    "k = {3, 4, 5, 6, 7}\n",
    "\n",
    "# 합집합 => union(), |\n",
    "print(j.union(k))\n",
    "print(j | k)\n",
    "\n",
    "# 교집합 => intersection(), &\n",
    "print(j.intersection(k))\n",
    "print(j & k)\n",
    "\n",
    "# 차집합 => difference(), -\n",
    "print(j.difference(k))\n",
    "print(j - k)\n",
    "print(k.difference(j))\n",
    "print(k - j)\n",
    "\n",
    "# 대칭 차집합 => 합집합 - 교집합 => symmetric_difference(), ^\n",
    "print(j.symmetric_difference(k))\n",
    "print((j | k) - (j & k))\n",
    "print(j ^ k)"
   ]
  },
  {
   "cell_type": "code",
   "execution_count": null,
   "id": "366defb9",
   "metadata": {},
   "outputs": [],
   "source": []
  },
  {
   "cell_type": "code",
   "execution_count": null,
   "id": "d1143b6b",
   "metadata": {},
   "outputs": [],
   "source": []
  },
  {
   "cell_type": "code",
   "execution_count": null,
   "id": "2ebecbc7",
   "metadata": {},
   "outputs": [],
   "source": []
  },
  {
   "cell_type": "code",
   "execution_count": null,
   "id": "79e6a05b",
   "metadata": {},
   "outputs": [],
   "source": []
  },
  {
   "cell_type": "code",
   "execution_count": null,
   "id": "fa534f7f",
   "metadata": {},
   "outputs": [],
   "source": []
  },
  {
   "cell_type": "code",
   "execution_count": null,
   "id": "fcd3b9e8",
   "metadata": {},
   "outputs": [],
   "source": []
  },
  {
   "cell_type": "code",
   "execution_count": null,
   "id": "1e893300",
   "metadata": {},
   "outputs": [],
   "source": []
  },
  {
   "cell_type": "code",
   "execution_count": null,
   "id": "69da7a55",
   "metadata": {},
   "outputs": [],
   "source": []
  }
 ],
 "metadata": {
  "kernelspec": {
   "display_name": "Python 3",
   "language": "python",
   "name": "python3"
  },
  "language_info": {
   "codemirror_mode": {
    "name": "ipython",
    "version": 3
   },
   "file_extension": ".py",
   "mimetype": "text/x-python",
   "name": "python",
   "nbconvert_exporter": "python",
   "pygments_lexer": "ipython3",
   "version": "3.9.5"
  }
 },
 "nbformat": 4,
 "nbformat_minor": 5
}
