{
 "cells": [
  {
   "cell_type": "markdown",
   "id": "75dac226",
   "metadata": {},
   "source": [
    "range() 함수는 지정한 초기치, 최종치, 증가치에 따른 숫자 리스트를 만든다.  \n",
    "형식 => range([초기치, ]최종치[, 증가치]) => 초기치와 증가치는 생략할 수 있고 초기치가 생략되면 0이 증가치가 생략되면 1이 기본갑으로 사용된다.  \n",
    "range(0, 10, 1)와 range(10)은 같은 표현이다."
   ]
  },
  {
   "cell_type": "code",
   "execution_count": 8,
   "id": "2119a689",
   "metadata": {},
   "outputs": [
    {
     "name": "stdout",
     "output_type": "stream",
     "text": [
      "[0, 1, 2, 3, 4, 5, 6, 7, 8, 9]\n",
      "[0, 1, 2, 3, 4, 5, 6, 7, 8, 9]\n",
      "[0, 2, 4, 6, 8]\n",
      "[1, 3, 5, 7, 9]\n",
      "[0, 2, 4, 6, 8, 10]\n",
      "[9, 8, 7, 6, 5, 4, 3, 2, 1, 0]\n"
     ]
    }
   ],
   "source": [
    "# range() 함수는 초기치부터 증가치만큼 증가하며 최종치를 넘지않는 숫자 리스트를 만든다.\n",
    "print(list(range(0, 10, 1)))\n",
    "print(list(range(10)))\n",
    "print(list(range(0, 10, 2)))\n",
    "print(list(range(1, 10, 2)))\n",
    "print(list(range(0, 11, 2)))\n",
    "print(list(range(9, -1, -1)))"
   ]
  },
  {
   "cell_type": "markdown",
   "id": "d2947597",
   "metadata": {},
   "source": [
    "range() 함수와 같이 사용하는 for  \n",
    "range() 함수를 실행해서 생성된 숫자 리스트의 0번째 인덱스의 값부터 마지막 인덱스의 값까지 차례대로 변수에 저장하며 반복한다.\n",
    "***\n",
    "for 변수 in range():  \n",
    "&nbsp;&nbsp;&nbsp;&nbsp;반복할 문장  \n",
    "&nbsp;&nbsp;&nbsp;&nbsp;..."
   ]
  },
  {
   "cell_type": "code",
   "execution_count": 11,
   "id": "0746bf1d",
   "metadata": {},
   "outputs": [
    {
     "name": "stdout",
     "output_type": "stream",
     "text": [
      "0\n",
      "1\n",
      "2\n",
      "3\n",
      "4\n"
     ]
    }
   ],
   "source": [
    "# print(list(range(5))) # [0, 1, 2, 3, 4]\n",
    "for i in range(5):\n",
    "    print(i)"
   ]
  },
  {
   "cell_type": "code",
   "execution_count": 12,
   "id": "0917f98b",
   "metadata": {},
   "outputs": [
    {
     "name": "stdout",
     "output_type": "stream",
     "text": [
      "55\n"
     ]
    }
   ],
   "source": [
    "# 1 ~ 10의 합계 - while 사용\n",
    "# 변수는 선언시 초기화를 시켜야 한다.\n",
    "i = 0     # 1 ~ 10까지 1씩 증가하는 변수\n",
    "total = 0 # 1 ~ 10까지의 합계를 기억할 변수\n",
    "while i < 10:\n",
    "    i += 1\n",
    "    total += i\n",
    "# ===== while i < 10\n",
    "print(total)"
   ]
  },
  {
   "cell_type": "code",
   "execution_count": 14,
   "id": "f62ffd6f",
   "metadata": {},
   "outputs": [
    {
     "name": "stdout",
     "output_type": "stream",
     "text": [
      "55\n"
     ]
    }
   ],
   "source": [
    "# 1 ~ 10의 합계 - for 사용\n",
    "total = 0\n",
    "for i in range(1, 11):\n",
    "    total += i\n",
    "# ===== for i in range(1, 11)\n",
    "print(total)"
   ]
  },
  {
   "cell_type": "markdown",
   "id": "d641464c",
   "metadata": {},
   "source": [
    "주사위를 10번 굴렸을 때 나오는 눈의 개수를 출력한다. => 변수 사용"
   ]
  },
  {
   "cell_type": "code",
   "execution_count": 28,
   "id": "8f7238df",
   "metadata": {},
   "outputs": [
    {
     "name": "stdout",
     "output_type": "stream",
     "text": [
      "4\n",
      "1\n",
      "4\n",
      "1\n",
      "2\n",
      "6\n",
      "1\n",
      "3\n",
      "6\n",
      "1\n",
      "1의 개수: 4\n",
      "2의 개수: 1\n",
      "3의 개수: 1\n",
      "4의 개수: 2\n",
      "5의 개수: 0\n",
      "6의 개수: 2\n"
     ]
    }
   ],
   "source": [
    "import random\n",
    "# 1부터 6사이의 주사위눈의 개수를 기억할 변수 6개를 선언하고 0으로 초기화시킨다.\n",
    "# 파이썬은 1줄에 1문장 코딩을 원칙으로 하지만 1줄에 2개 이상의 문장을 코딩하려면 문장과 문장을 ';'으로 구분하면 된다.\n",
    "num1 = 0; num2 = 0; num3 = 0; num4 = 0; num5 = 0; num6 = 0\n",
    "# 주사위를 10번 굴린다.\n",
    "for i in range(10):\n",
    "    dice = random.randrange(1, 7) # 주사위를 굴린다.\n",
    "    print(dice)\n",
    "    if dice == 1:\n",
    "        num1 += 1\n",
    "    elif dice == 2:\n",
    "        num2 += 1\n",
    "    elif dice == 3:\n",
    "        num3 += 1\n",
    "    elif dice == 4:\n",
    "        num4 += 1\n",
    "    elif dice == 5:\n",
    "        num5 += 1\n",
    "    else:\n",
    "        num6 += 1\n",
    "# ===== for i in range(10)\n",
    "# 주사위 눈의 개수를 출력한다.\n",
    "print('1의 개수: {}'.format(num1))\n",
    "print('2의 개수: {}'.format(num2))\n",
    "print('3의 개수: {}'.format(num3))\n",
    "print('4의 개수: {}'.format(num4))\n",
    "print('5의 개수: {}'.format(num5))\n",
    "print('6의 개수: {}'.format(num6))"
   ]
  },
  {
   "cell_type": "markdown",
   "id": "6fefc485",
   "metadata": {},
   "source": [
    "주사위를 10번 굴렸을 때 나오는 눈의 개수를 출력한다. => 리스트 사용"
   ]
  },
  {
   "cell_type": "code",
   "execution_count": 39,
   "id": "1293b7ce",
   "metadata": {},
   "outputs": [
    {
     "name": "stdout",
     "output_type": "stream",
     "text": [
      "3\n",
      "4\n",
      "4\n",
      "2\n",
      "1\n",
      "1\n",
      "1\n",
      "1\n",
      "5\n",
      "5\n",
      "1의 개수: 4\n",
      "2의 개수: 1\n",
      "3의 개수: 1\n",
      "4의 개수: 2\n",
      "5의 개수: 2\n",
      "6의 개수: 0\n"
     ]
    }
   ],
   "source": [
    "import random\n",
    "# 1. 1 ~ 6 사이 숫자의 개수를 기억할 크기가 6인 리스트를 선언한다. => 기억장소를 모두 0으로 초기화시킨다.\n",
    "# count = [0, 0, 0, 0, 0, 0]\n",
    "# count = [0] * 6\n",
    "# 2. 1 ~ 6 사이의 숫자 개수를 기억할 빈 리스트를 선언하고 append() 메소드로 0을 6번 추가한다.\n",
    "# count = []\n",
    "# for i in range(6):\n",
    "    # count.append(0)\n",
    "# 3. 0이 6번 반복되는 리스트를 만든다.\n",
    "count = [0 for i in range(6)]\n",
    "# print(count)\n",
    "for i in range(10):\n",
    "    dice = random.randrange(1, 7)\n",
    "    print(dice)\n",
    "    if dice == 1:\n",
    "        count[0] += 1\n",
    "    elif dice == 2:\n",
    "        count[1] += 1\n",
    "    elif dice == 3:\n",
    "        count[2] += 1\n",
    "    elif dice == 4:\n",
    "        count[3] += 1\n",
    "    elif dice == 5:\n",
    "        count[4] += 1\n",
    "    else:\n",
    "        count[5] += 1\n",
    "# ===== for i in range(10)\n",
    "print('1의 개수: {}'.format(count[0]))\n",
    "print('2의 개수: {}'.format(count[1]))\n",
    "print('3의 개수: {}'.format(count[2]))\n",
    "print('4의 개수: {}'.format(count[3]))\n",
    "print('5의 개수: {}'.format(count[4]))\n",
    "print('6의 개수: {}'.format(count[5]))"
   ]
  },
  {
   "cell_type": "code",
   "execution_count": 65,
   "id": "af8631ac",
   "metadata": {},
   "outputs": [
    {
     "name": "stdout",
     "output_type": "stream",
     "text": [
      "1의 개수: 0\n",
      "2의 개수: 0\n",
      "3의 개수: 3\n",
      "4의 개수: 0\n",
      "5의 개수: 4\n",
      "6의 개수: 3\n"
     ]
    }
   ],
   "source": [
    "import random\n",
    "count = [0 for i in range(6)]\n",
    "for i in range(10):\n",
    "    dice = random.randrange(1, 7)\n",
    "    # print(dice)\n",
    "    count[dice - 1] += 1\n",
    "# ===== for i in range(10)\n",
    "for i in range(6):\n",
    "    print('{}의 개수: {}'.format(i + 1, count[i]))"
   ]
  },
  {
   "cell_type": "code",
   "execution_count": null,
   "id": "cb212143",
   "metadata": {},
   "outputs": [],
   "source": []
  },
  {
   "cell_type": "code",
   "execution_count": null,
   "id": "2f2176c0",
   "metadata": {},
   "outputs": [],
   "source": []
  },
  {
   "cell_type": "code",
   "execution_count": null,
   "id": "a803294a",
   "metadata": {},
   "outputs": [],
   "source": []
  },
  {
   "cell_type": "code",
   "execution_count": null,
   "id": "1a516779",
   "metadata": {},
   "outputs": [],
   "source": []
  },
  {
   "cell_type": "code",
   "execution_count": null,
   "id": "5fb517f8",
   "metadata": {},
   "outputs": [],
   "source": []
  },
  {
   "cell_type": "code",
   "execution_count": null,
   "id": "d1e225f8",
   "metadata": {},
   "outputs": [],
   "source": []
  },
  {
   "cell_type": "code",
   "execution_count": null,
   "id": "a804d69b",
   "metadata": {},
   "outputs": [],
   "source": []
  },
  {
   "cell_type": "code",
   "execution_count": null,
   "id": "b565dbe6",
   "metadata": {},
   "outputs": [],
   "source": []
  }
 ],
 "metadata": {
  "kernelspec": {
   "display_name": "Python 3",
   "language": "python",
   "name": "python3"
  },
  "language_info": {
   "codemirror_mode": {
    "name": "ipython",
    "version": 3
   },
   "file_extension": ".py",
   "mimetype": "text/x-python",
   "name": "python",
   "nbconvert_exporter": "python",
   "pygments_lexer": "ipython3",
   "version": "3.9.5"
  }
 },
 "nbformat": 4,
 "nbformat_minor": 5
}
