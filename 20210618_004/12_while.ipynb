{
 "cells": [
  {
   "cell_type": "markdown",
   "id": "60d397e8",
   "metadata": {},
   "source": [
    "while은 조건이 참인동안 반복하고 조건이 거짓이 되는 순간 반복이 종료되고 while의 최초 진입 조건이 거짓이면 한 번도 반복을 실행하지 않는다.  \n",
    "for는 반복 횟수를 알고있는 경우 사용하며 while은 반복을 하기는 해야겠는데 반복 횟수를 모를 때 사용한다.\n",
    "***\n",
    "while 조건식:  \n",
    "&nbsp;&nbsp;&nbsp;&nbsp;조건이 참일 경우 실행할 문장  \n",
    "&nbsp;&nbsp;&nbsp;&nbsp;..."
   ]
  },
  {
   "cell_type": "code",
   "execution_count": 8,
   "id": "2519a1fd",
   "metadata": {},
   "outputs": [
    {
     "name": "stdout",
     "output_type": "stream",
     "text": [
      "55\n"
     ]
    }
   ],
   "source": [
    "# 1 ~ 10의 합계\n",
    "# 변수는 선언시 초기화를 시켜야 한다.\n",
    "i = 0     # 1 ~ 10까지 1씩 증가하는 변수\n",
    "total = 0 # 1 ~ 10까지의 합계를 기억할 변수\n",
    "while i < 10:\n",
    "    i += 1\n",
    "    total += i\n",
    "# ===== while i < 10\n",
    "print(total)"
   ]
  },
  {
   "cell_type": "code",
   "execution_count": 11,
   "id": "8d84eb02",
   "metadata": {},
   "outputs": [
    {
     "name": "stdout",
     "output_type": "stream",
     "text": [
      "55\n"
     ]
    }
   ],
   "source": [
    "i = 0\n",
    "total = 0\n",
    "# 의도적으로 무한루프를 발생시켰다면 반드시 무한루프를 탈출시키는 처리를 해야한다. => 반복 탈출시 break 명령을 사용한다.\n",
    "while True: # 의도한 무한루프\n",
    "    i += 1\n",
    "    total += i\n",
    "    if i == 10:\n",
    "        break\n",
    "# ===== while True\n",
    "print(total)"
   ]
  },
  {
   "cell_type": "code",
   "execution_count": 19,
   "id": "f9357955",
   "metadata": {},
   "outputs": [
    {
     "name": "stdout",
     "output_type": "stream",
     "text": [
      "1\n",
      "3\n",
      "5\n",
      "7\n",
      "9\n"
     ]
    }
   ],
   "source": [
    "# break 명령은 반복 범위의 남아있는 문장을 실행하지 않고 반복을 탈출하고 continue 명령은 반복 범위의 남아있는 문장을 실행하지\n",
    "# 않고 다음 반복을 실행한다.\n",
    "i = 0\n",
    "while i < 10:\n",
    "    i += 1\n",
    "    if i % 2 == 0:\n",
    "        continue\n",
    "    print(i)"
   ]
  },
  {
   "cell_type": "code",
   "execution_count": 32,
   "id": "b3f2d367",
   "metadata": {},
   "outputs": [
    {
     "name": "stdout",
     "output_type": "stream",
     "text": [
      "========================================\n",
      " 1.입력  2.보기  3.수정  4.삭제  5.종료 \n",
      "========================================\n",
      "원하는 메뉴를 입력하고 Enter키를 누르세요: 1\n",
      "입력 작업\n",
      "========================================\n",
      " 1.입력  2.보기  3.수정  4.삭제  5.종료 \n",
      "========================================\n",
      "원하는 메뉴를 입력하고 Enter키를 누르세요: 2\n",
      "보기 작업\n",
      "========================================\n",
      " 1.입력  2.보기  3.수정  4.삭제  5.종료 \n",
      "========================================\n",
      "원하는 메뉴를 입력하고 Enter키를 누르세요: 3\n",
      "수정 작업\n",
      "========================================\n",
      " 1.입력  2.보기  3.수정  4.삭제  5.종료 \n",
      "========================================\n",
      "원하는 메뉴를 입력하고 Enter키를 누르세요: 4\n",
      "삭제 작업\n",
      "========================================\n",
      " 1.입력  2.보기  3.수정  4.삭제  5.종료 \n",
      "========================================\n",
      "원하는 메뉴를 입력하고 Enter키를 누르세요: 5\n",
      "프로그램을 종료합니다. 바이바이~~~~~\n"
     ]
    }
   ],
   "source": [
    "menu = 0\n",
    "while menu != 5:\n",
    "    while True:\n",
    "        print('=' * 40)\n",
    "        print(' 1.입력  2.보기  3.수정  4.삭제  5.종료 ')\n",
    "        print('=' * 40)\n",
    "        menu = int(input('원하는 메뉴를 입력하고 Enter키를 누르세요: '))\n",
    "\n",
    "        # 메뉴가 1 ~ 5 사이의 값이 입력되었다면 무한루프를 탈출시킨다.\n",
    "        # if menu >= 1 and menu <= 5:\n",
    "        if menu in [1, 2, 3, 4, 5]:\n",
    "            break # 무한 루프를 탈출한다.\n",
    "        else:\n",
    "            print('메뉴는 1 ~ 5 사이의 값만 입력해야 합니다.')\n",
    "    # ===== while True     \n",
    "\n",
    "    # 여기까지 넘어왔으면 menu에는 1 ~ 5 사이의 정수가 입력된것이다.\n",
    "    if menu == 1:\n",
    "        print('입력 작업')\n",
    "    elif menu == 2:\n",
    "        print('보기 작업')\n",
    "    elif menu == 3:\n",
    "        print('수정 작업')\n",
    "    elif menu == 4:\n",
    "        print('삭제 작업')\n",
    "# ===== while menu != 5\n",
    "print('프로그램을 종료합니다. 바이바이~~~~~')"
   ]
  },
  {
   "cell_type": "code",
   "execution_count": null,
   "id": "ac73dcaa",
   "metadata": {},
   "outputs": [],
   "source": []
  },
  {
   "cell_type": "code",
   "execution_count": null,
   "id": "b7f68fe8",
   "metadata": {},
   "outputs": [],
   "source": []
  },
  {
   "cell_type": "code",
   "execution_count": null,
   "id": "3a52605d",
   "metadata": {},
   "outputs": [],
   "source": []
  },
  {
   "cell_type": "code",
   "execution_count": null,
   "id": "2d331d18",
   "metadata": {},
   "outputs": [],
   "source": []
  },
  {
   "cell_type": "code",
   "execution_count": null,
   "id": "d9e90d05",
   "metadata": {},
   "outputs": [],
   "source": []
  },
  {
   "cell_type": "code",
   "execution_count": null,
   "id": "71d728cd",
   "metadata": {},
   "outputs": [],
   "source": []
  },
  {
   "cell_type": "code",
   "execution_count": null,
   "id": "bfa58eca",
   "metadata": {},
   "outputs": [],
   "source": []
  },
  {
   "cell_type": "code",
   "execution_count": null,
   "id": "dadd48a5",
   "metadata": {},
   "outputs": [],
   "source": []
  },
  {
   "cell_type": "code",
   "execution_count": null,
   "id": "ad8104eb",
   "metadata": {},
   "outputs": [],
   "source": []
  },
  {
   "cell_type": "code",
   "execution_count": null,
   "id": "5b980047",
   "metadata": {},
   "outputs": [],
   "source": []
  }
 ],
 "metadata": {
  "kernelspec": {
   "display_name": "Python 3",
   "language": "python",
   "name": "python3"
  },
  "language_info": {
   "codemirror_mode": {
    "name": "ipython",
    "version": 3
   },
   "file_extension": ".py",
   "mimetype": "text/x-python",
   "name": "python",
   "nbconvert_exporter": "python",
   "pygments_lexer": "ipython3",
   "version": "3.9.5"
  }
 },
 "nbformat": 4,
 "nbformat_minor": 5
}
