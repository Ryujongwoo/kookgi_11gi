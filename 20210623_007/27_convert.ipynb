{
 "cells": [
  {
   "cell_type": "code",
   "execution_count": 3,
   "id": "1c331792",
   "metadata": {},
   "outputs": [
    {
     "data": {
      "image/png": "[encoded data removed]",
      "text/plain": [
       "<IPython.core.display.Image object>"
      ]
     },
     "execution_count": 3,
     "metadata": {
      "image/png": {
       "width": "800"
      }
     },
     "output_type": "execute_result"
    }
   ],
   "source": [
    "from IPython.display import Image\n",
    "Image('./convert.png', width='800')"
   ]
  },
  {
   "cell_type": "code",
   "execution_count": 8,
   "id": "a0f80404",
   "metadata": {},
   "outputs": [
    {
     "name": "stdout",
     "output_type": "stream",
     "text": [
      "10진수를 입력하세요: 26\n",
      "11010\n",
      "[1, 1, 0, 1, 0]\n"
     ]
    }
   ],
   "source": [
    "# 진법 변환 => 10진수를 2진수로\n",
    "dec = int(input('10진수를 입력하세요: '))\n",
    "convert = [] # 10진수가 2진수로 변환된 결과를 저장할 빈 리스트를 선언한다.\n",
    "# 입력되는 10진수의 크기에 따라 반복 횟수가 변경되므로 무한루프를 돌려서 처리한다.\n",
    "while True:\n",
    "    m = dec // 2\n",
    "    r = dec % 2\n",
    "    convert.append(r)\n",
    "    # 몫이 0이되면 진법 변환이 완료된 것이므로 무한루프를 탈출한다.\n",
    "    if m == 0:\n",
    "        break\n",
    "    # 다음 계산을 위해서 dec의 값을 몫으로 변경한다.\n",
    "    dec = m\n",
    "# ===== while True\n",
    "for i in range(len(convert) - 1, -1, -1):\n",
    "    print(convert[i], end='')\n",
    "print()\n",
    "# convert.reverse()\n",
    "# print(convert)\n",
    "print(convert[::-1])"
   ]
  },
  {
   "cell_type": "code",
   "execution_count": 10,
   "id": "1c726767",
   "metadata": {},
   "outputs": [
    {
     "name": "stdout",
     "output_type": "stream",
     "text": [
      "10진수를 입력하세요: 26\n",
      "32"
     ]
    }
   ],
   "source": [
    "# 진법 변환 => 10진수를 8진수로\n",
    "dec = int(input('10진수를 입력하세요: '))\n",
    "convert = []\n",
    "while True:\n",
    "    m = dec // 8\n",
    "    r = dec % 8\n",
    "    convert.append(r)\n",
    "    if m == 0:\n",
    "        break\n",
    "    dec = m\n",
    "# ===== while True\n",
    "for i in range(len(convert) - 1, -1, -1):\n",
    "    print(convert[i], end='')"
   ]
  },
  {
   "cell_type": "code",
   "execution_count": 13,
   "id": "5ab2f48c",
   "metadata": {},
   "outputs": [
    {
     "name": "stdout",
     "output_type": "stream",
     "text": [
      "10진수를 입력하세요: 26\n",
      "1A"
     ]
    }
   ],
   "source": [
    "# 진법 변환 => 10진수를 16진수로\n",
    "dec = int(input('10진수를 입력하세요: '))\n",
    "# 16진수를 기억하는 리스트를 만든다.\n",
    "hex_16 = ['0', '1', '2', '3', '4', '5', '6', '7', '8', '9', 'A', 'B', 'C', 'D', 'E', 'F']\n",
    "convert = []\n",
    "while True:\n",
    "    m = dec // 16\n",
    "    r = dec % 16\n",
    "    convert.append(hex_16[r])\n",
    "    if m == 0:\n",
    "        break\n",
    "    dec = m\n",
    "# ===== while True\n",
    "for i in range(len(convert) - 1, -1, -1):\n",
    "    print(convert[i], end='')"
   ]
  },
  {
   "cell_type": "code",
   "execution_count": 23,
   "id": "870a7112",
   "metadata": {},
   "outputs": [
    {
     "name": "stdout",
     "output_type": "stream",
     "text": [
      "10진수와 변환할 진법을 입력하세요: 26 16\n",
      "1A"
     ]
    }
   ],
   "source": [
    "# 진법 변환 => 10진수를 n진수로\n",
    "dec, n = map(int, input('10진수와 변환할 진법을 입력하세요: ').split())\n",
    "# 16진수를 기억하는 리스트를 만든다.\n",
    "convert = []\n",
    "while True:\n",
    "    m = dec // n\n",
    "    r = dec % n\n",
    "    convert.append(r)\n",
    "    if m == 0:\n",
    "        break\n",
    "    dec = m\n",
    "# ===== while True\n",
    "for i in range(len(convert) - 1, -1, -1):\n",
    "    # chr() 함수는 인수롤 지정된 아스키 코드에 해당되는 문자를 리턴한다.\n",
    "    print(convert[i] if convert[i] < 10 else chr(convert[i] + 55), end='')"
   ]
  },
  {
   "cell_type": "code",
   "execution_count": null,
   "id": "42e4d769",
   "metadata": {},
   "outputs": [],
   "source": []
  },
  {
   "cell_type": "code",
   "execution_count": null,
   "id": "3f60c08a",
   "metadata": {},
   "outputs": [],
   "source": []
  },
  {
   "cell_type": "code",
   "execution_count": null,
   "id": "e03e8139",
   "metadata": {},
   "outputs": [],
   "source": []
  },
  {
   "cell_type": "code",
   "execution_count": null,
   "id": "bb9b57ba",
   "metadata": {},
   "outputs": [],
   "source": []
  },
  {
   "cell_type": "code",
   "execution_count": null,
   "id": "dc4f2e47",
   "metadata": {},
   "outputs": [],
   "source": []
  },
  {
   "cell_type": "code",
   "execution_count": null,
   "id": "7daf59a2",
   "metadata": {},
   "outputs": [],
   "source": []
  }
 ],
 "metadata": {
  "kernelspec": {
   "display_name": "Python 3",
   "language": "python",
   "name": "python3"
  },
  "language_info": {
   "codemirror_mode": {
    "name": "ipython",
    "version": 3
   },
   "file_extension": ".py",
   "mimetype": "text/x-python",
   "name": "python",
   "nbconvert_exporter": "python",
   "pygments_lexer": "ipython3",
   "version": "3.9.5"
  }
 },
 "nbformat": 4,
 "nbformat_minor": 5
}
