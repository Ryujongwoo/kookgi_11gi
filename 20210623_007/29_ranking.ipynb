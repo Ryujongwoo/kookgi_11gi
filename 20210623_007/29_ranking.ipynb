{
 "cells": [
  {
   "cell_type": "markdown",
   "id": "f0d73def",
   "metadata": {},
   "source": [
    "석차 계산"
   ]
  },
  {
   "cell_type": "code",
   "execution_count": 6,
   "id": "7b69183d",
   "metadata": {},
   "outputs": [
    {
     "name": "stdout",
     "output_type": "stream",
     "text": [
      " 70점은 5등 입니다. ★★★★★★★\n",
      "100점은 1등 입니다. ★★★★★★★★★★\n",
      " 80점은 4등 입니다. ★★★★★★★★\n",
      "100점은 1등 입니다. ★★★★★★★★★★\n",
      " 90점은 3등 입니다. ★★★★★★★★★\n"
     ]
    }
   ],
   "source": [
    "score = [70, 100, 80, 100, 90]\n",
    "# 석차를 기억할 리스트를 만든다. => 석차를 기억할 기억장소의 초기치는 무조건 1로 지정한다.\n",
    "rank = [1 for i in range(len(score))]\n",
    "# print(rank)\n",
    "\n",
    "for i in range(len(score)):\n",
    "    for j in range(len(score)):\n",
    "        # print('[i = {}, j = {}]'.format(i, j), end=' ')\n",
    "        if score[i] < score[j]:\n",
    "            rank[i] += 1\n",
    "        # ===== if score[i] < score[j]\n",
    "    # print()\n",
    "    # ===== for j in range(len(score))\n",
    "# ===== for i in range(len(score))\n",
    "\n",
    "for i in range(len(score)):\n",
    "    print('{0:3d}점은 {1}등 입니다.'.format(score[i], rank[i]), end=' ')\n",
    "    for j in range(score[i] // 10):\n",
    "        print('★', end='')\n",
    "    print()"
   ]
  },
  {
   "cell_type": "code",
   "execution_count": null,
   "id": "06252336",
   "metadata": {},
   "outputs": [],
   "source": []
  },
  {
   "cell_type": "code",
   "execution_count": null,
   "id": "f1a92533",
   "metadata": {},
   "outputs": [],
   "source": []
  },
  {
   "cell_type": "code",
   "execution_count": null,
   "id": "128e12ba",
   "metadata": {},
   "outputs": [],
   "source": []
  },
  {
   "cell_type": "code",
   "execution_count": null,
   "id": "2a2b8dec",
   "metadata": {},
   "outputs": [],
   "source": []
  }
 ],
 "metadata": {
  "kernelspec": {
   "display_name": "Python 3",
   "language": "python",
   "name": "python3"
  },
  "language_info": {
   "codemirror_mode": {
    "name": "ipython",
    "version": 3
   },
   "file_extension": ".py",
   "mimetype": "text/x-python",
   "name": "python",
   "nbconvert_exporter": "python",
   "pygments_lexer": "ipython3",
   "version": "3.9.5"
  }
 },
 "nbformat": 4,
 "nbformat_minor": 5
}
