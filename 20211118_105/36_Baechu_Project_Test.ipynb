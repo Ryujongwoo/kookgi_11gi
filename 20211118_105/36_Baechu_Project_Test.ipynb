{
 "cells": [
  {
   "cell_type": "code",
   "execution_count": 1,
   "id": "94bccce6",
   "metadata": {},
   "outputs": [
    {
     "name": "stdout",
     "output_type": "stream",
     "text": [
      "WARNING:tensorflow:From c:\\python\\lib\\site-packages\\tensorflow\\python\\compat\\v2_compat.py:101: disable_resource_variables (from tensorflow.python.ops.variable_scope) is deprecated and will be removed in a future version.\n",
      "Instructions for updating:\n",
      "non-resource variables are not supported in the long term\n"
     ]
    }
   ],
   "source": [
    "import warnings\n",
    "warnings.filterwarnings('ignore')\n",
    "import numpy as np\n",
    "import pandas as pd\n",
    "import tensorflow.compat.v1 as tf\n",
    "tf.disable_v2_behavior()"
   ]
  },
  {
   "cell_type": "code",
   "execution_count": 2,
   "id": "aa7a7978",
   "metadata": {},
   "outputs": [],
   "source": [
    "X = tf.placeholder(dtype=tf.float32, shape=[None, 4])\n",
    "# Y = tf.placeholder(dtype=tf.float32, shape=[None, 1])\n",
    "a = tf.Variable(tf.random_uniform([4, 1]), dtype=tf.float32)\n",
    "b = tf.Variable(tf.random_uniform([1]), dtype=tf.float32)\n",
    "y = tf.matmul(X, a) + b"
   ]
  },
  {
   "cell_type": "code",
   "execution_count": 5,
   "id": "7aae9269",
   "metadata": {},
   "outputs": [
    {
     "name": "stdout",
     "output_type": "stream",
     "text": [
      "평균 온도: 5\n",
      "최저 온도: -3\n",
      "최고 온도: 10\n",
      "강수량: 10\n"
     ]
    }
   ],
   "source": [
    "# 배추 가격을 결정하는 4가지 변화 요인을 입력받는다.\n",
    "# input() 함수는 무조건 문자열로 입력을 받기 때문에 입력받은 후 int()나 float() 함수를 사용해서 숫자로 변환해 사용한다.\n",
    "avgTemp = float(input('평균 온도: '))\n",
    "minTemp = float(input('최저 온도: '))\n",
    "maxTemp = float(input('최고 온도: '))\n",
    "rainFall = float(input('강수량: '))"
   ]
  },
  {
   "cell_type": "code",
   "execution_count": 11,
   "id": "233fb612",
   "metadata": {},
   "outputs": [
    {
     "name": "stdout",
     "output_type": "stream",
     "text": [
      "INFO:tensorflow:Restoring parameters from ./model/saved.cpkt\n",
      "평균 온도: 5.0, 최저 온도: -3.0, 최고 온도: 10.0, 강수량: 10.0일 때 배추 가격은 2,972.2원 입니다.\n"
     ]
    }
   ],
   "source": [
    "sess = tf.Session()\n",
    "sess.run(tf.global_variables_initializer())\n",
    "\n",
    "# 저장된 학습 모델을 불러와 적용한다.\n",
    "saver = tf.train.Saver()\n",
    "# save() 함수로 저장시킨 학습 모델은 restore() 함수를 사용해서 세션으로 불러올 수 있다.\n",
    "saver.restore(sess, './model/saved.cpkt')\n",
    "\n",
    "# 키보드로 입력받은 데이터를 불러온 학습 모델에서 사용하기 위해 2차원 리스트를 만든다.\n",
    "data = [[avgTemp, minTemp, maxTemp, rainFall]]\n",
    "\n",
    "# 불러온 학습 모델을 키보드로 입력한 데이터를 적용시켜 입력된 데이터에 따른 배추 가격을 예측한다.\n",
    "result = sess.run(y, feed_dict={X: data})\n",
    "print('평균 온도: {0:.1f}, 최저 온도: {1:.1f}, 최고 온도: {2:.1f}, 강수량: {3:.1f}일 때 배추 가격은 {4:7,.1f}원 입니다.'\n",
    "      .format(avgTemp, minTemp, maxTemp, rainFall, result[0][0]))"
   ]
  },
  {
   "cell_type": "code",
   "execution_count": null,
   "id": "82c9ecb6",
   "metadata": {},
   "outputs": [],
   "source": []
  },
  {
   "cell_type": "code",
   "execution_count": null,
   "id": "770324f5",
   "metadata": {},
   "outputs": [],
   "source": []
  },
  {
   "cell_type": "code",
   "execution_count": null,
   "id": "43bd717a",
   "metadata": {},
   "outputs": [],
   "source": []
  },
  {
   "cell_type": "code",
   "execution_count": null,
   "id": "1528b0fd",
   "metadata": {},
   "outputs": [],
   "source": []
  }
 ],
 "metadata": {
  "kernelspec": {
   "display_name": "Python 3",
   "language": "python",
   "name": "python3"
  },
  "language_info": {
   "codemirror_mode": {
    "name": "ipython",
    "version": 3
   },
   "file_extension": ".py",
   "mimetype": "text/x-python",
   "name": "python",
   "nbconvert_exporter": "python",
   "pygments_lexer": "ipython3",
   "version": "3.6.8"
  }
 },
 "nbformat": 4,
 "nbformat_minor": 5
}
