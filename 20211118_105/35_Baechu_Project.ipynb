{
 "cells": [
  {
   "cell_type": "code",
   "execution_count": 1,
   "id": "049ab744",
   "metadata": {},
   "outputs": [
    {
     "name": "stdout",
     "output_type": "stream",
     "text": [
      "WARNING:tensorflow:From c:\\python\\lib\\site-packages\\tensorflow\\python\\compat\\v2_compat.py:101: disable_resource_variables (from tensorflow.python.ops.variable_scope) is deprecated and will be removed in a future version.\n",
      "Instructions for updating:\n",
      "non-resource variables are not supported in the long term\n"
     ]
    }
   ],
   "source": [
    "import warnings\n",
    "warnings.filterwarnings('ignore')\n",
    "import numpy as np\n",
    "import pandas as pd\n",
    "import tensorflow.compat.v1 as tf\n",
    "tf.disable_v2_behavior()"
   ]
  },
  {
   "cell_type": "markdown",
   "id": "54ae8608",
   "metadata": {},
   "source": [
    "날씨 정보(최저 기온, 평균 기온, 최고 기온, 강수량)와 배추 가격은 어떤 상관 관계가 있는지 예측하는 AI를 만든다.  \n",
    "최저 기온(minTemp), 평균 기온(avgTemp), 최고 기온(maxTemp), 강수량(rainFall)이 평균 배추 가격(avgPrice)에 영향을 미칠 경우 가격을 예측한다.\n",
    "***\n",
    "기상 정보: 기상자료개방포털(https://data.kma.go.kr) 가격 정보: 농산물유통정보(https://www.kamis.or.kr)"
   ]
  },
  {
   "cell_type": "code",
   "execution_count": 2,
   "id": "864a3717",
   "metadata": {},
   "outputs": [
    {
     "name": "stdout",
     "output_type": "stream",
     "text": [
      "<class 'pandas.core.frame.DataFrame'>\n"
     ]
    },
    {
     "data": {
      "text/html": [
       "<div>\n",
       "<style scoped>\n",
       "    .dataframe tbody tr th:only-of-type {\n",
       "        vertical-align: middle;\n",
       "    }\n",
       "\n",
       "    .dataframe tbody tr th {\n",
       "        vertical-align: top;\n",
       "    }\n",
       "\n",
       "    .dataframe thead th {\n",
       "        text-align: right;\n",
       "    }\n",
       "</style>\n",
       "<table border=\"1\" class=\"dataframe\">\n",
       "  <thead>\n",
       "    <tr style=\"text-align: right;\">\n",
       "      <th></th>\n",
       "      <th>year</th>\n",
       "      <th>avgTemp</th>\n",
       "      <th>minTemp</th>\n",
       "      <th>maxTemp</th>\n",
       "      <th>rainFall</th>\n",
       "      <th>avgPrice</th>\n",
       "    </tr>\n",
       "  </thead>\n",
       "  <tbody>\n",
       "    <tr>\n",
       "      <th>0</th>\n",
       "      <td>20100101</td>\n",
       "      <td>-4.9</td>\n",
       "      <td>-11.0</td>\n",
       "      <td>0.9</td>\n",
       "      <td>0.0</td>\n",
       "      <td>2123</td>\n",
       "    </tr>\n",
       "    <tr>\n",
       "      <th>1</th>\n",
       "      <td>20100102</td>\n",
       "      <td>-3.1</td>\n",
       "      <td>-5.5</td>\n",
       "      <td>5.5</td>\n",
       "      <td>0.8</td>\n",
       "      <td>2123</td>\n",
       "    </tr>\n",
       "    <tr>\n",
       "      <th>2</th>\n",
       "      <td>20100103</td>\n",
       "      <td>-2.9</td>\n",
       "      <td>-6.9</td>\n",
       "      <td>1.4</td>\n",
       "      <td>0.0</td>\n",
       "      <td>2123</td>\n",
       "    </tr>\n",
       "    <tr>\n",
       "      <th>3</th>\n",
       "      <td>20100104</td>\n",
       "      <td>-1.8</td>\n",
       "      <td>-5.1</td>\n",
       "      <td>2.2</td>\n",
       "      <td>5.9</td>\n",
       "      <td>2020</td>\n",
       "    </tr>\n",
       "    <tr>\n",
       "      <th>4</th>\n",
       "      <td>20100105</td>\n",
       "      <td>-5.2</td>\n",
       "      <td>-8.7</td>\n",
       "      <td>-1.8</td>\n",
       "      <td>0.7</td>\n",
       "      <td>2060</td>\n",
       "    </tr>\n",
       "    <tr>\n",
       "      <th>...</th>\n",
       "      <td>...</td>\n",
       "      <td>...</td>\n",
       "      <td>...</td>\n",
       "      <td>...</td>\n",
       "      <td>...</td>\n",
       "      <td>...</td>\n",
       "    </tr>\n",
       "    <tr>\n",
       "      <th>2917</th>\n",
       "      <td>20171227</td>\n",
       "      <td>-3.9</td>\n",
       "      <td>-8.0</td>\n",
       "      <td>0.7</td>\n",
       "      <td>0.0</td>\n",
       "      <td>2865</td>\n",
       "    </tr>\n",
       "    <tr>\n",
       "      <th>2918</th>\n",
       "      <td>20171228</td>\n",
       "      <td>-1.5</td>\n",
       "      <td>-6.9</td>\n",
       "      <td>3.7</td>\n",
       "      <td>0.0</td>\n",
       "      <td>2884</td>\n",
       "    </tr>\n",
       "    <tr>\n",
       "      <th>2919</th>\n",
       "      <td>20171229</td>\n",
       "      <td>2.9</td>\n",
       "      <td>-2.1</td>\n",
       "      <td>8.0</td>\n",
       "      <td>0.0</td>\n",
       "      <td>2901</td>\n",
       "    </tr>\n",
       "    <tr>\n",
       "      <th>2920</th>\n",
       "      <td>20171230</td>\n",
       "      <td>2.9</td>\n",
       "      <td>-1.6</td>\n",
       "      <td>7.1</td>\n",
       "      <td>0.6</td>\n",
       "      <td>2901</td>\n",
       "    </tr>\n",
       "    <tr>\n",
       "      <th>2921</th>\n",
       "      <td>20171231</td>\n",
       "      <td>2.1</td>\n",
       "      <td>-2.0</td>\n",
       "      <td>5.8</td>\n",
       "      <td>0.4</td>\n",
       "      <td>2901</td>\n",
       "    </tr>\n",
       "  </tbody>\n",
       "</table>\n",
       "<p>2922 rows × 6 columns</p>\n",
       "</div>"
      ],
      "text/plain": [
       "          year  avgTemp  minTemp  maxTemp  rainFall  avgPrice\n",
       "0     20100101     -4.9    -11.0      0.9       0.0      2123\n",
       "1     20100102     -3.1     -5.5      5.5       0.8      2123\n",
       "2     20100103     -2.9     -6.9      1.4       0.0      2123\n",
       "3     20100104     -1.8     -5.1      2.2       5.9      2020\n",
       "4     20100105     -5.2     -8.7     -1.8       0.7      2060\n",
       "...        ...      ...      ...      ...       ...       ...\n",
       "2917  20171227     -3.9     -8.0      0.7       0.0      2865\n",
       "2918  20171228     -1.5     -6.9      3.7       0.0      2884\n",
       "2919  20171229      2.9     -2.1      8.0       0.0      2901\n",
       "2920  20171230      2.9     -1.6      7.1       0.6      2901\n",
       "2921  20171231      2.1     -2.0      5.8       0.4      2901\n",
       "\n",
       "[2922 rows x 6 columns]"
      ]
     },
     "execution_count": 2,
     "metadata": {},
     "output_type": "execute_result"
    }
   ],
   "source": [
    "# price_data.csv 파일을 읽어 데이터프레임으로 저장한다.\n",
    "price_data = pd.read_csv('./data/price_data.csv')\n",
    "print(type(price_data))\n",
    "price_data"
   ]
  },
  {
   "cell_type": "code",
   "execution_count": 3,
   "id": "54c12a5f",
   "metadata": {},
   "outputs": [
    {
     "name": "stdout",
     "output_type": "stream",
     "text": [
      "<class 'numpy.ndarray'>\n"
     ]
    },
    {
     "data": {
      "text/plain": [
       "array([[ 2.0100100e+07, -4.9000001e+00, -1.1000000e+01,  8.9999998e-01,\n",
       "         0.0000000e+00,  2.1230000e+03],\n",
       "       [ 2.0100102e+07, -3.0999999e+00, -5.5000000e+00,  5.5000000e+00,\n",
       "         8.0000001e-01,  2.1230000e+03],\n",
       "       [ 2.0100104e+07, -2.9000001e+00, -6.9000001e+00,  1.4000000e+00,\n",
       "         0.0000000e+00,  2.1230000e+03],\n",
       "       ...,\n",
       "       [ 2.0171228e+07,  2.9000001e+00, -2.0999999e+00,  8.0000000e+00,\n",
       "         0.0000000e+00,  2.9010000e+03],\n",
       "       [ 2.0171230e+07,  2.9000001e+00, -1.6000000e+00,  7.0999999e+00,\n",
       "         6.0000002e-01,  2.9010000e+03],\n",
       "       [ 2.0171232e+07,  2.0999999e+00, -2.0000000e+00,  5.8000002e+00,\n",
       "         4.0000001e-01,  2.9010000e+03]], dtype=float32)"
      ]
     },
     "execution_count": 3,
     "metadata": {},
     "output_type": "execute_result"
    }
   ],
   "source": [
    "# 데이터프레임에 저장된 데이터를 텐서플로우에서 처리하기에 적합하도록 넘파이 배열 형태로 변환한다.\n",
    "data = np.array(price_data, dtype=np.float32)\n",
    "print(type(data))\n",
    "data"
   ]
  },
  {
   "cell_type": "code",
   "execution_count": 4,
   "id": "9b953cd0",
   "metadata": {},
   "outputs": [
    {
     "name": "stdout",
     "output_type": "stream",
     "text": [
      "<class 'numpy.ndarray'>\n",
      "2\n"
     ]
    },
    {
     "data": {
      "text/plain": [
       "array([[ -4.9, -11. ,   0.9,   0. ],\n",
       "       [ -3.1,  -5.5,   5.5,   0.8],\n",
       "       [ -2.9,  -6.9,   1.4,   0. ],\n",
       "       ...,\n",
       "       [  2.9,  -2.1,   8. ,   0. ],\n",
       "       [  2.9,  -1.6,   7.1,   0.6],\n",
       "       [  2.1,  -2. ,   5.8,   0.4]], dtype=float32)"
      ]
     },
     "execution_count": 4,
     "metadata": {},
     "output_type": "execute_result"
    }
   ],
   "source": [
    "# 넘파이 배열에서 변화 요인 데이터(평균 기온, 최저 기온, 최고 기온, 강수량)으로 사용할 데이터를 뽑아낸다.\n",
    "xData = data[:, 1:5]\n",
    "print(type(xData))\n",
    "print(xData.ndim)\n",
    "xData"
   ]
  },
  {
   "cell_type": "code",
   "execution_count": 5,
   "id": "826ad29c",
   "metadata": {},
   "outputs": [
    {
     "name": "stdout",
     "output_type": "stream",
     "text": [
      "<class 'numpy.ndarray'>\n",
      "2\n"
     ]
    },
    {
     "data": {
      "text/plain": [
       "array([[2123.],\n",
       "       [2123.],\n",
       "       [2123.],\n",
       "       ...,\n",
       "       [2901.],\n",
       "       [2901.],\n",
       "       [2901.]], dtype=float32)"
      ]
     },
     "execution_count": 5,
     "metadata": {},
     "output_type": "execute_result"
    }
   ],
   "source": [
    "# 넘파이 배열에서 결과(평균 가격)로 사용할 데이터를 뽑아낸다. => 변화 요인이 2차원이므로 결과도 2차원으로 뽑아내야 한다.\n",
    "# yData = data[:, 5] # 1차원 데이터로 뽑아낸다.\n",
    "# data[:, 5]를 사용해서 1차원으로 뽑아냈으면 reshape() 함수를 사용해서 2차원으로 변환시켜야 한다.\n",
    "# yData = yData.reshape(yData.shape[0], 1)\n",
    "# yData = data[:, 5:6] # 슬라이싱을 실행하면 2차원 데이터로 뽑아낸다.\n",
    "yData = data[:, [5]]\n",
    "print(type(yData))\n",
    "print(yData.ndim)\n",
    "yData"
   ]
  },
  {
   "cell_type": "code",
   "execution_count": 6,
   "id": "d5c6a9a1",
   "metadata": {},
   "outputs": [],
   "source": [
    "# 뽑아낸 데이터를 텐서플로우로 처리하기 위해서 placeholder를 만든다.\n",
    "X = tf.placeholder(dtype=tf.float32, shape=[None, 4]) # 변화 요인을 기억하는 placeholder\n",
    "Y = tf.placeholder(dtype=tf.float32, shape=[None, 1]) # 평균 가격(실제값)을 기억하는 placeholder"
   ]
  },
  {
   "cell_type": "code",
   "execution_count": 7,
   "id": "110a2dfa",
   "metadata": {},
   "outputs": [
    {
     "name": "stdout",
     "output_type": "stream",
     "text": [
      "a = [[0.8594668 ]\n",
      " [0.6775793 ]\n",
      " [0.06021261]\n",
      " [0.29406905]], b = [0.16309845]\n"
     ]
    }
   ],
   "source": [
    "# 다변인 선형 회귀 모델의 기울기와 y절편을 임의의 값으로 초기화 한다.\n",
    "a = tf.Variable(tf.random_uniform([4, 1]), dtype=tf.float32) # 기울기, 4행 1열의 난수를 발생시킨다.\n",
    "b = tf.Variable(tf.random_uniform([1]), dtype=tf.float32)    # y절편\n",
    "sess = tf.Session()\n",
    "sess.run(tf.global_variables_initializer())\n",
    "print('a = {}, b = {}'.format(sess.run(a), sess.run(b)))"
   ]
  },
  {
   "cell_type": "code",
   "execution_count": 8,
   "id": "8be23f3b",
   "metadata": {},
   "outputs": [],
   "source": [
    "# 행렬의 적(곱셈) 연산을 이용해서 다변인 선형 회귀 모델의 가설 식을 세운다. => 예측값을 계산하는 식\n",
    "y = tf.matmul(X, a) + b # 예측값\n",
    "# 오차 함수를 만든다. => 예측값(y)과 실제값(Y)의 편차의 제곱에 대한 평균 => 평균 제곱법\n",
    "loss = tf.reduce_mean(tf.square(y - Y))\n",
    "# 경사 하강법 알고리즘을 사용해서 오차 함수의 결과를 최소로 하는 값을 찾는다.\n",
    "gradient_descent = tf.train.GradientDescentOptimizer(0.001).minimize(loss)"
   ]
  },
  {
   "cell_type": "code",
   "execution_count": 9,
   "id": "42fdaa38",
   "metadata": {},
   "outputs": [
    {
     "name": "stdout",
     "output_type": "stream",
     "text": [
      "Epoch:      0, loss: 12414797.000, y:   -10.09\n",
      "Epoch:   5000, loss:  1965990.250, y:  2649.72\n",
      "Epoch:  10000, loss:  1873650.875, y:  2720.09\n",
      "Epoch:  15000, loss:  1842603.750, y:  2771.74\n",
      "Epoch:  20000, loss:  1831589.375, y:  2805.97\n",
      "Epoch:  25000, loss:  1827613.625, y:  2827.65\n",
      "Epoch:  30000, loss:  1826169.250, y:  2841.07\n",
      "Epoch:  35000, loss:  1825644.125, y:  2849.28\n",
      "Epoch:  40000, loss:  1825453.250, y:  2854.27\n",
      "Epoch:  45000, loss:  1825383.750, y:  2857.29\n",
      "Epoch:  50000, loss:  1825358.125, y:  2859.12\n",
      "Epoch:  55000, loss:  1825349.000, y:  2860.22\n",
      "Epoch:  60000, loss:  1825345.875, y:  2860.89\n",
      "Epoch:  65000, loss:  1825344.875, y:  2861.29\n",
      "Epoch:  70000, loss:  1825344.250, y:  2861.52\n",
      "Epoch:  75000, loss:  1825344.000, y:  2861.69\n",
      "Epoch:  80000, loss:  1825343.750, y:  2861.73\n",
      "Epoch:  85000, loss:  1825343.750, y:  2861.74\n",
      "Epoch:  90000, loss:  1825344.000, y:  2861.74\n",
      "Epoch:  95000, loss:  1825344.000, y:  2861.74\n",
      "Epoch: 100000, loss:  1825344.000, y:  2861.74\n"
     ]
    }
   ],
   "source": [
    "# 학습 시킨다.\n",
    "sess = tf.Session()\n",
    "sess.run(tf.global_variables_initializer())\n",
    "\n",
    "for i in range(100001):\n",
    "    loss_, y_, _ = sess.run([loss, y, gradient_descent], feed_dict={X: xData, Y: yData})\n",
    "    if i % 5000 == 0:\n",
    "        print('Epoch: %6d, loss: %12.3f, y: %8.2f' % (i, loss_, y_[0]))"
   ]
  },
  {
   "cell_type": "code",
   "execution_count": 10,
   "id": "8e99f8e2",
   "metadata": {},
   "outputs": [
    {
     "name": "stdout",
     "output_type": "stream",
     "text": [
      "학습된 모델을 저장했습니다.\n"
     ]
    }
   ],
   "source": [
    "# 학습이 완료되면 학습된 모델을 디스크에 저장한다.\n",
    "# Saver() 함수로 텐서플로우에서 학습된 모델을 디스크에 저장하거나 불러올때 사용할 객체를 생성한다.\n",
    "saver = tf.train.Saver()\n",
    "# save() 함수로 텐서플로우에서 학습된 모델을 디스크에 저장한다.\n",
    "saver.save(sess, './model/saved.cpkt')\n",
    "print('학습된 모델을 저장했습니다.')"
   ]
  },
  {
   "cell_type": "code",
   "execution_count": 11,
   "id": "bc817292",
   "metadata": {},
   "outputs": [
    {
     "data": {
      "image/png": "[encoded data removed]",
      "text/plain": [
       "<IPython.core.display.Image object>"
      ]
     },
     "execution_count": 11,
     "metadata": {
      "image/png": {
       "width": 900
      }
     },
     "output_type": "execute_result"
    }
   ],
   "source": [
    "from IPython.display import Image\n",
    "Image('./model/model.png', width=900)"
   ]
  },
  {
   "cell_type": "code",
   "execution_count": null,
   "id": "8f30d542",
   "metadata": {},
   "outputs": [],
   "source": []
  },
  {
   "cell_type": "code",
   "execution_count": null,
   "id": "44da9f81",
   "metadata": {},
   "outputs": [],
   "source": []
  },
  {
   "cell_type": "code",
   "execution_count": null,
   "id": "41ce0c91",
   "metadata": {},
   "outputs": [],
   "source": []
  }
 ],
 "metadata": {
  "kernelspec": {
   "display_name": "Python 3",
   "language": "python",
   "name": "python3"
  },
  "language_info": {
   "codemirror_mode": {
    "name": "ipython",
    "version": 3
   },
   "file_extension": ".py",
   "mimetype": "text/x-python",
   "name": "python",
   "nbconvert_exporter": "python",
   "pygments_lexer": "ipython3",
   "version": "3.6.8"
  }
 },
 "nbformat": 4,
 "nbformat_minor": 5
}
