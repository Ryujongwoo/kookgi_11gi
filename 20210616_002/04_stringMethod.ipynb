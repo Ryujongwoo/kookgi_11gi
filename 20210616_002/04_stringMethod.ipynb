{
 "cells": [
  {
   "cell_type": "code",
   "execution_count": 16,
   "id": "955b46bc",
   "metadata": {},
   "outputs": [
    {
     "name": "stdout",
     "output_type": "stream",
     "text": [
      "33\n",
      "!\n",
      "!\n",
      "!\n"
     ]
    }
   ],
   "source": [
    "string = 'We are the champions, My friends!'\n",
    "# len() 함수는 인수로 지정한 문자열을 구성하는 문자의 개수를 얻어온다.\n",
    "print(len(string)) # 33\n",
    "print(string[32])\n",
    "print(string[-1])\n",
    "print(string[len(string) - 1]) # 33 - 1"
   ]
  },
  {
   "cell_type": "code",
   "execution_count": 14,
   "id": "b23dda2a",
   "metadata": {},
   "outputs": [
    {
     "name": "stdout",
     "output_type": "stream",
     "text": [
      "4\n",
      "1\n",
      "0\n"
     ]
    }
   ],
   "source": [
    "string = 'We are the champions, My friends!'\n",
    "# count() 메소드는 인수로 지정된 문자열의 전체 출현 횟수를 얻어온다.\n",
    "# count() 메소드의 인수로 지정된 문자열이 특정 문자열에 포함되어있나 알아낼 수 있다.\n",
    "# 실행 결과가 0이면 불포함, 1이상이면 포함, 2이상이면 중복되서 포함\n",
    "print(string.count('e'))\n",
    "print(string.count('We'))\n",
    "print(string.count('we'))"
   ]
  },
  {
   "cell_type": "code",
   "execution_count": 17,
   "id": "870b93b2",
   "metadata": {},
   "outputs": [
    {
     "name": "stdout",
     "output_type": "stream",
     "text": [
      "1\n",
      "0\n"
     ]
    },
    {
     "ename": "ValueError",
     "evalue": "substring not found",
     "output_type": "error",
     "traceback": [
      "\u001b[1;31m---------------------------------------------------------------------------\u001b[0m",
      "\u001b[1;31mValueError\u001b[0m                                Traceback (most recent call last)",
      "\u001b[1;32m<ipython-input-17-163bd0e82e8c>\u001b[0m in \u001b[0;36m<module>\u001b[1;34m\u001b[0m\n\u001b[0;32m      3\u001b[0m \u001b[0mprint\u001b[0m\u001b[1;33m(\u001b[0m\u001b[0mstring\u001b[0m\u001b[1;33m.\u001b[0m\u001b[0mindex\u001b[0m\u001b[1;33m(\u001b[0m\u001b[1;34m'e'\u001b[0m\u001b[1;33m)\u001b[0m\u001b[1;33m)\u001b[0m\u001b[1;33m\u001b[0m\u001b[1;33m\u001b[0m\u001b[0m\n\u001b[0;32m      4\u001b[0m \u001b[0mprint\u001b[0m\u001b[1;33m(\u001b[0m\u001b[0mstring\u001b[0m\u001b[1;33m.\u001b[0m\u001b[0mindex\u001b[0m\u001b[1;33m(\u001b[0m\u001b[1;34m'We'\u001b[0m\u001b[1;33m)\u001b[0m\u001b[1;33m)\u001b[0m\u001b[1;33m\u001b[0m\u001b[1;33m\u001b[0m\u001b[0m\n\u001b[1;32m----> 5\u001b[1;33m \u001b[0mprint\u001b[0m\u001b[1;33m(\u001b[0m\u001b[0mstring\u001b[0m\u001b[1;33m.\u001b[0m\u001b[0mindex\u001b[0m\u001b[1;33m(\u001b[0m\u001b[1;34m'we'\u001b[0m\u001b[1;33m)\u001b[0m\u001b[1;33m)\u001b[0m\u001b[1;33m\u001b[0m\u001b[1;33m\u001b[0m\u001b[0m\n\u001b[0m",
      "\u001b[1;31mValueError\u001b[0m: substring not found"
     ]
    }
   ],
   "source": [
    "string = 'We are the champions, My friends!'\n",
    "# index() 메소드는 인수로 지정한 문자열이 최초로 나타나는 위치의 인덱스를 얻어온다.\n",
    "# index() 메소드는 인수로 지정한 문자열이 특정 문자열에 포함되어있나 알아낼 수 있다.\n",
    "# 0이상이면 포함, 에러가 발생되면 불포함\n",
    "print(string.index('e'))\n",
    "print(string.index('We'))\n",
    "print(string.index('we')) # 인수로 지정한 문자열이 없으면 에러가 발생된다."
   ]
  },
  {
   "cell_type": "code",
   "execution_count": 18,
   "id": "838192f5",
   "metadata": {},
   "outputs": [
    {
     "name": "stdout",
     "output_type": "stream",
     "text": [
      "1\n",
      "0\n",
      "-1\n"
     ]
    }
   ],
   "source": [
    "string = 'We are the champions, My friends!'\n",
    "# find() 메소드는 인수로 지정한 문자열이 최초로 나타나는 위치의 인덱스를 얻어온다.\n",
    "# find() 메소드는 인수로 지정한 문자열이 특정 문자열에 포함되어있나 알아낼 수 있다.\n",
    "# 0이상이면 포함, -1은 불포함\n",
    "print(string.find('e'))\n",
    "print(string.find('We'))\n",
    "print(string.find('we'))"
   ]
  },
  {
   "cell_type": "code",
   "execution_count": 22,
   "id": "bf866336",
   "metadata": {},
   "outputs": [
    {
     "name": "stdout",
     "output_type": "stream",
     "text": [
      "K/o/r/e/a/I/T\n",
      "K o r e a I T\n",
      "K\n",
      "o\n",
      "r\n",
      "e\n",
      "a\n",
      "I\n",
      "T\n",
      "K~(^^~)o~(^^~)r~(^^~)e~(^^~)a~(^^~)I~(^^~)T\n"
     ]
    }
   ],
   "source": [
    "string = 'KoreaIT'\n",
    "# join() 메소드는 인수로 지정된 문자열을 구성하는 문자 사이사이에 특정 문자열을 삽입한다.\n",
    "print('/'.join(string))\n",
    "print(' '.join(string))\n",
    "print('\\n'.join(string))\n",
    "print('~(^^~)'.join(string))"
   ]
  },
  {
   "cell_type": "code",
   "execution_count": 23,
   "id": "06a91f66",
   "metadata": {},
   "outputs": [
    {
     "name": "stdout",
     "output_type": "stream",
     "text": [
      "KOREAIT\n",
      "koreait\n"
     ]
    }
   ],
   "source": [
    "string = 'KoreaIT'\n",
    "# upper() 메소드는 문자열을 모두 대문자로 변환하고 lower() 메소드는 무조건 소문자로 변환한다.\n",
    "print(string.upper())\n",
    "print(string.lower())"
   ]
  },
  {
   "cell_type": "code",
   "execution_count": 29,
   "id": "f15fe260",
   "metadata": {},
   "outputs": [
    {
     "name": "stdout",
     "output_type": "stream",
     "text": [
      "    KoreaIT    \n",
      "15\n",
      "KoreaIT    \n",
      "11\n",
      "    KoreaIT\n",
      "11\n",
      "KoreaIT\n",
      "7\n"
     ]
    }
   ],
   "source": [
    "string = '    KoreaIT    '\n",
    "print(string)\n",
    "print(len(string))\n",
    "# lstrip() 메소드는 문자열 왼쪽(앞)의 불필요한 공백을 제거한다.\n",
    "print(string.lstrip())\n",
    "print(len(string.lstrip()))\n",
    "# rstrip() 메소드는 문자열 오른쪽(뒤)의 불필요한 공백을 제거한다.\n",
    "print(string.rstrip())\n",
    "print(len(string.rstrip()))\n",
    "# strip() 메소드는 문자열 앞, 뒤의 불필요한 공백을 제거한다.\n",
    "print(string.strip())\n",
    "print(len(string.strip()))"
   ]
  },
  {
   "cell_type": "code",
   "execution_count": 106,
   "id": "53fba1b3",
   "metadata": {},
   "outputs": [
    {
     "name": "stdout",
     "output_type": "stream",
     "text": [
      "example\n"
     ]
    }
   ],
   "source": [
    "# strip() 메소드의 새로운 발견 => strip() 메소드가 꼭 공백만 제거하는 것이 아니다.\n",
    "# strip() 메소드의 인수로 아무것도 지정하지 않으면 공백이 기본값으로 사용되지만 인수를 지정하면 인수로 지정된 \n",
    "# 문자를 제거한다.\n",
    "# 인수로 지정된 문자가 더 이상 양 끝에 나타나지 않을 때 까지 인수로 지정된 문자를 제거한다.\n",
    "# 인수를 입력한 순서와 제거하는 순서는 아무런 상관이 없다.\n",
    "print('www.example.com'.strip('w.com'))"
   ]
  },
  {
   "cell_type": "code",
   "execution_count": 113,
   "id": "9d1acb25",
   "metadata": {},
   "outputs": [
    {
     "name": "stdout",
     "output_type": "stream",
     "text": [
      "We are the champions, Your friends!\n",
      "W^^; ar^^; th^^; champions, My fri^^;nds!\n"
     ]
    }
   ],
   "source": [
    "string = 'We are the champions, My friends!'\n",
    "# replace(oldString, newString) 메소드는 문자열의 모든 oldString을 newString으로 치환한다.\n",
    "print(string.replace('My', 'Your'))\n",
    "print(string.replace('e', '^^;'))"
   ]
  },
  {
   "cell_type": "code",
   "execution_count": 117,
   "id": "1317eaba",
   "metadata": {},
   "outputs": [
    {
     "name": "stdout",
     "output_type": "stream",
     "text": [
      "주민등록번호: 830422-1185600\n",
      "830422-1******\n"
     ]
    }
   ],
   "source": [
    "# 주민등록번호를 입력받아 성별 뒤의 모든 문자를 '*'이 출력되게 한다.\n",
    "# 830422-1185600 => 830422-1******\n",
    "jumin = input('주민등록번호: ')\n",
    "print(jumin[:8] + '*' * 6)"
   ]
  },
  {
   "cell_type": "code",
   "execution_count": 125,
   "id": "31b5e97c",
   "metadata": {},
   "outputs": [
    {
     "name": "stdout",
     "output_type": "stream",
     "text": [
      "코드: 1-234567-8\n",
      "<class 'list'>\n",
      "['1', '******', '8']\n",
      "1-******-8\n"
     ]
    }
   ],
   "source": [
    "# 코드를 입력받아서 '-'와 '-' 사이의 모든 문자의 개수만큼 '*'이 출력되게 한다.\n",
    "# 1234-****-7890\n",
    "# 12-***-56789\n",
    "# 123456-*-1245 1-234567-8\n",
    "code = input('코드: ')\n",
    "code = code.split('-')\n",
    "code[1] = '*' * len(code[1])\n",
    "print(code)\n",
    "print('-'.join(code))"
   ]
  },
  {
   "cell_type": "code",
   "execution_count": 140,
   "id": "6b03ec59",
   "metadata": {},
   "outputs": [
    {
     "name": "stdout",
     "output_type": "stream",
     "text": [
      "전화번호 :1234-5555-7890\n",
      "['1234', '5555', '7890']\n",
      "1234-****-7890\n",
      "1234-****-7890\n"
     ]
    }
   ],
   "source": [
    "a = input('전화번호 :').split('-')\n",
    "print(a)\n",
    "print(a[0] + '-' + a[1].replace(a[1], '*' * len(a[1])) + '-' + a[2])\n",
    "print(a[0] + '-' + '*' * len(a[1]) + '-' + a[2])"
   ]
  },
  {
   "cell_type": "code",
   "execution_count": 139,
   "id": "be82d022",
   "metadata": {},
   "outputs": [
    {
     "name": "stdout",
     "output_type": "stream",
     "text": [
      "코드: 1234-5555-7890\n",
      "1234-****-7890\n"
     ]
    }
   ],
   "source": [
    "# 1234-5555-7890\n",
    "code = input('코드: ')\n",
    "count = len(code)\n",
    "start = code[:code.find('-') + 1]\n",
    "# print(start)\n",
    "code = code[code.find('-') + 1:]\n",
    "# print(code)\n",
    "end = code[code.find('-'):]\n",
    "# print(end)\n",
    "print(start + '*' * (count - len(start) - len(end)) + end)"
   ]
  },
  {
   "cell_type": "code",
   "execution_count": 144,
   "id": "c60d4c6b",
   "metadata": {},
   "outputs": [
    {
     "name": "stdout",
     "output_type": "stream",
     "text": [
      "코드: 1234-5555444444444444444444444444444-7890\n",
      "1234-\n",
      "-7890\n",
      "1234-*******************************-7890\n"
     ]
    }
   ],
   "source": [
    "# index() 메소드와 find() 메소드는 앞에서부터 찾지만 rindex() 메소드와 rfind() 메소드는 뒤에서 부터 찾는다.\n",
    "code = input('코드: ')\n",
    "count = len(code)\n",
    "start = code[:code.index('-') + 1]\n",
    "# print(start)\n",
    "end = code[code.rindex('-'):]\n",
    "# print(end)\n",
    "print(start + '*' * (count - len(start) - len(end)) + end)"
   ]
  },
  {
   "cell_type": "markdown",
   "id": "821cbd2f",
   "metadata": {},
   "source": [
    "파이썬 공백 처리 방법"
   ]
  },
  {
   "cell_type": "code",
   "execution_count": 146,
   "id": "9fbfa19a",
   "metadata": {},
   "outputs": [
    {
     "name": "stdout",
     "output_type": "stream",
     "text": [
      "                       hello                           world            \n",
      "hello                           world\n"
     ]
    }
   ],
   "source": [
    "string = '                       hello                           world            '\n",
    "print(string)\n",
    "print(string.strip())"
   ]
  },
  {
   "cell_type": "code",
   "execution_count": 147,
   "id": "d722de3b",
   "metadata": {},
   "outputs": [
    {
     "name": "stdout",
     "output_type": "stream",
     "text": [
      "helloworld\n"
     ]
    }
   ],
   "source": [
    "# replace() 메소드를 사용해서 모든 공백을 제거한다.\n",
    "print(string.replace(' ', ''))"
   ]
  },
  {
   "cell_type": "code",
   "execution_count": 149,
   "id": "694800e9",
   "metadata": {},
   "outputs": [
    {
     "name": "stdout",
     "output_type": "stream",
     "text": [
      "['hello', 'world']\n",
      "hello world\n"
     ]
    }
   ],
   "source": [
    "# join(), split() 메소드를 사용해서 문자열 앞, 뒤의 모든 빈 칸을 제거하고 문자열 사이에 2칸 이상 띄어쓰기를\n",
    "# 한 곳은 1칸만 띄어쓰기가 되게한다.\n",
    "print(string.split())\n",
    "print(' '.join(string.split()))"
   ]
  },
  {
   "cell_type": "code",
   "execution_count": null,
   "id": "b98a1c61",
   "metadata": {},
   "outputs": [],
   "source": []
  },
  {
   "cell_type": "code",
   "execution_count": null,
   "id": "ae7c090c",
   "metadata": {},
   "outputs": [],
   "source": []
  },
  {
   "cell_type": "code",
   "execution_count": null,
   "id": "031b9dfd",
   "metadata": {},
   "outputs": [],
   "source": []
  },
  {
   "cell_type": "code",
   "execution_count": null,
   "id": "42c3bee5",
   "metadata": {},
   "outputs": [],
   "source": []
  },
  {
   "cell_type": "code",
   "execution_count": null,
   "id": "c20045cc",
   "metadata": {},
   "outputs": [],
   "source": []
  }
 ],
 "metadata": {
  "kernelspec": {
   "display_name": "Python 3",
   "language": "python",
   "name": "python3"
  },
  "language_info": {
   "codemirror_mode": {
    "name": "ipython",
    "version": 3
   },
   "file_extension": ".py",
   "mimetype": "text/x-python",
   "name": "python",
   "nbconvert_exporter": "python",
   "pygments_lexer": "ipython3",
   "version": "3.9.5"
  }
 },
 "nbformat": 4,
 "nbformat_minor": 5
}
