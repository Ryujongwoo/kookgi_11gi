{
 "cells": [
  {
   "cell_type": "code",
   "execution_count": 1,
   "id": "2c155b22",
   "metadata": {},
   "outputs": [],
   "source": [
    "# 디폴트 인수를 사용하는 함수로 가변 인자를 가지는 함수를 흉내낼 수 있지만 인수의 개수가 많아지면 비효율적이다.\n",
    "def func6(a = 0, b = 0, c = 0, d = 0, e = 0, f = 0, g = 0):\n",
    "    print('{}'.format(a + b + c + d + e + f + g))"
   ]
  },
  {
   "cell_type": "code",
   "execution_count": 7,
   "id": "be1cb389",
   "metadata": {},
   "outputs": [
    {
     "name": "stdout",
     "output_type": "stream",
     "text": [
      "0\n",
      "1\n",
      "3\n",
      "6\n",
      "10\n",
      "15\n",
      "21\n",
      "28\n"
     ]
    },
    {
     "ename": "TypeError",
     "evalue": "func6() takes from 0 to 7 positional arguments but 8 were given",
     "output_type": "error",
     "traceback": [
      "\u001b[1;31m---------------------------------------------------------------------------\u001b[0m",
      "\u001b[1;31mTypeError\u001b[0m                                 Traceback (most recent call last)",
      "\u001b[1;32m<ipython-input-7-2dc681abefb4>\u001b[0m in \u001b[0;36m<module>\u001b[1;34m\u001b[0m\n\u001b[0;32m      7\u001b[0m \u001b[0mfunc6\u001b[0m\u001b[1;33m(\u001b[0m\u001b[1;36m1\u001b[0m\u001b[1;33m,\u001b[0m \u001b[1;36m2\u001b[0m\u001b[1;33m,\u001b[0m \u001b[1;36m3\u001b[0m\u001b[1;33m,\u001b[0m \u001b[1;36m4\u001b[0m\u001b[1;33m,\u001b[0m \u001b[1;36m5\u001b[0m\u001b[1;33m,\u001b[0m \u001b[1;36m6\u001b[0m\u001b[1;33m)\u001b[0m\u001b[1;33m\u001b[0m\u001b[1;33m\u001b[0m\u001b[0m\n\u001b[0;32m      8\u001b[0m \u001b[0mfunc6\u001b[0m\u001b[1;33m(\u001b[0m\u001b[1;36m1\u001b[0m\u001b[1;33m,\u001b[0m \u001b[1;36m2\u001b[0m\u001b[1;33m,\u001b[0m \u001b[1;36m3\u001b[0m\u001b[1;33m,\u001b[0m \u001b[1;36m4\u001b[0m\u001b[1;33m,\u001b[0m \u001b[1;36m5\u001b[0m\u001b[1;33m,\u001b[0m \u001b[1;36m6\u001b[0m\u001b[1;33m,\u001b[0m \u001b[1;36m7\u001b[0m\u001b[1;33m)\u001b[0m\u001b[1;33m\u001b[0m\u001b[1;33m\u001b[0m\u001b[0m\n\u001b[1;32m----> 9\u001b[1;33m \u001b[0mfunc6\u001b[0m\u001b[1;33m(\u001b[0m\u001b[1;36m1\u001b[0m\u001b[1;33m,\u001b[0m \u001b[1;36m2\u001b[0m\u001b[1;33m,\u001b[0m \u001b[1;36m3\u001b[0m\u001b[1;33m,\u001b[0m \u001b[1;36m4\u001b[0m\u001b[1;33m,\u001b[0m \u001b[1;36m5\u001b[0m\u001b[1;33m,\u001b[0m \u001b[1;36m6\u001b[0m\u001b[1;33m,\u001b[0m \u001b[1;36m7\u001b[0m\u001b[1;33m,\u001b[0m \u001b[1;36m8\u001b[0m\u001b[1;33m)\u001b[0m\u001b[1;33m\u001b[0m\u001b[1;33m\u001b[0m\u001b[0m\n\u001b[0m",
      "\u001b[1;31mTypeError\u001b[0m: func6() takes from 0 to 7 positional arguments but 8 were given"
     ]
    }
   ],
   "source": [
    "func6()\n",
    "func6(1)\n",
    "func6(1, 2)\n",
    "func6(1, 2, 3)\n",
    "func6(1, 2, 3, 4)\n",
    "func6(1, 2, 3, 4, 5)\n",
    "func6(1, 2, 3, 4, 5, 6)\n",
    "func6(1, 2, 3, 4, 5, 6, 7)\n",
    "func6(1, 2, 3, 4, 5, 6, 7, 8)"
   ]
  },
  {
   "cell_type": "code",
   "execution_count": 37,
   "id": "5c4039e0",
   "metadata": {},
   "outputs": [],
   "source": [
    "# 가변 인자를 가지는 함수 => 가변 인자는 '*변수이름' 형태료 표현한다. => 가변 인자로 넘어오는 데이터는 튜플로 받는다.\n",
    "# 가변 인자를 사용하면 가변 인자에 할당할 메모리 크기를 모르기 때문에 가변 인자는 맨 마지막에 딱 1번만 나와야 한다.\n",
    "def func7(*args):\n",
    "    # print(type(args))\n",
    "    # print(args)\n",
    "    total = 0\n",
    "    for arg in args:\n",
    "        total += arg\n",
    "    print(total)"
   ]
  },
  {
   "cell_type": "code",
   "execution_count": 38,
   "id": "3317fb87",
   "metadata": {},
   "outputs": [
    {
     "name": "stdout",
     "output_type": "stream",
     "text": [
      "0\n",
      "1\n",
      "3\n",
      "6\n",
      "10\n",
      "15\n",
      "21\n",
      "28\n",
      "36\n",
      "120\n"
     ]
    }
   ],
   "source": [
    "func7()\n",
    "func7(1)\n",
    "func7(1, 2)\n",
    "func7(1, 2, 3)\n",
    "func7(1, 2, 3, 4)\n",
    "func7(1, 2, 3, 4, 5)\n",
    "func7(1, 2, 3, 4, 5, 6)\n",
    "func7(1, 2, 3, 4, 5, 6, 7)\n",
    "func7(1, 2, 3, 4, 5, 6, 7, 8)\n",
    "func7(1, 2, 3, 4, 5, 6, 7, 8, 9, 10, 11, 12, 13, 14, 15)"
   ]
  },
  {
   "cell_type": "code",
   "execution_count": null,
   "id": "23f5af1a",
   "metadata": {},
   "outputs": [],
   "source": []
  },
  {
   "cell_type": "code",
   "execution_count": null,
   "id": "82da160f",
   "metadata": {},
   "outputs": [],
   "source": []
  },
  {
   "cell_type": "code",
   "execution_count": null,
   "id": "da8b8f44",
   "metadata": {},
   "outputs": [],
   "source": []
  },
  {
   "cell_type": "code",
   "execution_count": null,
   "id": "e8f59283",
   "metadata": {},
   "outputs": [],
   "source": []
  },
  {
   "cell_type": "code",
   "execution_count": null,
   "id": "80e44105",
   "metadata": {},
   "outputs": [],
   "source": []
  }
 ],
 "metadata": {
  "kernelspec": {
   "display_name": "Python 3",
   "language": "python",
   "name": "python3"
  },
  "language_info": {
   "codemirror_mode": {
    "name": "ipython",
    "version": 3
   },
   "file_extension": ".py",
   "mimetype": "text/x-python",
   "name": "python",
   "nbconvert_exporter": "python",
   "pygments_lexer": "ipython3",
   "version": "3.9.5"
  }
 },
 "nbformat": 4,
 "nbformat_minor": 5
}
