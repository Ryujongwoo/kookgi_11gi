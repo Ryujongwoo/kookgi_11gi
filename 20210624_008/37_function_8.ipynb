{
 "cells": [
  {
   "cell_type": "code",
   "execution_count": 1,
   "id": "3918198c",
   "metadata": {},
   "outputs": [],
   "source": [
    "def func9(var1):\n",
    "    var1 += 1\n",
    "    print('func9() 함수 내부의 변수 var1: {}'.format(var1))"
   ]
  },
  {
   "cell_type": "code",
   "execution_count": 2,
   "id": "8100c9e8",
   "metadata": {},
   "outputs": [
    {
     "name": "stdout",
     "output_type": "stream",
     "text": [
      "func9() 함수 내부의 변수 var1: 2\n",
      "func9() 함수 외부의 변수 var1: 1\n"
     ]
    }
   ],
   "source": [
    "var1 = 1\n",
    "func9(var1)\n",
    "print('func9() 함수 외부의 변수 var1: {}'.format(var1))"
   ]
  },
  {
   "cell_type": "code",
   "execution_count": 9,
   "id": "21ebe846",
   "metadata": {},
   "outputs": [],
   "source": [
    "# global 예약어를 사용하면 함수 내부에서 함수 외부의 변수에 저장된 데이터를 변경할 수 있다. => 함수 내부에서 함수 외부의 변수를\n",
    "# 사용할 수 있다.\n",
    "def func10():\n",
    "    # global 변수로 사용할 변수는 함수의 인수로 선언하면 안된다. => 인수로 선언하면 함수 내부에서 선언한 변수가 된다.\n",
    "    # global로 선언된 변수는 함수 내부에서 데이터를 변경시키면 함수 외부에 선언된 변수에 저장된 데이터도 같이 변경된다.\n",
    "    # c언어의 call by reference 방식처럼 사용된다. => 부작용(side effect) 현상이 발생될 수 있으니 주의해서 사용해야 한다.\n",
    "    global var2 # 함수 외부에서 선언한 var2라는 변수를 함수 내부에서 사용할겠다고 선언한다.\n",
    "    var2 += 1\n",
    "    print('func10() 함수 내부의 변수 var2: {}'.format(var2))"
   ]
  },
  {
   "cell_type": "code",
   "execution_count": 10,
   "id": "d49a5ff2",
   "metadata": {},
   "outputs": [
    {
     "name": "stdout",
     "output_type": "stream",
     "text": [
      "func10() 함수 내부의 변수 var2: 1000\n",
      "func10() 함수 외부의 변수 var2: 1000\n"
     ]
    }
   ],
   "source": [
    "var2 = 999\n",
    "func10()\n",
    "print('func10() 함수 외부의 변수 var2: {}'.format(var2))"
   ]
  },
  {
   "cell_type": "code",
   "execution_count": null,
   "id": "2c4f4ae7",
   "metadata": {},
   "outputs": [],
   "source": []
  },
  {
   "cell_type": "code",
   "execution_count": null,
   "id": "9e7474ee",
   "metadata": {},
   "outputs": [],
   "source": []
  },
  {
   "cell_type": "code",
   "execution_count": null,
   "id": "8f285203",
   "metadata": {},
   "outputs": [],
   "source": []
  },
  {
   "cell_type": "code",
   "execution_count": null,
   "id": "cde7ea5a",
   "metadata": {},
   "outputs": [],
   "source": []
  },
  {
   "cell_type": "code",
   "execution_count": null,
   "id": "9d457046",
   "metadata": {},
   "outputs": [],
   "source": []
  }
 ],
 "metadata": {
  "kernelspec": {
   "display_name": "Python 3",
   "language": "python",
   "name": "python3"
  },
  "language_info": {
   "codemirror_mode": {
    "name": "ipython",
    "version": 3
   },
   "file_extension": ".py",
   "mimetype": "text/x-python",
   "name": "python",
   "nbconvert_exporter": "python",
   "pygments_lexer": "ipython3",
   "version": "3.9.5"
  }
 },
 "nbformat": 4,
 "nbformat_minor": 5
}
