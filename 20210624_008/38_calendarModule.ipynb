{
 "cells": [
  {
   "cell_type": "code",
   "execution_count": 4,
   "id": "56bd1577",
   "metadata": {},
   "outputs": [],
   "source": [
    "# 인수로 년을 넘겨받아 윤년, 평년을 판단해 윤년이면 True, 평년이면 False를 리턴하는 isLeapYear() 함수를 만든다.\n",
    "# 논리값을 기억하는 변수는 논리값을 리턴하는 함수는 이름을 'is'로 시작하는 것이 관행이다.\n",
    "def isLeapYear(year):\n",
    "    return year % 4 == 0 and year % 100 != 0 or year % 400 == 0"
   ]
  },
  {
   "cell_type": "code",
   "execution_count": 20,
   "id": "f792a97d",
   "metadata": {},
   "outputs": [],
   "source": [
    "# 인수로 년, 월을 넘겨받아 그 달의 마지막 날짜를 리턴하는 lastDay() 함수를 만든다.\n",
    "def lastDay(year, month):\n",
    "    # 각 달의 마지막 날짜를 기억하는 리스트를 만든다.\n",
    "    m = [31, 28, 31, 30, 31, 30, 31, 31, 30, 31, 30, 31]\n",
    "    # 인수로 넘겨받은 년도에 따른 2월의 마지막 날짜를 확정한다.\n",
    "    # if isLeapYear(year):\n",
    "        # m[1] = 29\n",
    "    m[1] = 29 if isLeapYear(year) else 28\n",
    "    # 마지막 날짜를 리턴시킨다.\n",
    "    return m[month - 1]"
   ]
  },
  {
   "cell_type": "code",
   "execution_count": 35,
   "id": "faff1742",
   "metadata": {},
   "outputs": [],
   "source": [
    "# 인수로 년, 월, 일을 넘겨받아 1년 1월 1일 부터 지난 날짜의 합계를 리턴하는 totalDay() 함수를 만든다.\n",
    "def totalDay(year, month, day):\n",
    "    # 인수로 넘어온 년도가 다 지나가지 않았으므로 1년 1월 1일 부터 전년도 12월 31일까지 지난 날짜를 계산한다.\n",
    "    total = (year - 1) * 365 + (year - 1) // 4 - (year - 1) // 100 + (year - 1) // 400\n",
    "    # 전년도 12월 31일까지 지난 날짜의 합계에 전달까지 지난 날짜를 더한다.\n",
    "    for i in range(1, month):\n",
    "        total += lastDay(year, i)\n",
    "    # 전달까지 지난 날짜의 합계에 일을 더해서 리턴시킨다.\n",
    "    return total + day"
   ]
  },
  {
   "cell_type": "code",
   "execution_count": 39,
   "id": "d7c1eb52",
   "metadata": {},
   "outputs": [],
   "source": [
    "# 일요일 => 0, 월요일 => 1, 화요일 => 2, 수요일 => 3, 목요일 => 4, 금요일 => 5, 토요일 => 6\n",
    "# 인수로 년, 월, 일을 넘겨받아 요일을 계산해서 숫자로 리턴하는 weekDay() 함수를 만든다.\n",
    "def weekDay(year, month, day):\n",
    "    return totalDay(year, month, day) % 7"
   ]
  },
  {
   "cell_type": "code",
   "execution_count": 40,
   "id": "99749291",
   "metadata": {},
   "outputs": [
    {
     "name": "stdout",
     "output_type": "stream",
     "text": [
      "False\n",
      "30\n",
      "737965\n",
      "4\n"
     ]
    }
   ],
   "source": [
    "print(isLeapYear(2021))\n",
    "print(lastDay(2021, 6))\n",
    "print(totalDay(2021, 6, 24))\n",
    "print(weekDay(2021, 6, 24))"
   ]
  },
  {
   "cell_type": "code",
   "execution_count": null,
   "id": "acd7155d",
   "metadata": {},
   "outputs": [],
   "source": []
  },
  {
   "cell_type": "code",
   "execution_count": null,
   "id": "ab544a88",
   "metadata": {},
   "outputs": [],
   "source": []
  }
 ],
 "metadata": {
  "kernelspec": {
   "display_name": "Python 3",
   "language": "python",
   "name": "python3"
  },
  "language_info": {
   "codemirror_mode": {
    "name": "ipython",
    "version": 3
   },
   "file_extension": ".py",
   "mimetype": "text/x-python",
   "name": "python",
   "nbconvert_exporter": "python",
   "pygments_lexer": "ipython3",
   "version": "3.9.5"
  }
 },
 "nbformat": 4,
 "nbformat_minor": 5
}
