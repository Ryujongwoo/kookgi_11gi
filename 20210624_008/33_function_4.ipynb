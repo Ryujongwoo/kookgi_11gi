{
 "cells": [
  {
   "cell_type": "code",
   "execution_count": 11,
   "id": "d022eacf",
   "metadata": {},
   "outputs": [],
   "source": [
    "# 디폴트 인수를 사용하는 함수 => 변수이름 = 디폴트값\n",
    "# 함수가 호출될 때 인수로 데이터가 넘어오면 넘어온 데이터로 함수를 실행하고 데이터가 넘어오지 않으면 디폴트로 지정된 데이터로\n",
    "# 함수를 실행한다.\n",
    "# 디폴트 인수는 부분적으로 지정할 수 없다.\n",
    "def func4(a = 8, b = 6):\n",
    "    print('{} + {} = {}'.format(a, b, a + b))"
   ]
  },
  {
   "cell_type": "code",
   "execution_count": 8,
   "id": "d90b6748",
   "metadata": {},
   "outputs": [
    {
     "name": "stdout",
     "output_type": "stream",
     "text": [
      "1 + 2 = 3\n"
     ]
    }
   ],
   "source": [
    "func4(1, 2)"
   ]
  },
  {
   "cell_type": "code",
   "execution_count": 9,
   "id": "720f9227",
   "metadata": {},
   "outputs": [
    {
     "name": "stdout",
     "output_type": "stream",
     "text": [
      "8 + 6 = 14\n"
     ]
    }
   ],
   "source": [
    "func4()"
   ]
  },
  {
   "cell_type": "code",
   "execution_count": 14,
   "id": "02f39067",
   "metadata": {},
   "outputs": [
    {
     "name": "stdout",
     "output_type": "stream",
     "text": [
      "9 + 6 = 15\n"
     ]
    }
   ],
   "source": [
    "func4(9) # func4(a = 9)와 같은 표현이다."
   ]
  },
  {
   "cell_type": "code",
   "execution_count": 15,
   "id": "eeab10dc",
   "metadata": {},
   "outputs": [
    {
     "name": "stdout",
     "output_type": "stream",
     "text": [
      "8 + 9 = 17\n"
     ]
    }
   ],
   "source": [
    "func4(b = 9)"
   ]
  },
  {
   "cell_type": "code",
   "execution_count": 16,
   "id": "a78e3c3e",
   "metadata": {},
   "outputs": [],
   "source": [
    "# 데이터가 넘어오면 1부터 넘어온 데이터까지 합계를 계산하고 데이터가 넘어오지 않으면 100까지 합계를 계산하는 함수\n",
    "def func5(n = 100):\n",
    "    total = 0\n",
    "    for i in range(1, n + 1):\n",
    "        total += i\n",
    "    return total"
   ]
  },
  {
   "cell_type": "code",
   "execution_count": 17,
   "id": "5443a9f0",
   "metadata": {},
   "outputs": [
    {
     "name": "stdout",
     "output_type": "stream",
     "text": [
      "55\n"
     ]
    }
   ],
   "source": [
    "print(func5(10))"
   ]
  },
  {
   "cell_type": "code",
   "execution_count": 18,
   "id": "e2df9fa0",
   "metadata": {},
   "outputs": [
    {
     "name": "stdout",
     "output_type": "stream",
     "text": [
      "5050\n"
     ]
    }
   ],
   "source": [
    "print(func5())"
   ]
  },
  {
   "cell_type": "code",
   "execution_count": null,
   "id": "a41751ef",
   "metadata": {},
   "outputs": [],
   "source": []
  },
  {
   "cell_type": "code",
   "execution_count": null,
   "id": "bd2f31d9",
   "metadata": {},
   "outputs": [],
   "source": []
  }
 ],
 "metadata": {
  "kernelspec": {
   "display_name": "Python 3",
   "language": "python",
   "name": "python3"
  },
  "language_info": {
   "codemirror_mode": {
    "name": "ipython",
    "version": 3
   },
   "file_extension": ".py",
   "mimetype": "text/x-python",
   "name": "python",
   "nbconvert_exporter": "python",
   "pygments_lexer": "ipython3",
   "version": "3.9.5"
  }
 },
 "nbformat": 4,
 "nbformat_minor": 5
}
