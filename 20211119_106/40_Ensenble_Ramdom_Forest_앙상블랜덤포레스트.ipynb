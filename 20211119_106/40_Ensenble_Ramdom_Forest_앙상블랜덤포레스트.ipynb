{
 "cells": [
  {
   "cell_type": "markdown",
   "id": "3a9c50ca",
   "metadata": {},
   "source": [
    "앙상블(ensemble) 기법이란 여러 개의 분류 모델을 조합해서 더 나은 성능을 내는 방법이다.  \n",
    "최근접 이웃, 서포트 벡터 머신, 의사결정 트리, 나이브 베이즈 분류 모델을 실습했는데 지금까지 실습한 여러 분류 모델을 조합해서 단일 모델모다 더 좋은 성능을 낸다.\n",
    "***\n",
    "배깅(bagging)의 어원은 부트스트랩(bootstrap)과 어그리게이팅(aggregating, 집계)에서 왔고 상당히 연주하기 힘든 바이올린 연주곡을 두세 명의 초급 바이올린 연주자가 나누어 연주함으로써 한 명의 중급 바이올린 연주자가 연주하는 것 보다 더 나은 연주를 할 수 있는 것과 유사하다.  \n",
    "중급 바이올린 연주자는 나름 잘 학습했지만 학습 데이터에 과대 적합된 의사결정 트리라 볼 수 있다. 의사결정 트리의 단점은 쉽게 과적합된다는 것인데 배깅은 과대 적합이 쉬운 모델에 상당히 적합한 앙상블이다.\n",
    "***\n",
    "랜덤 포레스트(random forest)  \n",
    "여러 의사결정 트리를 배깅을 적용해서 예측을 실행하는 모델이다.  \n",
    "배깅이 모든 분류 모델에서 적용 가능하지만 특히 과대 적합되기 쉬운 의사결정 트리에 적용하면 확실히 과대 적합을 줄여 성능이 높아지는 혜택을 보기 때문에 배깅은 많은 의사결정 트리 모델의 개선을 이뤘고 여러 개의 나무들이 모여있다는 개념에서 랜덤 포레스트라는 이름이 생겨났다.  \n",
    "의사결정 트리에서는 최적의 특징으로 트리를 분기하는 반면 랜덤 포레스트는 각 노드에 주어진 데이터를 샘플링해서 일부 데이터를 제외한 채 최적의 특징을 찾아 트리를 분기한다. 이러한 과정에서 랜덤 포레스트는 또 한 번 모델의 편향을 증가시켜 과대 적합의 위험을 감소시킨다.\n",
    "***\n",
    "부스팅(Boosting)  \n",
    "여러 개의 분류기를 만들어 투표를 통해 예측값을 결정한다는 측면에서는 배깅과 동일하다.  \n",
    "배깅은 서로 다른 알고리즘에 기반한 여러 분류기를 병렬적으로 학습하는 반면에 부스팅은 동일한 알고리즘의 분류기를 순차적으로 학습해서 여러 개의 분류기를 만든 후 테스트할 때 가중 투표를 통해 예측값을 결정한다."
   ]
  },
  {
   "cell_type": "markdown",
   "id": "ebb918ca",
   "metadata": {},
   "source": [
    "MNIST 손글씨 데이터셋으로 랜덤 포레스트 모델과 의사결정 트리 모델을 동일하게 학습시켜 두 모델의 성능 차이를 시각화해 비교한다."
   ]
  },
  {
   "cell_type": "code",
   "execution_count": 1,
   "id": "75353b40",
   "metadata": {},
   "outputs": [],
   "source": [
    "import warnings\n",
    "warnings.filterwarnings('ignore')\n",
    "import numpy as np\n",
    "import pandas as pd\n",
    "import sklearn"
   ]
  },
  {
   "cell_type": "code",
   "execution_count": 2,
   "id": "9b503ab7",
   "metadata": {},
   "outputs": [],
   "source": [
    "# MNIST 손글씨 데이터셋을 사용하기 위해 import 시킨다.\n",
    "from sklearn import datasets\n",
    "# 의사결정 트리와 랜덤 포레스트 분류기를 import 시킨다.\n",
    "from sklearn import tree\n",
    "from sklearn.ensemble import RandomForestClassifier\n",
    "# 교차 검증을 하기위해 import 시킨다.\n",
    "from sklearn.model_selection import cross_val_score\n",
    "import matplotlib.pyplot as plt"
   ]
  },
  {
   "cell_type": "markdown",
   "id": "c81fba47",
   "metadata": {},
   "source": [
    "MNIST 손글씨 데이터 불러오기"
   ]
  },
  {
   "cell_type": "code",
   "execution_count": 3,
   "id": "69cda60d",
   "metadata": {},
   "outputs": [],
   "source": [
    "mnist = datasets.load_digits()\n",
    "features, labels = mnist.data, mnist.target"
   ]
  },
  {
   "cell_type": "markdown",
   "id": "5d1988c9",
   "metadata": {},
   "source": [
    "교차 검증  \n",
    "사이킷런의 cross_val_score() 함수는 데이터를 k개로 나눠서 k번 정확도를 검증하는 k-fold 교차 검증을 수행한다.\n",
    "cross_val_score(model, X, Y, scoring=None, cv=None)  \n",
    "model: 분석 모델  \n",
    "X: 독립 변수 데이터, 학습 데이터  \n",
    "Y: 종속 변수 데이터, 학습 결과, 학습에 따른 결과는 1차원 형태로 지정해야 한다.  \n",
    "scoring=None: 성능 검증에 사용할 매개 변수에 원하는 평가 지표를 지정한다. => 정확도를 의미하는 'accuracy'를 입력한다.  \n",
    "cv=None: 교차 검증 생성기 객체 또는 숫자, None일 경우 KFold(3), 숫자를 지정하면 KFold(숫자)"
   ]
  },
  {
   "cell_type": "code",
   "execution_count": 4,
   "id": "6949b4c7",
   "metadata": {},
   "outputs": [],
   "source": [
    "# MNIST 데이터에 대한 의사결정 트리와 랜덤 포레스트의 검증 정확도를 계산하는 함수를 만든다.\n",
    "def cross_validation(classifier, features, labels):\n",
    "    cv_scores = []\n",
    "    for i in range(10):\n",
    "        scores = cross_val_score(classifier, features, labels, cv=10, scoring='accuracy')\n",
    "        # print(scores)\n",
    "        cv_scores.append(scores.mean())\n",
    "    return cv_scores"
   ]
  },
  {
   "cell_type": "code",
   "execution_count": 5,
   "id": "bb087e0d",
   "metadata": {},
   "outputs": [
    {
     "name": "stdout",
     "output_type": "stream",
     "text": [
      " 1: 0.82413\n",
      " 2: 0.82580\n",
      " 3: 0.82693\n",
      " 4: 0.83025\n",
      " 5: 0.81966\n",
      " 6: 0.82971\n",
      " 7: 0.82858\n",
      " 8: 0.81690\n",
      " 9: 0.83361\n",
      "10: 0.83638\n"
     ]
    }
   ],
   "source": [
    "# 의사결정 트리의 MNIST 손글씨 검증 정확도를 계산한다.\n",
    "dt_cv_scores = cross_validation(tree.DecisionTreeClassifier(), features, labels)\n",
    "for i in range(len(dt_cv_scores)):\n",
    "    print('{0:2d}: {1:7.5f}'.format(i + 1, dt_cv_scores[i]))"
   ]
  },
  {
   "cell_type": "code",
   "execution_count": 6,
   "id": "10e57c19",
   "metadata": {},
   "outputs": [
    {
     "name": "stdout",
     "output_type": "stream",
     "text": [
      " 1: 0.95157\n",
      " 2: 0.94714\n",
      " 3: 0.95214\n",
      " 4: 0.94713\n",
      " 5: 0.94879\n",
      " 6: 0.95436\n",
      " 7: 0.95103\n",
      " 8: 0.95159\n",
      " 9: 0.94546\n",
      "10: 0.94936\n"
     ]
    }
   ],
   "source": [
    "# 랜덤 포레스트의 MNIST 손글씨 검증 정확도를 계산한다.\n",
    "rf_cv_scores = cross_validation(RandomForestClassifier(), features, labels)\n",
    "for i in range(len(rf_cv_scores)):\n",
    "    print('{0:2d}: {1:7.5f}'.format(i + 1, rf_cv_scores[i]))"
   ]
  },
  {
   "cell_type": "code",
   "execution_count": 8,
   "id": "a13634b0",
   "metadata": {},
   "outputs": [
    {
     "data": {
      "text/html": [
       "<div>\n",
       "<style scoped>\n",
       "    .dataframe tbody tr th:only-of-type {\n",
       "        vertical-align: middle;\n",
       "    }\n",
       "\n",
       "    .dataframe tbody tr th {\n",
       "        vertical-align: top;\n",
       "    }\n",
       "\n",
       "    .dataframe thead th {\n",
       "        text-align: right;\n",
       "    }\n",
       "</style>\n",
       "<table border=\"1\" class=\"dataframe\">\n",
       "  <thead>\n",
       "    <tr style=\"text-align: right;\">\n",
       "      <th></th>\n",
       "      <th>decision</th>\n",
       "      <th>random_forest</th>\n",
       "    </tr>\n",
       "  </thead>\n",
       "  <tbody>\n",
       "    <tr>\n",
       "      <th>0</th>\n",
       "      <td>0.824128</td>\n",
       "      <td>0.951567</td>\n",
       "    </tr>\n",
       "    <tr>\n",
       "      <th>1</th>\n",
       "      <td>0.825798</td>\n",
       "      <td>0.947135</td>\n",
       "    </tr>\n",
       "    <tr>\n",
       "      <th>2</th>\n",
       "      <td>0.826927</td>\n",
       "      <td>0.952135</td>\n",
       "    </tr>\n",
       "    <tr>\n",
       "      <th>3</th>\n",
       "      <td>0.830248</td>\n",
       "      <td>0.947129</td>\n",
       "    </tr>\n",
       "    <tr>\n",
       "      <th>4</th>\n",
       "      <td>0.819655</td>\n",
       "      <td>0.948793</td>\n",
       "    </tr>\n",
       "    <tr>\n",
       "      <th>5</th>\n",
       "      <td>0.829705</td>\n",
       "      <td>0.954358</td>\n",
       "    </tr>\n",
       "    <tr>\n",
       "      <th>6</th>\n",
       "      <td>0.828582</td>\n",
       "      <td>0.951027</td>\n",
       "    </tr>\n",
       "    <tr>\n",
       "      <th>7</th>\n",
       "      <td>0.816903</td>\n",
       "      <td>0.951589</td>\n",
       "    </tr>\n",
       "    <tr>\n",
       "      <th>8</th>\n",
       "      <td>0.833606</td>\n",
       "      <td>0.945459</td>\n",
       "    </tr>\n",
       "    <tr>\n",
       "      <th>9</th>\n",
       "      <td>0.836384</td>\n",
       "      <td>0.949361</td>\n",
       "    </tr>\n",
       "  </tbody>\n",
       "</table>\n",
       "</div>"
      ],
      "text/plain": [
       "   decision  random_forest\n",
       "0  0.824128       0.951567\n",
       "1  0.825798       0.947135\n",
       "2  0.826927       0.952135\n",
       "3  0.830248       0.947129\n",
       "4  0.819655       0.948793\n",
       "5  0.829705       0.954358\n",
       "6  0.828582       0.951027\n",
       "7  0.816903       0.951589\n",
       "8  0.833606       0.945459\n",
       "9  0.836384       0.949361"
      ]
     },
     "execution_count": 8,
     "metadata": {},
     "output_type": "execute_result"
    }
   ],
   "source": [
    "cv_dict = {'decision': dt_cv_scores, 'random_forest': rf_cv_scores}\n",
    "# df = pd.DataFrame.from_dict(cv_dict)\n",
    "df = pd.DataFrame(cv_dict)\n",
    "df"
   ]
  },
  {
   "cell_type": "code",
   "execution_count": 9,
   "id": "6850e94f",
   "metadata": {},
   "outputs": [
    {
     "data": {
      "text/plain": [
       "<AxesSubplot:>"
      ]
     },
     "execution_count": 9,
     "metadata": {},
     "output_type": "execute_result"
    },
    {
     "data": {
      "image/png": "[encoded data removed]",
      "text/plain": [
       "<Figure size 432x288 with 1 Axes>"
      ]
     },
     "metadata": {
      "needs_background": "light"
     },
     "output_type": "display_data"
    }
   ],
   "source": [
    "df.plot()"
   ]
  },
  {
   "cell_type": "code",
   "execution_count": 11,
   "id": "435dc5dc",
   "metadata": {},
   "outputs": [
    {
     "name": "stdout",
     "output_type": "stream",
     "text": [
      "의사결정 트리: 0.827193668528864\n",
      "랜덤 포레스트: 0.9498553693358162\n"
     ]
    }
   ],
   "source": [
    "print('의사결정 트리: {}'.format(np.mean(dt_cv_scores)))\n",
    "print('랜덤 포레스트: {}'.format(np.mean(rf_cv_scores)))"
   ]
  },
  {
   "cell_type": "markdown",
   "id": "8f74dadb",
   "metadata": {},
   "source": [
    "강사의 피드백은 어떴게 받는가?\n",
    "보충수업 및 수업이후 관리는 어떻게 진행되나?\n",
    "부충자료(추가제공자료)는 받았나?\n",
    "사전평가 난이도는 어땠나?\n",
    "본인 사전평가 점수를 아는가?\n",
    "우등생 포상 알고있나?\n",
    "현재 진행 중인 능력단위 평가 이름은?\n",
    "수준별 수업이 이루어졌다고 생각하는가?\n",
    "협업은 잘 이루어졌는가?\n",
    "NCS에 대해서 알고있는가?"
   ]
  },
  {
   "cell_type": "code",
   "execution_count": null,
   "id": "71495639",
   "metadata": {},
   "outputs": [],
   "source": []
  },
  {
   "cell_type": "code",
   "execution_count": null,
   "id": "ef49dcae",
   "metadata": {},
   "outputs": [],
   "source": []
  },
  {
   "cell_type": "code",
   "execution_count": null,
   "id": "77a06b6f",
   "metadata": {},
   "outputs": [],
   "source": []
  },
  {
   "cell_type": "code",
   "execution_count": null,
   "id": "eaa374fc",
   "metadata": {},
   "outputs": [],
   "source": []
  },
  {
   "cell_type": "code",
   "execution_count": null,
   "id": "27298f94",
   "metadata": {},
   "outputs": [],
   "source": []
  },
  {
   "cell_type": "code",
   "execution_count": null,
   "id": "d4899bfc",
   "metadata": {},
   "outputs": [],
   "source": []
  },
  {
   "cell_type": "code",
   "execution_count": null,
   "id": "0cf3e2da",
   "metadata": {},
   "outputs": [],
   "source": []
  }
 ],
 "metadata": {
  "kernelspec": {
   "display_name": "Python 3",
   "language": "python",
   "name": "python3"
  },
  "language_info": {
   "codemirror_mode": {
    "name": "ipython",
    "version": 3
   },
   "file_extension": ".py",
   "mimetype": "text/x-python",
   "name": "python",
   "nbconvert_exporter": "python",
   "pygments_lexer": "ipython3",
   "version": "3.6.8"
  }
 },
 "nbformat": 4,
 "nbformat_minor": 5
}
