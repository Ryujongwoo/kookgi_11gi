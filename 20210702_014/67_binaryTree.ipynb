{
 "cells": [
  {
   "cell_type": "code",
   "execution_count": 43,
   "id": "0bcf0e66",
   "metadata": {},
   "outputs": [
    {
     "data": {
      "image/png": "[encoded data removed]",
      "text/plain": [
       "<IPython.core.display.Image object>"
      ]
     },
     "execution_count": 43,
     "metadata": {
      "image/png": {
       "width": "1200"
      }
     },
     "output_type": "execute_result"
    }
   ],
   "source": [
    "from IPython.display import Image\n",
    "Image('./binaryTree_2.png', width='1200')"
   ]
  },
  {
   "cell_type": "code",
   "execution_count": 67,
   "id": "20483714",
   "metadata": {},
   "outputs": [],
   "source": [
    "class BinaryTree:\n",
    "    # 생성자에 이진트리의 노드를 만든다.\n",
    "    def __init__(self, data = None):\n",
    "        self.left = None  # 왼쪽 자식 노드를 기억한다.\n",
    "        self.data = data  # 데이터\n",
    "        self.right = None # 오른쪽 자식 노드를 기억한다.\n",
    "        \n",
    "    # 트리에 노드를 삽입하는 함수\n",
    "    def insert(self, data):\n",
    "        # 트리에 삽입할 데이터와 부모 노드의 데이터를 비교해서 트리에 데이터가 삽입되는 위치를 결정한다.\n",
    "        # 트리에 삽입할 데이터가 부모 노드의 데이터보다 작으면 부모 노드의 왼쪽에 삽입한다.\n",
    "        # 트리에 삽입할 데이터가 부모 노드의 데이터보다 크면 부모 노드의 오른쪽에 삽입한다.\n",
    "        print('트리에 삽입하려는 데이터 {}의 부모 노드 데이터는 {} 입니다.'.format(data, self.data))\n",
    "        \n",
    "        # 삽입하려는 데이터가 부모 데이터보다 작은가?\n",
    "        if data < self.data:\n",
    "            # 부모 노드의 왼쪽에 삽입한다.\n",
    "            print('부모 노드의 데이터가 크기 때문에 부모 노드의 왼쪽에 데이터를 삽입한다.')\n",
    "            # 부모 노드의 왼쪽 링크(self.left)가 비어(None)있어야 데이터를 삽입할 수 있다.\n",
    "            if self.left is None:\n",
    "                # 부모 노드의 왼쪽 링크가 비어있으므로 데이터를 추가한다.\n",
    "                print('부모({}) 왼쪽에 데이터 {} 추가 가능.'.format(self.data, data))\n",
    "                # 새 데이터를 추가해야 하므로 트리에 추가할 데이터를 BinaryTree 클래스 객체를 생성해서 부모 노드의 비어있는\n",
    "                # 왼쪽 링크에 생성된 BinaryTree 클래스 객체의 주소를 넣어준다.\n",
    "                self.left = BinaryTree(data)\n",
    "                print('부모({}) 왼쪽에 데이터 {} 추가 완료.'.format(self.data, data))\n",
    "            else:\n",
    "                # 부모 노드의 왼쪽 링크가 비어있지 않기 때문에 데이터를 추가할 수 없다.\n",
    "                print('부모({}) 왼쪽에 {} 추가가 불가능하므로 부모 왼쪽 노드 {}에서 insert() 메소드를 실행한다.'.format(\n",
    "                    self.data, data, self.left.data\n",
    "                ))\n",
    "                self.left.insert(data)\n",
    "            \n",
    "        # 삽입하려는 데이터가 부모 데이터보다 큰가?\n",
    "        elif data > self.data:\n",
    "            # 부모 노드의 오른쪽에 삽입한다.\n",
    "            print('부모 노드의 데이터가 작기 때문에 부모 노드의 오른쪽에 데이터를 삽입한다.')\n",
    "            # 부모 노드의 오른쪽 링크(self.right)가 비어(None)있어야 데이터를 삽입할 수 있다.\n",
    "            if self.right is None:\n",
    "                # 부모 노드의 오른쪽 링크가 비어있으므로 데이터를 추가한다.\n",
    "                print('부모({}) 오른쪽에 데이터 {} 추가 가능.'.format(self.data, data))\n",
    "                # 새 데이터를 추가해야 하므로 트리에 추가할 데이터를 BinaryTree 클래스 객체를 생성해서 부모 노드의 비어있는\n",
    "                # 오른쪽 링크에 생성된 BinaryTree 클래스 객체의 주소를 넣어준다.\n",
    "                self.right = BinaryTree(data)\n",
    "                print('부모({}) 오른쪽에 데이터 {} 추가 완료.'.format(self.data, data))\n",
    "            else:\n",
    "                # 부모 노드의 오른쪽 링크가 비어있지 않기 때문에 데이터를 추가할 수 없다.\n",
    "                print('부모({}) 오른쪽에 {} 추가가 불가능하므로 부모 오른쪽 노드 {}에서 insert() 메소드를 실행한다.'.format(\n",
    "                    self.data, data, self.right.data\n",
    "                ))\n",
    "                self.right.insert(data)\n",
    "            \n",
    "        # 삽입하려는 데이터가 트리에 존재하는가?\n",
    "        else:\n",
    "            print('{}는(은) 트리에 존재하는 데이터입니다.'.format(data))\n",
    "            \n",
    "    # 이진트리를 구성하는 노드 목록을 inorder 방색으로 탐색하는 메소드\n",
    "    def inorder(self):\n",
    "        # link(self.left, self.right)에 주소가 저장되어있으면 True, 없으면(None) False\n",
    "        # 왼쪽 자식 노드가 있나 검사한다.\n",
    "        if self.left:\n",
    "            self.left.inorder()\n",
    "        # 더 이상 자식 노드가 없으면 데이터를 출력한다.\n",
    "        print(self.data, end=' ')\n",
    "        # 오른쪽 자식 노드가 있나 검사한다.\n",
    "        if self.right:\n",
    "            self.right.inorder()\n",
    "    \n",
    "    # 이진트리를 구성하는 노드 목록을 preorder 방색으로 탐색하는 메소드\n",
    "    def preorder(self):\n",
    "        print(self.data, end=' ')\n",
    "        if self.left:\n",
    "            self.left.preorder()\n",
    "        if self.right:\n",
    "            self.right.preorder()\n",
    "            \n",
    "    # 이진트리를 구성하는 노드 목록을 postorder 방색으로 탐색하는 메소드\n",
    "    def postorder(self):\n",
    "        if self.left:\n",
    "            self.left.postorder()\n",
    "        if self.right:\n",
    "            self.right.postorder()\n",
    "        print(self.data, end=' ')"
   ]
  },
  {
   "cell_type": "code",
   "execution_count": 68,
   "id": "84a46f04",
   "metadata": {},
   "outputs": [
    {
     "name": "stdout",
     "output_type": "stream",
     "text": [
      "트리에 삽입하려는 데이터 6의 부모 노드 데이터는 12 입니다.\n",
      "부모 노드의 데이터가 크기 때문에 부모 노드의 왼쪽에 데이터를 삽입한다.\n",
      "부모(12) 왼쪽에 데이터 6 추가 가능.\n",
      "부모(12) 왼쪽에 데이터 6 추가 완료.\n",
      "================================================================================\n",
      "트리에 삽입하려는 데이터 20의 부모 노드 데이터는 12 입니다.\n",
      "부모 노드의 데이터가 작기 때문에 부모 노드의 오른쪽에 데이터를 삽입한다.\n",
      "부모(12) 오른쪽에 데이터 20 추가 가능.\n",
      "부모(12) 오른쪽에 데이터 20 추가 완료.\n",
      "================================================================================\n",
      "트리에 삽입하려는 데이터 3의 부모 노드 데이터는 12 입니다.\n",
      "부모 노드의 데이터가 크기 때문에 부모 노드의 왼쪽에 데이터를 삽입한다.\n",
      "부모(12) 왼쪽에 3 추가가 불가능하므로 부모 왼쪽 노드 6에서 insert() 메소드를 실행한다.\n",
      "트리에 삽입하려는 데이터 3의 부모 노드 데이터는 6 입니다.\n",
      "부모 노드의 데이터가 크기 때문에 부모 노드의 왼쪽에 데이터를 삽입한다.\n",
      "부모(6) 왼쪽에 데이터 3 추가 가능.\n",
      "부모(6) 왼쪽에 데이터 3 추가 완료.\n",
      "================================================================================\n",
      "트리에 삽입하려는 데이터 25의 부모 노드 데이터는 12 입니다.\n",
      "부모 노드의 데이터가 작기 때문에 부모 노드의 오른쪽에 데이터를 삽입한다.\n",
      "부모(12) 오른쪽에 25 추가가 불가능하므로 부모 오른쪽 노드 20에서 insert() 메소드를 실행한다.\n",
      "트리에 삽입하려는 데이터 25의 부모 노드 데이터는 20 입니다.\n",
      "부모 노드의 데이터가 작기 때문에 부모 노드의 오른쪽에 데이터를 삽입한다.\n",
      "부모(20) 오른쪽에 데이터 25 추가 가능.\n",
      "부모(20) 오른쪽에 데이터 25 추가 완료.\n",
      "================================================================================\n",
      "트리에 삽입하려는 데이터 10의 부모 노드 데이터는 12 입니다.\n",
      "부모 노드의 데이터가 크기 때문에 부모 노드의 왼쪽에 데이터를 삽입한다.\n",
      "부모(12) 왼쪽에 10 추가가 불가능하므로 부모 왼쪽 노드 6에서 insert() 메소드를 실행한다.\n",
      "트리에 삽입하려는 데이터 10의 부모 노드 데이터는 6 입니다.\n",
      "부모 노드의 데이터가 작기 때문에 부모 노드의 오른쪽에 데이터를 삽입한다.\n",
      "부모(6) 오른쪽에 데이터 10 추가 가능.\n",
      "부모(6) 오른쪽에 데이터 10 추가 완료.\n",
      "================================================================================\n",
      "트리에 삽입하려는 데이터 15의 부모 노드 데이터는 12 입니다.\n",
      "부모 노드의 데이터가 작기 때문에 부모 노드의 오른쪽에 데이터를 삽입한다.\n",
      "부모(12) 오른쪽에 15 추가가 불가능하므로 부모 오른쪽 노드 20에서 insert() 메소드를 실행한다.\n",
      "트리에 삽입하려는 데이터 15의 부모 노드 데이터는 20 입니다.\n",
      "부모 노드의 데이터가 크기 때문에 부모 노드의 왼쪽에 데이터를 삽입한다.\n",
      "부모(20) 왼쪽에 데이터 15 추가 가능.\n",
      "부모(20) 왼쪽에 데이터 15 추가 완료.\n",
      "================================================================================\n"
     ]
    }
   ],
   "source": [
    "# 이진트리의 root 노드를 만든다.\n",
    "root = BinaryTree(12)\n",
    "# 이진트리에 데이터(노드)를 추가한다.\n",
    "root.insert(6)\n",
    "print('=' * 80)\n",
    "root.insert(20)\n",
    "print('=' * 80)\n",
    "root.insert(3)\n",
    "print('=' * 80)\n",
    "root.insert(25)\n",
    "print('=' * 80)\n",
    "root.insert(10)\n",
    "print('=' * 80)\n",
    "root.insert(15)\n",
    "print('=' * 80)"
   ]
  },
  {
   "cell_type": "code",
   "execution_count": 69,
   "id": "ffd54b96",
   "metadata": {},
   "outputs": [
    {
     "data": {
      "image/png": "[encoded data removed]",
      "text/plain": [
       "<IPython.core.display.Image object>"
      ]
     },
     "execution_count": 69,
     "metadata": {
      "image/png": {
       "width": "500"
      }
     },
     "output_type": "execute_result"
    }
   ],
   "source": [
    "from IPython.display import Image\n",
    "Image('./binaryTree_1.png', width='500')"
   ]
  },
  {
   "cell_type": "code",
   "execution_count": 70,
   "id": "a2f37033",
   "metadata": {},
   "outputs": [],
   "source": [
    "# 이진트리 운행(같은 노드를 중복해서 방문하지 않고 모든 노드를 한번씩 방문하는 방법)은 부모(root) 노드를 언제 방문하느냐에\n",
    "# 따라서 아래와 같이 3가지 방법이 있다.\n",
    "# inorder   : Left => Root => Right : 3 => 6 => 10 => 12 => 15 => 20 => 25 : 오름차순 정렬\n",
    "# preorder  : Root => Left => Right : 12 => 6 => 3 => 10 => 20 => 15 => 25\n",
    "# postorder : Left => Right => Root : 3 => 10 => 6 => 15 => 25 => 20 => 12"
   ]
  },
  {
   "cell_type": "code",
   "execution_count": 72,
   "id": "931ff752",
   "metadata": {},
   "outputs": [
    {
     "name": "stdout",
     "output_type": "stream",
     "text": [
      "3 6 10 12 15 20 25 \n",
      "12 6 3 10 20 15 25 \n",
      "3 10 6 15 25 20 12 "
     ]
    }
   ],
   "source": [
    "root.inorder()\n",
    "print()\n",
    "root.preorder()\n",
    "print()\n",
    "root.postorder()"
   ]
  },
  {
   "cell_type": "code",
   "execution_count": null,
   "id": "83289104",
   "metadata": {},
   "outputs": [],
   "source": []
  },
  {
   "cell_type": "code",
   "execution_count": null,
   "id": "33c11349",
   "metadata": {},
   "outputs": [],
   "source": []
  },
  {
   "cell_type": "code",
   "execution_count": null,
   "id": "ebe28765",
   "metadata": {},
   "outputs": [],
   "source": []
  },
  {
   "cell_type": "code",
   "execution_count": null,
   "id": "55ab91d6",
   "metadata": {},
   "outputs": [],
   "source": []
  },
  {
   "cell_type": "code",
   "execution_count": null,
   "id": "0d5e85ba",
   "metadata": {},
   "outputs": [],
   "source": []
  }
 ],
 "metadata": {
  "kernelspec": {
   "display_name": "Python 3",
   "language": "python",
   "name": "python3"
  },
  "language_info": {
   "codemirror_mode": {
    "name": "ipython",
    "version": 3
   },
   "file_extension": ".py",
   "mimetype": "text/x-python",
   "name": "python",
   "nbconvert_exporter": "python",
   "pygments_lexer": "ipython3",
   "version": "3.9.5"
  }
 },
 "nbformat": 4,
 "nbformat_minor": 5
}
