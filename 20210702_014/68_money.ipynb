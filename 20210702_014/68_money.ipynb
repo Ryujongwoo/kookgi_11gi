{
 "cells": [
  {
   "cell_type": "code",
   "execution_count": null,
   "id": "f669d9ca",
   "metadata": {},
   "outputs": [],
   "source": [
    "# 출장비로 지급할 화폐 매수 계산하기\n",
    "from IPython.display import Image\n",
    "Image('./money_1.png', width='900')"
   ]
  },
  {
   "cell_type": "code",
   "execution_count": null,
   "id": "876e5af5",
   "metadata": {},
   "outputs": [],
   "source": [
    "from IPython.display import Image\n",
    "Image('./money_2.png', width='900')"
   ]
  },
  {
   "cell_type": "code",
   "execution_count": null,
   "id": "5b8a80e3",
   "metadata": {
    "scrolled": false
   },
   "outputs": [],
   "source": [
    "from IPython.display import Image\n",
    "Image('./money_3.png', width='900')"
   ]
  },
  {
   "cell_type": "code",
   "execution_count": null,
   "id": "d563e091",
   "metadata": {},
   "outputs": [],
   "source": [
    "pm = [0 for i in range(10)] # 개인별 화폐 매수가 기억될 리스트를 선언한다.\n",
    "tm = [0 for i in range(10)] # 전체 화폐 매수가 기억될 리스트를 선언한다.\n",
    "\n",
    "while True:\n",
    "    n, p = input('이름과 출장비를 입력하세요: ').split(' ')\n",
    "    if n.lower() == 'quit':\n",
    "        break\n",
    "    \n",
    "    t = int(p) # 나중에 입력받은 출장비를 출력하기 위해서 출장비의 복사본을 만들어 작업한다.\n",
    "    m = 50000  # 화폐 매수를 계산할 화폐 권종을 초기화시킨다.\n",
    "    sw = 1     # 화폐 권종 변경에 사용하는 스위치(toggle) 변수\n",
    "    \n",
    "    # 화폐 권종의 개수만큼 반복하며 개인별 화폐 매수를 계산한다.\n",
    "    for k in range(10):\n",
    "        pm[k] = t // m # 권종별 화폐 매수를 계산한다.\n",
    "        t %= m         # 다음 화폐 권종의 매수를 계산하기 위해 권종별 화폐 매수를 계산하고 남은 나머지 금액을 계산한다.\n",
    "        # 다음 화폐 권종을 계산한다.\n",
    "        if sw == 1:\n",
    "            m //= 5; sw = 0\n",
    "        else:\n",
    "            m //= 2; sw = 1\n",
    "    # ===== for k in range(10)\n",
    "        \n",
    "    # 이름과 개인별 화폐 권종 수를 출력하고 전체 화폐 매수를 계산한다.\n",
    "    print(n, p, end=' ')\n",
    "    for k in range(10):\n",
    "        print(pm[k], end=' ')\n",
    "        tm[k] += pm[k]\n",
    "    print()\n",
    "    # ===== for k in range(10)\n",
    "# ===== while True\n",
    "\n",
    "print(tm)"
   ]
  },
  {
   "cell_type": "code",
   "execution_count": 1,
   "id": "44b2a8fc",
   "metadata": {},
   "outputs": [],
   "source": [
    "# 개인별로 이름과 출장비와 화폐 권종별 매수를 기억하는 클래스\n",
    "class Money:\n",
    "    def __init__(self, name, money):\n",
    "        self.name = name\n",
    "        self.money = money\n",
    "        # 개인별 화폐 매수를 계산한다.\n",
    "        self.pm = [0 for i in range(10)]\n",
    "        t = money\n",
    "        m = 50000\n",
    "        sw = 1\n",
    "        for i in range(10):\n",
    "            self.pm[i] = t // m\n",
    "            t %= m\n",
    "            if sw == 1:\n",
    "                m //= 5; sw = 0\n",
    "            else:\n",
    "                m //= 2; sw = 1\n",
    "        # ===== for i in range(10)\n",
    "    def __str__(self):\n",
    "        return '{} {} {}'.format(self.name, self.money, self.pm)"
   ]
  },
  {
   "cell_type": "code",
   "execution_count": 2,
   "id": "304d96fc",
   "metadata": {},
   "outputs": [
    {
     "name": "stdout",
     "output_type": "stream",
     "text": [
      "홍길동\n",
      "123456\n",
      "[2, 2, 0, 3, 0, 4, 1, 0, 1, 1]\n",
      "홍길동 123456 [2, 2, 0, 3, 0, 4, 1, 0, 1, 1]\n"
     ]
    }
   ],
   "source": [
    "money = Money('홍길동', 123456)\n",
    "print(money.name)\n",
    "print(money.money)\n",
    "print(money.pm)\n",
    "print(money)"
   ]
  },
  {
   "cell_type": "code",
   "execution_count": 3,
   "id": "74c194f4",
   "metadata": {},
   "outputs": [
    {
     "name": "stdout",
     "output_type": "stream",
     "text": [
      "이름과 출장비를 입력하세요: 홍길동 111111\n",
      "이름과 출장비를 입력하세요: 임꺽정 222222\n",
      "이름과 출장비를 입력하세요: 장길산 333333\n",
      "이름과 출장비를 입력하세요: quit 0\n"
     ]
    }
   ],
   "source": [
    "m = []\n",
    "while True:\n",
    "    n, p = input('이름과 출장비를 입력하세요: ').split(' ')\n",
    "    if n.lower() == 'quit':\n",
    "        break\n",
    "    money = Money(n, int(p))\n",
    "    m.append(money)"
   ]
  },
  {
   "cell_type": "code",
   "execution_count": 5,
   "id": "a7d2b7c2",
   "metadata": {},
   "outputs": [
    {
     "name": "stdout",
     "output_type": "stream",
     "text": [
      "                              출장비 지급 일람표\n",
      "=====================================================================================\n",
      " 이름             출장비 50000 10000  5000  1000   500   100    50    10     5     1\n",
      "=====================================================================================\n",
      "홍길동           111,111     2     1     0     1     0     1     0     1     0     1\n",
      "임꺽정           222,222     4     2     0     2     0     2     0     2     0     2\n",
      "장길산           333,333     6     3     0     3     0     3     0     3     0     3\n",
      "=====================================================================================\n",
      "                    합계    12     6     0     6     0     6     0     6     0     6\n",
      "=====================================================================================\n"
     ]
    }
   ],
   "source": [
    "print('                              출장비 지급 일람표')\n",
    "print('=' * 85)\n",
    "print(' 이름             출장비 50000 10000  5000  1000   500   100    50    10     5     1')\n",
    "print('=' * 85)\n",
    "tm = [0 for i in range(10)]\n",
    "for i in m:\n",
    "    print('{0:10s} {1:10,d}'.format(i.name, i.money), end='')\n",
    "    for j in range(10):\n",
    "        print('{0:6d}'.format(i.pm[j]), end='')\n",
    "        tm[j] += i.pm[j]\n",
    "    print()\n",
    "print('=' * 85)\n",
    "print('                    합계', end='')\n",
    "for j in range(10):\n",
    "    print('{0:6d}'.format(tm[j]), end='')\n",
    "print()\n",
    "print('=' * 85)"
   ]
  },
  {
   "cell_type": "code",
   "execution_count": null,
   "id": "9313ce7a",
   "metadata": {},
   "outputs": [],
   "source": []
  },
  {
   "cell_type": "code",
   "execution_count": null,
   "id": "3207e85e",
   "metadata": {},
   "outputs": [],
   "source": []
  },
  {
   "cell_type": "code",
   "execution_count": null,
   "id": "fff91e22",
   "metadata": {},
   "outputs": [],
   "source": []
  },
  {
   "cell_type": "code",
   "execution_count": null,
   "id": "2fbdf023",
   "metadata": {},
   "outputs": [],
   "source": []
  },
  {
   "cell_type": "code",
   "execution_count": null,
   "id": "32eb6cda",
   "metadata": {},
   "outputs": [],
   "source": []
  }
 ],
 "metadata": {
  "kernelspec": {
   "display_name": "Python 3",
   "language": "python",
   "name": "python3"
  },
  "language_info": {
   "codemirror_mode": {
    "name": "ipython",
    "version": 3
   },
   "file_extension": ".py",
   "mimetype": "text/x-python",
   "name": "python",
   "nbconvert_exporter": "python",
   "pygments_lexer": "ipython3",
   "version": "3.9.5"
  }
 },
 "nbformat": 4,
 "nbformat_minor": 5
}
