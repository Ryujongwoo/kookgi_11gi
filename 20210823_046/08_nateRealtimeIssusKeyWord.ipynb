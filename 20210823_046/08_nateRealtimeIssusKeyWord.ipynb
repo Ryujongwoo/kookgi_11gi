{
 "cells": [
  {
   "cell_type": "code",
   "execution_count": 61,
   "id": "034eb8cf",
   "metadata": {},
   "outputs": [],
   "source": [
    "import warnings\n",
    "warnings.filterwarnings(action='ignore')\n",
    "import requests\n",
    "from bs4 import BeautifulSoup\n",
    "from datetime import datetime as dt"
   ]
  },
  {
   "cell_type": "code",
   "execution_count": 108,
   "id": "5b6ebc64",
   "metadata": {
    "scrolled": false
   },
   "outputs": [
    {
     "name": "stdout",
     "output_type": "stream",
     "text": [
      " 6위: 노는 브로 구본길[-]\n",
      " 7위: 5만달러 비트코인 5만[↑1]\n",
      " 8위: 크러쉬[↓1]\n",
      " 9위: 최성봉[new]\n",
      "10위: 저소득층 10만원 국민지원금[↓1]\n"
     ]
    }
   ],
   "source": [
    "targetSite = 'https://www.nate.com/'\n",
    "header = {'User-agent': 'Mozilla/5.0 (Windows NT 6.1; WOW64; Trident/7.0; rv:11.0) like Gecko'}\n",
    "request = requests.get(targetSite, headers=header)\n",
    "# print(request)\n",
    "html = request.text\n",
    "soup = BeautifulSoup(html, 'html.parser')\n",
    "# print(soup)\n",
    "\n",
    "# 순위\n",
    "ranks = soup.findAll('span', {'class': 'num_rank'})\n",
    "# print(ranks)\n",
    "# for rank in ranks[:5]:\n",
    "    # print(rank.text)\n",
    "    \n",
    "# 실시간 이슈 키워드와 상승/하락 폭 크롤링\n",
    "issues = soup.findAll('a', {'class': 'ik'})\n",
    "# print(issues)\n",
    "# for issue in issues:\n",
    "    # print(issue.text.strip().split('\\n')) # [실시간 이슈 키워드, 상승/하락 폭]\n",
    "    # print(issue.text.strip().split('\\n')[0], issue.text.strip().split('\\n')[1])\n",
    "    \n",
    "for i in range(5):\n",
    "    rank = ranks[i]\n",
    "    issue = issues[i].text.strip().split('\\n')[0]\n",
    "    upDown = issues[i].text.strip().split('\\n')[1]\n",
    "    print('{0:>2s}위: {1}'.format(rank.text, issue), end='')\n",
    "    if upDown[:2] == '상승':\n",
    "        print('[{}{}]'.format('↑', upDown[-1]))\n",
    "    elif upDown[:2] == '하락':\n",
    "        print('[{}{}]'.format('↓', upDown[-1]))\n",
    "    elif upDown[:2] == '동일':\n",
    "        print('[-]')\n",
    "    else:\n",
    "        print('[new]')"
   ]
  },
  {
   "cell_type": "code",
   "execution_count": null,
   "id": "3d06045b",
   "metadata": {},
   "outputs": [],
   "source": []
  },
  {
   "cell_type": "code",
   "execution_count": null,
   "id": "877da3af",
   "metadata": {},
   "outputs": [],
   "source": []
  },
  {
   "cell_type": "code",
   "execution_count": null,
   "id": "530f971f",
   "metadata": {},
   "outputs": [],
   "source": []
  },
  {
   "cell_type": "code",
   "execution_count": null,
   "id": "00076ebe",
   "metadata": {},
   "outputs": [],
   "source": []
  }
 ],
 "metadata": {
  "kernelspec": {
   "display_name": "Python 3",
   "language": "python",
   "name": "python3"
  },
  "language_info": {
   "codemirror_mode": {
    "name": "ipython",
    "version": 3
   },
   "file_extension": ".py",
   "mimetype": "text/x-python",
   "name": "python",
   "nbconvert_exporter": "python",
   "pygments_lexer": "ipython3",
   "version": "3.6.8"
  }
 },
 "nbformat": 4,
 "nbformat_minor": 5
}
