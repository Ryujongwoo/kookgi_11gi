{
 "cells": [
  {
   "cell_type": "code",
   "execution_count": 16,
   "id": "ab6e4316",
   "metadata": {},
   "outputs": [
    {
     "name": "stdout",
     "output_type": "stream",
     "text": [
      "data.txt 파일에서 읽기 완료!!!\n",
      "['ㅓㅏㅣ;ㄹㄴ어ㅏㅣㄹㄴ어ㅏㅣㄴㅇㄹ', 'ㄹㄴ어ㅏㅣㅓㅏㅣㅇㄴㄹ', 'ㅓㅏㅣㄴㄹ어ㅏㅣㄹㄴㅇ', 'ㅓㅣㅏㄹㄴ어ㅏㅣㅁ', 'dksfjsklf', 'sdklfj;lfksd', 'ewkrjwkledf', 'jklsfdjklfsdjklsdf']\n"
     ]
    }
   ],
   "source": [
    "try:\n",
    "    file = open('./data/data.txt', 'r')\n",
    "except FileNotFoundError:\n",
    "    print('디스크에 파일이 존재하지 않습니다.')\n",
    "    \n",
    "lines = []\n",
    "# 텍스트 파일에 저장된 데이터가 몇 줄인인지 알 수 없으므로 무한루프를 돌려서 읽는다.\n",
    "while True:\n",
    "    # readline() 메소드로 텍스트 파일의 데이터를 1줄씩 읽어들일 수 있다.\n",
    "    line = file.readline()\n",
    "    # readline() 메소드로 텍스트 파일에서 읽어들인 데이터가 없으면 무한루프를 탈출한다.\n",
    "    if not line: # 텍스트 파일에서 읽어들인 데이터가 없으면\n",
    "        break\n",
    "    # readline() 메소드로 데이터를 읽어들인 후 strip() 메소드로 문자열 앞, 뒤의 불필요한 공백을 제거하는것이 좋다.\n",
    "    line = line.strip()\n",
    "    if len(line) != 0:\n",
    "        # print(line)\n",
    "        lines.append(line)\n",
    "# =====\n",
    "file.close()\n",
    "print('data.txt 파일에서 읽기 완료!!!')\n",
    "print(lines)"
   ]
  },
  {
   "cell_type": "code",
   "execution_count": 18,
   "id": "4db6caad",
   "metadata": {},
   "outputs": [
    {
     "name": "stdout",
     "output_type": "stream",
     "text": [
      "<class 'list'>\n",
      "['ㅓㅏㅣ;ㄹㄴ어ㅏㅣㄹㄴ어ㅏㅣㄴㅇㄹ\\n', 'ㄹㄴ어ㅏㅣㅓㅏㅣㅇㄴㄹ\\n', 'ㅓㅏㅣㄴㄹ어ㅏㅣㄹㄴㅇ\\n', 'ㅓㅣㅏㄹㄴ어ㅏㅣㅁ\\n', '\\n', '\\n', '\\n', '\\n', '\\n', '                                             \\n', '\\n', '\\n', '\\n', '\\n', '\\n', '\\n', '\\n', 'dksfjsklf\\n', 'sdklfj;lfksd\\n', 'ewkrjwkledf\\n', 'jklsfdjklfsdjklsdf\\n']\n",
      "data.txt 파일에서 읽기 완료!!!\n"
     ]
    }
   ],
   "source": [
    "file = open('./data/data.txt', 'r')\n",
    "# readlines() 메소드로 텍스트 파일의 데이터 전체를 한꺼번에 읽어 리스트로 얻어온다.\n",
    "lines = file.readlines()\n",
    "print(type(lines))\n",
    "print(lines)\n",
    "file.close()\n",
    "print('data.txt 파일에서 읽기 완료!!!')"
   ]
  },
  {
   "cell_type": "code",
   "execution_count": null,
   "id": "8b2a3cef",
   "metadata": {},
   "outputs": [],
   "source": []
  },
  {
   "cell_type": "code",
   "execution_count": null,
   "id": "8a7b7ccb",
   "metadata": {},
   "outputs": [],
   "source": []
  },
  {
   "cell_type": "code",
   "execution_count": null,
   "id": "99372bc9",
   "metadata": {},
   "outputs": [],
   "source": []
  },
  {
   "cell_type": "code",
   "execution_count": null,
   "id": "86fd87fc",
   "metadata": {},
   "outputs": [],
   "source": []
  },
  {
   "cell_type": "code",
   "execution_count": null,
   "id": "119d9dbb",
   "metadata": {},
   "outputs": [],
   "source": []
  },
  {
   "cell_type": "code",
   "execution_count": null,
   "id": "410a6352",
   "metadata": {},
   "outputs": [],
   "source": []
  },
  {
   "cell_type": "code",
   "execution_count": null,
   "id": "5d5b2042",
   "metadata": {},
   "outputs": [],
   "source": []
  },
  {
   "cell_type": "code",
   "execution_count": null,
   "id": "67336ec5",
   "metadata": {},
   "outputs": [],
   "source": []
  }
 ],
 "metadata": {
  "kernelspec": {
   "display_name": "Python 3",
   "language": "python",
   "name": "python3"
  },
  "language_info": {
   "codemirror_mode": {
    "name": "ipython",
    "version": 3
   },
   "file_extension": ".py",
   "mimetype": "text/x-python",
   "name": "python",
   "nbconvert_exporter": "python",
   "pygments_lexer": "ipython3",
   "version": "3.9.5"
  }
 },
 "nbformat": 4,
 "nbformat_minor": 5
}
