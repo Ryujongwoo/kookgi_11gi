{
 "cells": [
  {
   "cell_type": "code",
   "execution_count": 1,
   "id": "165461e2",
   "metadata": {},
   "outputs": [],
   "source": [
    "# stackModule 전체를 import 시켰기때문에 Stack 클래스를 사용하려면 앞에 '모듈이름.'을 붙여서 사용해야 한다.\n",
    "# import stackModule\n",
    "# stack = stackModule.Stack()\n",
    "# stack.view()"
   ]
  },
  {
   "cell_type": "code",
   "execution_count": 3,
   "id": "80e23c83",
   "metadata": {},
   "outputs": [
    {
     "name": "stdout",
     "output_type": "stream",
     "text": [
      "스택에 저장된 데이터 => 없음\n"
     ]
    }
   ],
   "source": [
    "# stackModule 모듈의 Stack 클래스만 import 시켜서 사용한다.\n",
    "# Stack 클래스 자체를 import 시켰으므로 위의 경우처럼 '모듈이름.'을 붙일 필요없이 바로 사용할 수 있다.\n",
    "from stackModule import Stack\n",
    "stack = Stack()\n",
    "stack.view()"
   ]
  },
  {
   "cell_type": "code",
   "execution_count": 6,
   "id": "2c16597c",
   "metadata": {
    "scrolled": false
   },
   "outputs": [
    {
     "name": "stdout",
     "output_type": "stream",
     "text": [
      "===============================\n",
      " 1.push  2.pop  3.view  4.종료 \n",
      "===============================\n",
      "원하는 메뉴를 입력하고 Enter키를 누르세요: 3\n",
      "스택에 저장된 데이터 => 없음\n",
      "===============================\n",
      " 1.push  2.pop  3.view  4.종료 \n",
      "===============================\n",
      "원하는 메뉴를 입력하고 Enter키를 누르세요: 1\n",
      "스택에 저장할 데이터: 777\n",
      "스택에 저장된 데이터 => 777 \n",
      "===============================\n",
      " 1.push  2.pop  3.view  4.종료 \n",
      "===============================\n",
      "원하는 메뉴를 입력하고 Enter키를 누르세요: 1\n",
      "스택에 저장할 데이터: 333\n",
      "스택에 저장된 데이터 => 777 333 \n",
      "===============================\n",
      " 1.push  2.pop  3.view  4.종료 \n",
      "===============================\n",
      "원하는 메뉴를 입력하고 Enter키를 누르세요: 999\n",
      "메뉴는 1 ~ 4 사이의 값만 입력해야 합니다.\n",
      "===============================\n",
      " 1.push  2.pop  3.view  4.종료 \n",
      "===============================\n",
      "원하는 메뉴를 입력하고 Enter키를 누르세요: 1\n",
      "스택에 저장할 데이터: 999\n",
      "스택에 저장된 데이터 => 777 333 999 \n",
      "===============================\n",
      " 1.push  2.pop  3.view  4.종료 \n",
      "===============================\n",
      "원하는 메뉴를 입력하고 Enter키를 누르세요: 1\n",
      "스택에 저장할 데이터: 444\n",
      "스택에 저장된 데이터 => 777 333 999 444 \n",
      "===============================\n",
      " 1.push  2.pop  3.view  4.종료 \n",
      "===============================\n",
      "원하는 메뉴를 입력하고 Enter키를 누르세요: 1\n",
      "스택에 저장할 데이터: 777\n",
      "777는(은) 중복되는 데이터입니다.\n",
      "스택에 저장된 데이터 => 777 333 999 444 \n",
      "===============================\n",
      " 1.push  2.pop  3.view  4.종료 \n",
      "===============================\n",
      "원하는 메뉴를 입력하고 Enter키를 누르세요: 1\n",
      "스택에 저장할 데이터: 111\n",
      "스택에 저장된 데이터 => 777 333 999 444 111 \n",
      "===============================\n",
      " 1.push  2.pop  3.view  4.종료 \n",
      "===============================\n",
      "원하는 메뉴를 입력하고 Enter키를 누르세요: 1\n",
      "스택에 저장할 데이터: 222\n",
      "overflow 발생... 스택이 가득차서 222를(을) 저장할 수 없습니다.\n",
      "스택에 저장된 데이터 => 777 333 999 444 111 \n",
      "===============================\n",
      " 1.push  2.pop  3.view  4.종료 \n",
      "===============================\n",
      "원하는 메뉴를 입력하고 Enter키를 누르세요: 3\n",
      "스택에 저장된 데이터 => 777 333 999 444 111 \n",
      "===============================\n",
      " 1.push  2.pop  3.view  4.종료 \n",
      "===============================\n",
      "원하는 메뉴를 입력하고 Enter키를 누르세요: 3\n",
      "스택에 저장된 데이터 => 777 333 999 444 111 \n",
      "===============================\n",
      " 1.push  2.pop  3.view  4.종료 \n",
      "===============================\n",
      "원하는 메뉴를 입력하고 Enter키를 누르세요: 2\n",
      "pop 데이터: 111\n",
      "스택에 저장된 데이터 => 777 333 999 444 \n",
      "===============================\n",
      " 1.push  2.pop  3.view  4.종료 \n",
      "===============================\n",
      "원하는 메뉴를 입력하고 Enter키를 누르세요: 2\n",
      "pop 데이터: 444\n",
      "스택에 저장된 데이터 => 777 333 999 \n",
      "===============================\n",
      " 1.push  2.pop  3.view  4.종료 \n",
      "===============================\n",
      "원하는 메뉴를 입력하고 Enter키를 누르세요: 2\n",
      "pop 데이터: 999\n",
      "스택에 저장된 데이터 => 777 333 \n",
      "===============================\n",
      " 1.push  2.pop  3.view  4.종료 \n",
      "===============================\n",
      "원하는 메뉴를 입력하고 Enter키를 누르세요: 2\n",
      "pop 데이터: 333\n",
      "스택에 저장된 데이터 => 777 \n",
      "===============================\n",
      " 1.push  2.pop  3.view  4.종료 \n",
      "===============================\n",
      "원하는 메뉴를 입력하고 Enter키를 누르세요: 2\n",
      "pop 데이터: 777\n",
      "스택에 저장된 데이터 => 없음\n",
      "===============================\n",
      " 1.push  2.pop  3.view  4.종료 \n",
      "===============================\n",
      "원하는 메뉴를 입력하고 Enter키를 누르세요: 2\n",
      "스택에 저장된 데이터가 없습니다.\n",
      "===============================\n",
      " 1.push  2.pop  3.view  4.종료 \n",
      "===============================\n",
      "원하는 메뉴를 입력하고 Enter키를 누르세요: 4\n",
      "프로그램을 종료합니다. 바이바이~~~~~\n"
     ]
    }
   ],
   "source": [
    "menu = 0\n",
    "while menu != 4:\n",
    "    while True:\n",
    "        print('=' * 31)\n",
    "        print(' 1.push  2.pop  3.view  4.종료 ')\n",
    "        print('=' * 31)\n",
    "        menu = int(input('원하는 메뉴를 입력하고 Enter키를 누르세요: '))\n",
    "        if menu in [1, 2, 3, 4]:\n",
    "            break\n",
    "        else:\n",
    "            print('메뉴는 1 ~ 4 사이의 값만 입력해야 합니다.')\n",
    "    # ===== while True     \n",
    "\n",
    "    if menu == 1:\n",
    "        data = input('스택에 저장할 데이터: ')\n",
    "        stack.push(data)\n",
    "    elif menu == 2:\n",
    "        stack.pop()\n",
    "    elif menu == 3:\n",
    "        stack.view()\n",
    "# ===== while menu != 4\n",
    "print('프로그램을 종료합니다. 바이바이~~~~~')"
   ]
  },
  {
   "cell_type": "code",
   "execution_count": null,
   "id": "77474237",
   "metadata": {},
   "outputs": [],
   "source": []
  },
  {
   "cell_type": "code",
   "execution_count": null,
   "id": "2ca2f526",
   "metadata": {},
   "outputs": [],
   "source": []
  },
  {
   "cell_type": "code",
   "execution_count": null,
   "id": "db3e5eeb",
   "metadata": {},
   "outputs": [],
   "source": []
  },
  {
   "cell_type": "code",
   "execution_count": null,
   "id": "ba6d93cb",
   "metadata": {},
   "outputs": [],
   "source": []
  },
  {
   "cell_type": "code",
   "execution_count": null,
   "id": "4b4a0b45",
   "metadata": {},
   "outputs": [],
   "source": []
  },
  {
   "cell_type": "code",
   "execution_count": null,
   "id": "d92c1d51",
   "metadata": {},
   "outputs": [],
   "source": []
  },
  {
   "cell_type": "code",
   "execution_count": null,
   "id": "5d2eee54",
   "metadata": {},
   "outputs": [],
   "source": []
  }
 ],
 "metadata": {
  "kernelspec": {
   "display_name": "Python 3",
   "language": "python",
   "name": "python3"
  },
  "language_info": {
   "codemirror_mode": {
    "name": "ipython",
    "version": 3
   },
   "file_extension": ".py",
   "mimetype": "text/x-python",
   "name": "python",
   "nbconvert_exporter": "python",
   "pygments_lexer": "ipython3",
   "version": "3.9.5"
  }
 },
 "nbformat": 4,
 "nbformat_minor": 5
}
