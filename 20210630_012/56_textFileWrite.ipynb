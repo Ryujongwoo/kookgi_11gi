{
 "cells": [
  {
   "cell_type": "markdown",
   "id": "75645586",
   "metadata": {},
   "source": [
    "파이썬을 이용해서 텍스트 파일을 처리할 경우 파일 탐색기에서 아래의 설정이 되어있나 확인한다.  \n",
    "windows 10: 파일 탐색기 => 보기 메뉴 => 파일 확정명에 체크  \n",
    "windows 7, 8: 파일 탐색기 => 보기 메뉴 => 폴더 및 검색 옵션 변경 => 보기 탭 => 알려진 파일 형식의 ~~~~ 체크 해제"
   ]
  },
  {
   "cell_type": "markdown",
   "id": "87cf79a8",
   "metadata": {},
   "source": [
    "파일 열기  \n",
    "파일변수 = open('텍스트 파일 이름', '파일 열기 mode')  \n",
    "파일 열기 mode => w(write, 쓰기 모드), a(append, 쓰기(추가) 모드), r(read, 읽기 모드)  \n",
    "w는 지정된 경로에 파일이 없으면 파일을 만든 후 저장하고 파일이 있으면 기존의 모든 데이터를 지우고 다시 저장한다. => 덮어쓰기  \n",
    "a는 지정된 경로에 파일이 없으면 파일을 만든 후 저장하고 파일이 있드면 기존의 데이터 뒤에 추가해서 저장한다.  \n",
    "r을 지정된 경로에 파일이 없으면 에러가 발생된다.  \n",
    "w, a 모드로 파일을 열어서 작업했으면 반드시 파일을 close() 메소드로 닫아야 하고 r모드로 열어서 작업했으면 닫지 않아도 상관없다."
   ]
  },
  {
   "cell_type": "code",
   "execution_count": 1,
   "id": "5e6f0c9d",
   "metadata": {},
   "outputs": [
    {
     "name": "stdout",
     "output_type": "stream",
     "text": [
      "data.txt 파일에 쓰기 완료\n"
     ]
    }
   ],
   "source": [
    "# open() 함수에 파일 이름만 쓰면 현재 작업중인 프로그램이 위치한 경로에 위치한 파일이라는 의미이다.\n",
    "# open('data.txt', 'w') 형식을 사용해 파일을 open할 때 cp949라는 메시지가 보이며 한글 인코딩 문제로 에러가 발생되면 \n",
    "# open('data.txt', 'w', -1, 'utf-8') 형식을 사용해서 파일을 열면 된다.\n",
    "file = open('data.txt', 'w')\n",
    "for i in range(10):\n",
    "    # write() 메소드로 텍스트 파일에 출력한다.\n",
    "    # 출력할 때 끝에 개행 문자('\\n')을 붙여줘야 텍스트 파일에 데이터가 저장될 때 줄이 바뀐다.\n",
    "    file.write('꺄아~~~~~' + '\\n')\n",
    "file.close()\n",
    "print('data.txt 파일에 쓰기 완료')"
   ]
  },
  {
   "cell_type": "markdown",
   "id": "bb7a07d7",
   "metadata": {},
   "source": [
    "경로 지정 방법 => 절대 경로 지정 방식과 상대 경로 지정 방식이 있다.  \n",
    "절대 경로는 디스크 드라이브의 최상위(root) 폴더(디렉토리)부터 텍스트 파일이 저장된 폴더까지의 경로를 의미한다.  \n",
    "상대 경로는 현재 화면에 표시되는 소스 파일이 위치한 폴더부터 텍스트 파일이 저장된 폴더까지의 경로를 의미한다."
   ]
  },
  {
   "cell_type": "code",
   "execution_count": 2,
   "id": "8476a31b",
   "metadata": {},
   "outputs": [],
   "source": [
    "# 현재 작업중인 소스 프로그램이 위치한 경로가 아닌 다른 경로에 파일을 저장하려면 반드시 파일이 저장될 경로를 지정해야 한다.\n",
    "# D:\\kookgi_11gi\\PythonBasic\\workspace\\data\\data.txt => 절대 경로\n",
    "# 위와 같이 경로를 지정했을 때 오류가 발생되면 '\\'를 '\\\\' 또는 '/'로 수정한다.\n",
    "# D:\\\\kookgi_11gi\\\\PythonBasic\\\\workspace\\\\data\\\\data.txt => 절대 경로\n",
    "# D:/kookgi_11gi/PythonBasic/workspace/data/data.txt => 절대 경로\n",
    "\n",
    "# '.'  => 현재 화면에 표시되는 소스 파일이 저장된 폴더\n",
    "# '..' => 현재 화면에 표시되는 소스 파일이 저장된 폴더의 한 단계 상위 푤더\n",
    "# ./data/data.txt => 상대 경로"
   ]
  },
  {
   "cell_type": "code",
   "execution_count": 3,
   "id": "1754f9ec",
   "metadata": {},
   "outputs": [
    {
     "name": "stdout",
     "output_type": "stream",
     "text": [
      "data.txt 파일에 쓰기 완료\n"
     ]
    }
   ],
   "source": [
    "file = open('./data/data.txt', 'w')\n",
    "for i in range(10):\n",
    "    file.write('꺄아~~~~~' + '\\n')\n",
    "file.close()\n",
    "print('data.txt 파일에 쓰기 완료')"
   ]
  },
  {
   "cell_type": "code",
   "execution_count": 4,
   "id": "7b04b1f7",
   "metadata": {},
   "outputs": [
    {
     "name": "stdout",
     "output_type": "stream",
     "text": [
      ">>> jk;fsdlkj;sdflk;ds\n",
      ">>> jkfdsjkjkds\n",
      ">>> dfsjlkfdkjldfs\n",
      ">>> asjklkjldf\n",
      ">>> quit\n",
      "data.txt 파일에 쓰기 완료\n"
     ]
    }
   ],
   "source": [
    "# 키보드로 입력한 문자열을 텍스트 파일로 저장한다.\n",
    "# 'quit'가 입력되면 저장을 종료한다. => 'quit'가 대문자로 입력되던 소문자로 입력되던 종료되어야 한다.\n",
    "file = open('./data/data.txt', 'w')\n",
    "while True:\n",
    "    string = input('>>> ')\n",
    "    if string.upper() == 'QUIT':\n",
    "        break\n",
    "    file.write(string + '\\n')\n",
    "file.close()\n",
    "print('data.txt 파일에 쓰기 완료')"
   ]
  },
  {
   "cell_type": "code",
   "execution_count": 5,
   "id": "c535b8cc",
   "metadata": {},
   "outputs": [
    {
     "name": "stdout",
     "output_type": "stream",
     "text": [
      ">>> ㅓㅏㅣ;ㄹㄴ어ㅏㅣㄹㄴ어ㅏㅣㄴㅇㄹ\n",
      ">>> ㄹㄴ어ㅏㅣㅓㅏㅣㅇㄴㄹ\n",
      ">>> ㅓㅏㅣㄴㄹ어ㅏㅣㄹㄴㅇ\n",
      ">>> ㅓㅣㅏㄹㄴ어ㅏㅣㅁ\n",
      ">>> quit\n",
      "data.txt 파일에 쓰기 완료\n"
     ]
    }
   ],
   "source": [
    "# with 구문을 사용해서 파일을 open 시키면 with 구문 내부의 내용이 모두 실행되고 난 후 자동으로 파일을 닫아준다.\n",
    "with open('./data/data.txt', 'w') as file:\n",
    "    while True:\n",
    "        string = input('>>> ')\n",
    "        if string.upper() == 'QUIT':\n",
    "            break\n",
    "        file.write(string + '\\n')\n",
    "    # =====\n",
    "    # file.close()\n",
    "print('data.txt 파일에 쓰기 완료')"
   ]
  },
  {
   "cell_type": "code",
   "execution_count": 6,
   "id": "5f834859",
   "metadata": {},
   "outputs": [
    {
     "name": "stdout",
     "output_type": "stream",
     "text": [
      ">>> dksfjsklf\n",
      ">>> sdklfj;lfksd\n",
      ">>> ewkrjwkledf\n",
      ">>> jklsfdjklfsdjklsdf\n",
      ">>> quit\n",
      "data.txt 파일에 추가 완료\n"
     ]
    }
   ],
   "source": [
    "with open('./data/data.txt', 'a') as file:\n",
    "    while True:\n",
    "        string = input('>>> ')\n",
    "        if string.upper() == 'QUIT':\n",
    "            break\n",
    "        file.write(string + '\\n')\n",
    "print('data.txt 파일에 추가 완료')"
   ]
  },
  {
   "cell_type": "code",
   "execution_count": null,
   "id": "f8fc85d8",
   "metadata": {},
   "outputs": [],
   "source": []
  },
  {
   "cell_type": "code",
   "execution_count": null,
   "id": "4858900c",
   "metadata": {},
   "outputs": [],
   "source": []
  },
  {
   "cell_type": "code",
   "execution_count": null,
   "id": "ec27ce75",
   "metadata": {},
   "outputs": [],
   "source": []
  },
  {
   "cell_type": "code",
   "execution_count": null,
   "id": "7b970351",
   "metadata": {},
   "outputs": [],
   "source": []
  },
  {
   "cell_type": "code",
   "execution_count": null,
   "id": "d61f0b6e",
   "metadata": {},
   "outputs": [],
   "source": []
  },
  {
   "cell_type": "code",
   "execution_count": null,
   "id": "ab782cdc",
   "metadata": {},
   "outputs": [],
   "source": []
  },
  {
   "cell_type": "code",
   "execution_count": null,
   "id": "7f68f6b7",
   "metadata": {},
   "outputs": [],
   "source": []
  }
 ],
 "metadata": {
  "kernelspec": {
   "display_name": "Python 3",
   "language": "python",
   "name": "python3"
  },
  "language_info": {
   "codemirror_mode": {
    "name": "ipython",
    "version": 3
   },
   "file_extension": ".py",
   "mimetype": "text/x-python",
   "name": "python",
   "nbconvert_exporter": "python",
   "pygments_lexer": "ipython3",
   "version": "3.9.5"
  }
 },
 "nbformat": 4,
 "nbformat_minor": 5
}
