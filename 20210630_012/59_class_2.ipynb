{
 "cells": [
  {
   "cell_type": "code",
   "execution_count": 1,
   "id": "a17f02fb",
   "metadata": {},
   "outputs": [],
   "source": [
    "import math"
   ]
  },
  {
   "cell_type": "code",
   "execution_count": 3,
   "id": "aa85a86f",
   "metadata": {},
   "outputs": [
    {
     "name": "stdout",
     "output_type": "stream",
     "text": [
      "3.141592653589793\n"
     ]
    }
   ],
   "source": [
    "print(math.pi)"
   ]
  },
  {
   "cell_type": "code",
   "execution_count": 16,
   "id": "8a2e3f04",
   "metadata": {},
   "outputs": [],
   "source": [
    "# 반지름을 인수로 넘겨받아 원의 너비와 둘레를 계산하는 함수를 포함하는 클래스\n",
    "class Circle:\n",
    "    def __init__(self, radius = 1):\n",
    "        self.radius = radius\n",
    "        \n",
    "    def __str__(self):\n",
    "        return '반지름: {}'.format(self.radius)\n",
    "    \n",
    "    # 원의 둘레를 계산해서 출력하는 함수\n",
    "    def roundCircle(self):\n",
    "        print('반지름이 {}인 원의 둘레는 {} 입니다.'.format(self.radius, 2 * math.pi * self.radius))\n",
    "    \n",
    "    # 원의 너비를 계산해서 출력하는 함수\n",
    "    def areaCircle(self):\n",
    "        print('반지름이 {}인 원의 너비는 {} 입니다.'.format(self.radius, math.pi * self.radius ** 2))"
   ]
  },
  {
   "cell_type": "code",
   "execution_count": 19,
   "id": "d7aa38ec",
   "metadata": {},
   "outputs": [
    {
     "name": "stdout",
     "output_type": "stream",
     "text": [
      "반지름: 5.5\n",
      "반지름이 5.5인 원의 둘레는 34.55751918948772 입니다.\n",
      "반지름이 5.5인 원의 너비는 95.03317777109125 입니다.\n"
     ]
    }
   ],
   "source": [
    "circle1 = Circle(5.5)\n",
    "print(circle1)\n",
    "circle1.roundCircle()\n",
    "circle1.areaCircle()"
   ]
  },
  {
   "cell_type": "code",
   "execution_count": null,
   "id": "ce8e9565",
   "metadata": {},
   "outputs": [],
   "source": []
  },
  {
   "cell_type": "code",
   "execution_count": null,
   "id": "1047a394",
   "metadata": {},
   "outputs": [],
   "source": []
  },
  {
   "cell_type": "code",
   "execution_count": null,
   "id": "6e57cf0b",
   "metadata": {},
   "outputs": [],
   "source": []
  },
  {
   "cell_type": "code",
   "execution_count": null,
   "id": "a8bff19c",
   "metadata": {},
   "outputs": [],
   "source": []
  }
 ],
 "metadata": {
  "kernelspec": {
   "display_name": "Python 3",
   "language": "python",
   "name": "python3"
  },
  "language_info": {
   "codemirror_mode": {
    "name": "ipython",
    "version": 3
   },
   "file_extension": ".py",
   "mimetype": "text/x-python",
   "name": "python",
   "nbconvert_exporter": "python",
   "pygments_lexer": "ipython3",
   "version": "3.9.5"
  }
 },
 "nbformat": 4,
 "nbformat_minor": 5
}
