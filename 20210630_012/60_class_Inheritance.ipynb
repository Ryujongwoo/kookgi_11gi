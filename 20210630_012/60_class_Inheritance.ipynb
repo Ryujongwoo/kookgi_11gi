{
 "cells": [
  {
   "cell_type": "code",
   "execution_count": 14,
   "id": "eb6c4a7e",
   "metadata": {},
   "outputs": [],
   "source": [
    "# 부모(상위, 슈퍼, 기반) 클래스\n",
    "class Parent:\n",
    "    def __init__(self, name = '무명씨', gender = False):\n",
    "        print('부모 클래스의 생성자 실행')\n",
    "        self.name = name\n",
    "        self.gender = gender\n",
    "        \n",
    "    def __str__(self):\n",
    "        return '{}({})'.format(self.name, '남' if self.gender else '여')"
   ]
  },
  {
   "cell_type": "code",
   "execution_count": 15,
   "id": "ec500048",
   "metadata": {},
   "outputs": [
    {
     "name": "stdout",
     "output_type": "stream",
     "text": [
      "부모 클래스의 생성자 실행\n",
      "무명씨(여)\n",
      "부모 클래스의 생성자 실행\n",
      "홍길동(남)\n",
      "부모 클래스의 생성자 실행\n",
      "향단이(여)\n"
     ]
    }
   ],
   "source": [
    "# 부모 클래스가 잘 생성되었나 확인한다.\n",
    "parent1 = Parent()\n",
    "print(parent1)\n",
    "parent2 = Parent('홍길동', True)\n",
    "print(parent2)\n",
    "parent3 = Parent('향단이', False)\n",
    "print(parent3)"
   ]
  },
  {
   "cell_type": "markdown",
   "id": "baef3261",
   "metadata": {},
   "source": [
    "클래스 상속  \n",
    "상속이란 부모 클래스에서 정의한 멤버 변수와 함수를 자식 클래스에서 별도로 정의하지 않고도 정의한 것 처럼 사용할 수 있게 해주는 기능을 말한다."
   ]
  },
  {
   "cell_type": "markdown",
   "id": "adc0786d",
   "metadata": {},
   "source": [
    "상속의 형식  \n",
    "class 자식클래스이름(부모클래스이름)"
   ]
  },
  {
   "cell_type": "code",
   "execution_count": 26,
   "id": "89f04e54",
   "metadata": {},
   "outputs": [],
   "source": [
    "# 자식(하위, 서브, 파생) 클래스\n",
    "# 부모(Parent) 클래스를 상속받는 자식(Child) 클래스를 만든다.\n",
    "class Child(Parent):\n",
    "    # 부모 클래스로 부터 __init__(self, name = '무명씨', gender = False), __str__(self), self.name, self.gender를 상속받았\n",
    "    # 으므로 별도의 선언 과정 없이 사용할 수 있다.\n",
    "    # 부모 클래스로 부터 상속받은 함수의 기능만으로는 자식 클래스에서 사용하기에 불충분하기 때문에 자식 클래스에서 다시 만들어\n",
    "    # 사용해야 한다. => 함수 재정의 => override\n",
    "    def __init__(self, name = '무명씨', gender = False, age = 0, nickname = '없음'):\n",
    "        # 부모 클래스로 부터 상속받은 멤버 변수는 부모 클래스의 생성자를 호출해서 초기화시킨다.\n",
    "        # super() => 부모 클래스를 의미한다.\n",
    "        super().__init__(name, gender)\n",
    "        print('자식 클래스의 생성자 실행')\n",
    "        # 자식 클래스에서 필요한 멤버 변수를 선언하고 초기화시킨다.\n",
    "        self.age = age\n",
    "        self.nickname = nickname\n",
    "        \n",
    "    def __str__(self):\n",
    "        return '{}({}) - {}, {}'.format(self.name, '남' if self.gender else '여', self.age, self.nickname)"
   ]
  },
  {
   "cell_type": "code",
   "execution_count": 27,
   "id": "b1eb075b",
   "metadata": {},
   "outputs": [
    {
     "name": "stdout",
     "output_type": "stream",
     "text": [
      "부모 클래스의 생성자 실행\n",
      "자식 클래스의 생성자 실행\n",
      "임꺽정(남) - 35, 도적넘\n",
      "임꺽정\n",
      "True\n"
     ]
    }
   ],
   "source": [
    "child1 = Child('임꺽정', True, 35, '도적넘')\n",
    "print(child1)\n",
    "print(child1.name)\n",
    "print(child1.gender)"
   ]
  },
  {
   "cell_type": "code",
   "execution_count": null,
   "id": "18c5c354",
   "metadata": {},
   "outputs": [],
   "source": []
  },
  {
   "cell_type": "code",
   "execution_count": null,
   "id": "2e7d1419",
   "metadata": {},
   "outputs": [],
   "source": []
  },
  {
   "cell_type": "code",
   "execution_count": null,
   "id": "006945ea",
   "metadata": {},
   "outputs": [],
   "source": []
  },
  {
   "cell_type": "code",
   "execution_count": null,
   "id": "0d0b5e7b",
   "metadata": {},
   "outputs": [],
   "source": []
  },
  {
   "cell_type": "code",
   "execution_count": null,
   "id": "6df06f69",
   "metadata": {},
   "outputs": [],
   "source": []
  }
 ],
 "metadata": {
  "kernelspec": {
   "display_name": "Python 3",
   "language": "python",
   "name": "python3"
  },
  "language_info": {
   "codemirror_mode": {
    "name": "ipython",
    "version": 3
   },
   "file_extension": ".py",
   "mimetype": "text/x-python",
   "name": "python",
   "nbconvert_exporter": "python",
   "pygments_lexer": "ipython3",
   "version": "3.9.5"
  }
 },
 "nbformat": 4,
 "nbformat_minor": 5
}
